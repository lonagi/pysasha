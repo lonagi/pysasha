{
 "cells": [
  {
   "cell_type": "markdown",
   "metadata": {},
   "source": [
    "# Квази-дружественные числа. Исследование"
   ]
  },
  {
   "cell_type": "markdown",
   "metadata": {},
   "source": [
    "(или просто Обручённые числа)"
   ]
  },
  {
   "cell_type": "markdown",
   "metadata": {},
   "source": [
    "### #Занимательная Математика\n",
    "\n",
    "#### Весь код на Github, ссылка в конце статьи!"
   ]
  },
  {
   "cell_type": "markdown",
   "metadata": {},
   "source": [
    "Импорт библиотек"
   ]
  },
  {
   "cell_type": "code",
   "execution_count": 1,
   "metadata": {
    "ExecuteTime": {
     "end_time": "2020-06-27T23:02:08.040365Z",
     "start_time": "2020-06-27T23:02:06.445426Z"
    }
   },
   "outputs": [],
   "source": [
    "from IPython.display import Image\n",
    "from IPython.core.display import HTML \n",
    "from IPython.core.interactiveshell import InteractiveShell\n",
    "from scipy.ndimage.filters import gaussian_filter1d\n",
    "from scipy.signal import savgol_filter\n",
    "import numpy as np\n",
    "import sympy as sp\n",
    "import pandas as pd\n",
    "import random as r\n",
    "import time\n",
    "import matplotlib.pyplot as plt\n",
    "import ipyturtle as turtle\n",
    "#InteractiveShell.ast_node_interactivity = \"all\"\n",
    "\n",
    "def drawPlot(ss,title=\"Скорости\",y=\"Секунд\",x=\"Номер итерации\"):\n",
    "    fig,ax=plt.subplots(figsize=(6,6))\n",
    "    ax.set_facecolor(\"#F2F2F2\")\n",
    "    ax.grid()\n",
    "    ax.set_title(title)\n",
    "    ax.set_ylabel(y)\n",
    "    ax.set_xlabel(x)\n",
    "    ax.plot(ss)"
   ]
  },
  {
   "cell_type": "code",
   "execution_count": 2,
   "metadata": {
    "ExecuteTime": {
     "end_time": "2020-06-27T23:02:08.050602Z",
     "start_time": "2020-06-27T23:02:08.043294Z"
    }
   },
   "outputs": [
    {
     "data": {
      "text/html": [
       "<img src=\"https://seosreda.com.ua/wp-content/uploads/2018/12/404-1280x720.png\" width=\"400\"/>"
      ],
      "text/plain": [
       "<IPython.core.display.Image object>"
      ]
     },
     "execution_count": 2,
     "metadata": {},
     "output_type": "execute_result"
    }
   ],
   "source": [
    "Image(url=\"https://seosreda.com.ua/wp-content/uploads/2018/12/404-1280x720.png\", width=400)"
   ]
  },
  {
   "cell_type": "markdown",
   "metadata": {},
   "source": [
    "Квази-дружественные числа это два положительных целых числа, для которых сумма собственных делителей каждого числа на 1 больше, чем второе число.  \n",
    "\n",
    "Вот так вот они стоят рядом ☺  \n",
    "\n",
    "Не имеют большого значения для теории чисел, однако являются интересным элементом занимательной математики. Что и есть интересно для нас :)"
   ]
  },
  {
   "cell_type": "code",
   "execution_count": 3,
   "metadata": {
    "ExecuteTime": {
     "end_time": "2020-06-27T23:02:08.271715Z",
     "start_time": "2020-06-27T23:02:08.053781Z"
    }
   },
   "outputs": [],
   "source": [
    "def Divisors(num): \n",
    "    from math import sqrt as mmsq\n",
    "    s=set([1])\n",
    "    i=1\n",
    "    a=int(mmsq(num)+1)\n",
    "    while i<=a: \n",
    "        if(num//i==num):\n",
    "            i+=1\n",
    "            continue\n",
    "        if (num%i==0): \n",
    "            if (num//i!=i): \n",
    "                s.add(num//i)\n",
    "            s.add(i)\n",
    "        i+=1\n",
    "    return s"
   ]
  },
  {
   "cell_type": "code",
   "execution_count": 4,
   "metadata": {
    "ExecuteTime": {
     "end_time": "2020-06-27T23:02:08.503340Z",
     "start_time": "2020-06-27T23:02:08.275532Z"
    }
   },
   "outputs": [
    {
     "data": {
      "text/plain": [
       "({1, 2, 3, 6, 13, 26, 39}, ' #Делители числа 75')"
      ]
     },
     "execution_count": 4,
     "metadata": {},
     "output_type": "execute_result"
    }
   ],
   "source": [
    "Divisors(48),\" #Делители числа 48\"\n",
    "Divisors(78),\" #Делители числа 75\""
   ]
  },
  {
   "cell_type": "code",
   "execution_count": 5,
   "metadata": {
    "ExecuteTime": {
     "end_time": "2020-06-27T23:02:08.648577Z",
     "start_time": "2020-06-27T23:02:08.506590Z"
    }
   },
   "outputs": [
    {
     "data": {
      "text/plain": [
       "49"
      ]
     },
     "execution_count": 5,
     "metadata": {},
     "output_type": "execute_result"
    }
   ],
   "source": [
    "sum(Divisors(48))\n",
    "sum(Divisors(75))"
   ]
  },
  {
   "cell_type": "markdown",
   "metadata": {},
   "source": [
    "И что мы наблюдаем? Сумма собственных делителей у 48 выдало нам 76, что на единицу больше, чем 75. А у 75 сумма выдала 49. Вот и элементарный пример!)"
   ]
  },
  {
   "cell_type": "markdown",
   "metadata": {},
   "source": [
    "И этот пример является первым представителем пар в множестве обручённых чисел!"
   ]
  },
  {
   "cell_type": "markdown",
   "metadata": {},
   "source": [
    "## Факты"
   ]
  },
  {
   "cell_type": "markdown",
   "metadata": {},
   "source": [
    "1) Все известные пары обручённых чисел имеют противоположную чётность.  \n",
    "\n",
    "2) Неизвестно, конечно или бесконечно количество пар обручённых чисел.  "
   ]
  },
  {
   "cell_type": "markdown",
   "metadata": {},
   "source": [
    "## Алгоритмы "
   ]
  },
  {
   "cell_type": "markdown",
   "metadata": {},
   "source": [
    "Первый алгоритм, который я решил сделать, это когда мы используем метод перебора. Простой брут форс."
   ]
  },
  {
   "cell_type": "code",
   "execution_count": 6,
   "metadata": {
    "ExecuteTime": {
     "end_time": "2020-06-27T23:02:08.838379Z",
     "start_time": "2020-06-27T23:02:08.651584Z"
    }
   },
   "outputs": [],
   "source": [
    "##Brute force Method\n",
    "def BetrothedNumber(k,ratio=5.5,ratio2=5.5,order=1,returni=False):  \n",
    "    ##All divisors for all numbers\n",
    "    allDels=dict()\n",
    "    \n",
    "    ###Second number is greater than first number\n",
    "    from itertools import chain\n",
    "    concatenated = chain( range(k, int(k*ratio)+1 ),range(k, int(k/ratio2)+1 ,-1) )\n",
    "    for i in concatenated:\n",
    "\n",
    "        ###We don't want repeat operations\n",
    "        ###Therefore search and save all divisors\n",
    "        if(str(i) not in allDels):\n",
    "            allDels[str(i)] = Divisors(i)\n",
    "\n",
    "        ###Sum1+order_num = 2nd Num and Sum2+order_num = 1st Nub\n",
    "        if(i != k and sum(allDels[str(i)]) == k+order and sum(allDels[str(k)]) == i+order):\n",
    "            if(returni):\n",
    "                return (k,i)\n",
    "            else:\n",
    "                print(k,\"->\",i)"
   ]
  },
  {
   "cell_type": "markdown",
   "metadata": {},
   "source": [
    "Особенность этого метода в том, что мы берём по порядку натуральное число, а затем в выбранном диапазоне перебираем числа в качестве пары.    \n",
    "  \n",
    "Каким образом я выбрал диапазон?  \n",
    "\n",
    "Позже ещё расскажу"
   ]
  },
  {
   "cell_type": "code",
   "execution_count": 7,
   "metadata": {
    "ExecuteTime": {
     "end_time": "2020-06-27T23:02:08.949690Z",
     "start_time": "2020-06-27T23:02:08.841579Z"
    }
   },
   "outputs": [
    {
     "name": "stdout",
     "output_type": "stream",
     "text": [
      "48 -> 75\n"
     ]
    }
   ],
   "source": [
    "BetrothedNumber(1) # Ничего\n",
    "BetrothedNumber(48) # Нашли пару!"
   ]
  },
  {
   "cell_type": "markdown",
   "metadata": {},
   "source": [
    "Рассчитаем скорость выполнения данного алгоритма"
   ]
  },
  {
   "cell_type": "code",
   "execution_count": 8,
   "metadata": {
    "ExecuteTime": {
     "end_time": "2020-06-27T23:02:09.193205Z",
     "start_time": "2020-06-27T23:02:08.953077Z"
    }
   },
   "outputs": [
    {
     "name": "stdout",
     "output_type": "stream",
     "text": [
      "48 -> 75\n",
      "CPU times: user 1.49 ms, sys: 929 µs, total: 2.42 ms\n",
      "Wall time: 2.3 ms\n"
     ]
    }
   ],
   "source": [
    "%time BetrothedNumber(48)"
   ]
  },
  {
   "cell_type": "code",
   "execution_count": 9,
   "metadata": {
    "ExecuteTime": {
     "end_time": "2020-06-27T23:02:16.649804Z",
     "start_time": "2020-06-27T23:02:09.196361Z"
    }
   },
   "outputs": [
    {
     "name": "stdout",
     "output_type": "stream",
     "text": [
      "48 -> 75\n",
      "48 -> 75\n",
      "48 -> 75\n",
      "48 -> 75\n",
      "48 -> 75\n",
      "48 -> 75\n",
      "48 -> 75\n",
      "48 -> 75\n",
      "48 -> 75\n",
      "48 -> 75\n",
      "48 -> 75\n",
      "48 -> 75\n",
      "48 -> 75\n",
      "48 -> 75\n",
      "48 -> 75\n",
      "48 -> 75\n",
      "9.05 ns ± 0.146 ns per loop (mean ± std. dev. of 7 runs, 100000000 loops each)\n"
     ]
    }
   ],
   "source": [
    "%%timeit BetrothedNumber(48)\n",
    ";"
   ]
  },
  {
   "cell_type": "markdown",
   "metadata": {},
   "source": [
    "Такие вышли показатели для числа 48. Позже мы сравним с другим методом.   \n",
    "\n",
    "Но можно также, построить график, чтобы узнать скорость"
   ]
  },
  {
   "cell_type": "code",
   "execution_count": 10,
   "metadata": {
    "ExecuteTime": {
     "end_time": "2020-06-27T23:02:23.123318Z",
     "start_time": "2020-06-27T23:02:16.652785Z"
    }
   },
   "outputs": [
    {
     "name": "stdout",
     "output_type": "stream",
     "text": [
      "48 -> 75\n",
      "75 -> 48\n",
      "140 -> 195\n",
      "195 -> 140\n"
     ]
    }
   ],
   "source": [
    "s = np.array([])\n",
    "for i in range(1,500):\n",
    "    start_time = time.time()\n",
    "    BetrothedNumber(i)\n",
    "    end_time = (time.time() - start_time)\n",
    "    s=np.append(s,end_time)"
   ]
  },
  {
   "cell_type": "code",
   "execution_count": 11,
   "metadata": {
    "ExecuteTime": {
     "end_time": "2020-06-27T23:02:23.409469Z",
     "start_time": "2020-06-27T23:02:23.125782Z"
    }
   },
   "outputs": [
    {
     "data": {
      "image/png": "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\n",
      "text/plain": [
       "<Figure size 432x432 with 1 Axes>"
      ]
     },
     "metadata": {
      "needs_background": "light"
     },
     "output_type": "display_data"
    }
   ],
   "source": [
    "drawPlot(s)"
   ]
  },
  {
   "cell_type": "markdown",
   "metadata": {},
   "source": [
    "Изначально я думал, что это алгоритм O(n), но он не так сильно усложняется со временем. Хотя смущает, что если мы нашли пару, то оно задерживается намного сильнее."
   ]
  },
  {
   "cell_type": "markdown",
   "metadata": {},
   "source": [
    "Попробуем другой метод. Это тоже типо перебора, но здесь функция f(m,n), где мы подаём на вход два числа на проверку \"квази-дружбы\"."
   ]
  },
  {
   "cell_type": "code",
   "execution_count": 12,
   "metadata": {
    "ExecuteTime": {
     "end_time": "2020-06-27T23:02:23.420536Z",
     "start_time": "2020-06-27T23:02:23.412132Z"
    }
   },
   "outputs": [],
   "source": [
    "def BetrothedNumbers(m,n,order=1):\n",
    "    if(m!=n):\n",
    "        s1=set([1])\n",
    "        for i in range(int(m/2+1),1,-1):\n",
    "            if(m%i==0):\n",
    "                s1.add(i)\n",
    "        s2=set([1])\n",
    "        for i in range(int(n/2+1),1,-1):\n",
    "            if(n%i==0):\n",
    "                s2.add(i)\n",
    "        return sum(s1)==n+1 and sum(s2)+n==sum(s1)+m\n",
    "    else:\n",
    "        return False"
   ]
  },
  {
   "cell_type": "code",
   "execution_count": 13,
   "metadata": {
    "ExecuteTime": {
     "end_time": "2020-06-27T23:02:23.630613Z",
     "start_time": "2020-06-27T23:02:23.423027Z"
    }
   },
   "outputs": [
    {
     "data": {
      "text/plain": [
       "True"
      ]
     },
     "execution_count": 13,
     "metadata": {},
     "output_type": "execute_result"
    }
   ],
   "source": [
    "BetrothedNumbers(48,75)"
   ]
  },
  {
   "cell_type": "code",
   "execution_count": 14,
   "metadata": {
    "ExecuteTime": {
     "end_time": "2020-06-27T23:02:23.826313Z",
     "start_time": "2020-06-27T23:02:23.632550Z"
    }
   },
   "outputs": [
    {
     "name": "stdout",
     "output_type": "stream",
     "text": [
      "CPU times: user 45 µs, sys: 0 ns, total: 45 µs\n",
      "Wall time: 60.1 µs\n"
     ]
    },
    {
     "data": {
      "text/plain": [
       "True"
      ]
     },
     "execution_count": 14,
     "metadata": {},
     "output_type": "execute_result"
    }
   ],
   "source": [
    "%time BetrothedNumbers(48,75)"
   ]
  },
  {
   "cell_type": "code",
   "execution_count": 15,
   "metadata": {
    "ExecuteTime": {
     "end_time": "2020-06-27T23:02:29.434923Z",
     "start_time": "2020-06-27T23:02:23.830054Z"
    }
   },
   "outputs": [
    {
     "name": "stdout",
     "output_type": "stream",
     "text": [
      "6.62 µs ± 40.6 ns per loop (mean ± std. dev. of 7 runs, 100000 loops each)\n"
     ]
    }
   ],
   "source": [
    "%%timeit\n",
    "BetrothedNumbers(48,75)"
   ]
  },
  {
   "cell_type": "code",
   "execution_count": 16,
   "metadata": {
    "ExecuteTime": {
     "end_time": "2020-06-27T23:07:33.541273Z",
     "start_time": "2020-06-27T23:02:29.438535Z"
    }
   },
   "outputs": [
    {
     "name": "stdout",
     "output_type": "stream",
     "text": [
      "48 -> 75\n",
      "48 -> 75\n",
      "48 -> 75\n",
      "48 -> 75\n",
      "48 -> 75\n",
      "48 -> 75\n",
      "48 -> 75\n",
      "48 -> 75\n",
      "48 -> 75\n",
      "48 -> 75\n",
      "48 -> 75\n",
      "48 -> 75\n",
      "48 -> 75\n",
      "48 -> 75\n",
      "48 -> 75\n",
      "48 -> 75\n",
      "48 -> 75\n",
      "48 -> 75\n",
      "48 -> 75\n",
      "48 -> 75\n",
      "48 -> 75\n",
      "48 -> 75\n",
      "48 -> 75\n",
      "48 -> 75\n",
      "48 -> 75\n",
      "48 -> 75\n",
      "48 -> 75\n",
      "48 -> 75\n",
      "48 -> 75\n",
      "48 -> 75\n",
      "48 -> 75\n",
      "48 -> 75\n",
      "48 -> 75\n",
      "48 -> 75\n",
      "48 -> 75\n",
      "48 -> 75\n",
      "48 -> 75\n",
      "48 -> 75\n",
      "48 -> 75\n",
      "48 -> 75\n",
      "48 -> 75\n",
      "48 -> 75\n",
      "48 -> 75\n",
      "48 -> 75\n",
      "48 -> 75\n",
      "48 -> 75\n",
      "48 -> 75\n",
      "48 -> 75\n",
      "48 -> 75\n",
      "48 -> 75\n",
      "48 -> 75\n",
      "48 -> 75\n",
      "48 -> 75\n",
      "48 -> 75\n",
      "48 -> 75\n",
      "48 -> 75\n",
      "48 -> 75\n",
      "48 -> 75\n",
      "48 -> 75\n",
      "48 -> 75\n",
      "48 -> 75\n",
      "48 -> 75\n",
      "48 -> 75\n",
      "48 -> 75\n",
      "48 -> 75\n",
      "48 -> 75\n",
      "48 -> 75\n",
      "48 -> 75\n",
      "48 -> 75\n",
      "48 -> 75\n",
      "48 -> 75\n",
      "48 -> 75\n",
      "48 -> 75\n",
      "48 -> 75\n",
      "48 -> 75\n",
      "48 -> 75\n",
      "48 -> 75\n",
      "48 -> 75\n",
      "48 -> 75\n",
      "48 -> 75\n",
      "48 -> 75\n",
      "48 -> 75\n",
      "48 -> 75\n",
      "48 -> 75\n",
      "48 -> 75\n",
      "48 -> 75\n",
      "48 -> 75\n",
      "48 -> 75\n",
      "48 -> 75\n",
      "48 -> 75\n",
      "48 -> 75\n",
      "48 -> 75\n",
      "48 -> 75\n",
      "48 -> 75\n",
      "48 -> 75\n",
      "48 -> 75\n",
      "48 -> 75\n",
      "48 -> 75\n",
      "75 -> 48\n",
      "75 -> 48\n",
      "75 -> 48\n",
      "75 -> 48\n",
      "75 -> 48\n",
      "75 -> 48\n",
      "75 -> 48\n",
      "75 -> 48\n",
      "75 -> 48\n",
      "75 -> 48\n",
      "75 -> 48\n",
      "75 -> 48\n",
      "75 -> 48\n",
      "75 -> 48\n",
      "75 -> 48\n",
      "75 -> 48\n",
      "75 -> 48\n",
      "75 -> 48\n",
      "75 -> 48\n",
      "75 -> 48\n",
      "75 -> 48\n",
      "75 -> 48\n",
      "75 -> 48\n",
      "75 -> 48\n",
      "75 -> 48\n",
      "75 -> 48\n",
      "75 -> 48\n",
      "75 -> 48\n",
      "75 -> 48\n",
      "75 -> 48\n",
      "75 -> 48\n",
      "75 -> 48\n",
      "75 -> 48\n",
      "75 -> 48\n",
      "75 -> 48\n",
      "75 -> 48\n",
      "75 -> 48\n",
      "75 -> 48\n",
      "75 -> 48\n",
      "75 -> 48\n",
      "75 -> 48\n",
      "75 -> 48\n",
      "75 -> 48\n",
      "75 -> 48\n",
      "75 -> 48\n",
      "75 -> 48\n",
      "75 -> 48\n",
      "75 -> 48\n",
      "75 -> 48\n",
      "75 -> 48\n",
      "75 -> 48\n",
      "75 -> 48\n",
      "75 -> 48\n",
      "75 -> 48\n",
      "75 -> 48\n",
      "75 -> 48\n",
      "75 -> 48\n",
      "75 -> 48\n",
      "75 -> 48\n",
      "75 -> 48\n",
      "75 -> 48\n",
      "75 -> 48\n",
      "75 -> 48\n",
      "75 -> 48\n",
      "75 -> 48\n",
      "75 -> 48\n",
      "75 -> 48\n",
      "75 -> 48\n",
      "75 -> 48\n",
      "75 -> 48\n",
      "75 -> 48\n",
      "75 -> 48\n",
      "75 -> 48\n",
      "75 -> 48\n",
      "75 -> 48\n",
      "75 -> 48\n",
      "75 -> 48\n",
      "75 -> 48\n",
      "75 -> 48\n",
      "75 -> 48\n",
      "75 -> 48\n",
      "75 -> 48\n",
      "75 -> 48\n",
      "75 -> 48\n",
      "75 -> 48\n",
      "75 -> 48\n",
      "75 -> 48\n",
      "75 -> 48\n",
      "75 -> 48\n",
      "75 -> 48\n",
      "75 -> 48\n",
      "75 -> 48\n",
      "75 -> 48\n",
      "75 -> 48\n",
      "75 -> 48\n",
      "75 -> 48\n",
      "75 -> 48\n",
      "75 -> 48\n",
      "75 -> 48\n"
     ]
    }
   ],
   "source": [
    "s = np.array([])\n",
    "for i in range(1,100):\n",
    "    start_time = time.time()\n",
    "    for j in range(1,100):\n",
    "        BetrothedNumber(i,j)\n",
    "    end_time = (time.time() - start_time)\n",
    "    s=np.append(s,end_time)"
   ]
  },
  {
   "cell_type": "code",
   "execution_count": 17,
   "metadata": {
    "ExecuteTime": {
     "end_time": "2020-06-27T23:07:33.765099Z",
     "start_time": "2020-06-27T23:07:33.544013Z"
    }
   },
   "outputs": [
    {
     "data": {
      "image/png": "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\n",
      "text/plain": [
       "<Figure size 432x432 with 1 Axes>"
      ]
     },
     "metadata": {
      "needs_background": "light"
     },
     "output_type": "display_data"
    }
   ],
   "source": [
    "drawPlot(s)"
   ]
  },
  {
   "cell_type": "markdown",
   "metadata": {},
   "source": [
    "Вот такие параметры выдал второй алгоритм. По этой причине, я выбираю первый брут форс!  \n",
    "\n",
    "Если не понятно, то этот алгоритм дольше работает больше чем в 10 раз."
   ]
  },
  {
   "cell_type": "markdown",
   "metadata": {},
   "source": [
    "Кстати, sympy снова нас подвёл. У него нет алгоритмов для квази-дружественных чисел, но зато я нашёл ещё алгоритм в Интернете. Попробуем разузнать, что с ним. "
   ]
  },
  {
   "cell_type": "code",
   "execution_count": 18,
   "metadata": {
    "ExecuteTime": {
     "end_time": "2020-06-27T23:09:39.229368Z",
     "start_time": "2020-06-27T23:07:33.767636Z"
    }
   },
   "outputs": [
    {
     "data": {
      "text/plain": [
       "[(48, 75.0),\n",
       " (140, 195.0),\n",
       " (1050, 1925.0),\n",
       " (1575, 1648.0),\n",
       " (2024, 2295.0),\n",
       " (5775, 6128.0),\n",
       " (8892, 16587.0),\n",
       " (9504, 20735.0),\n",
       " (62744, 75495.0),\n",
       " (186615, 206504.0),\n",
       " (196664, 219975.0),\n",
       " (199760, 309135.0),\n",
       " (266000, 507759.0),\n",
       " (312620, 549219.0),\n",
       " (526575, 544784.0),\n",
       " (573560, 817479.0),\n",
       " (587460, 1057595.0)]"
      ]
     },
     "execution_count": 18,
     "metadata": {},
     "output_type": "execute_result"
    }
   ],
   "source": [
    "def NBetrothedNumbers(n) :\n",
    "    bet=[]\n",
    "    for num1 in range (1,n) : \n",
    "        sum1 = 1\n",
    "        i = 2\n",
    "        while i * i <= num1 : \n",
    "            if (num1 % i == 0) : \n",
    "                sum1 = sum1 + i \n",
    "                if (i * i != num1) : \n",
    "                    sum1 += num1 / i \n",
    "            i =i + 1\n",
    "        if (sum1 > num1) : \n",
    "            num2 = sum1 - 1\n",
    "            sum2 = 1\n",
    "            j = 2\n",
    "            while j * j <= num2 : \n",
    "                if (num2 % j == 0) : \n",
    "                    sum2 += j \n",
    "                    if (j * j != num2) : \n",
    "                        sum2 += num2 / j \n",
    "                j = j + 1\n",
    "            if (sum2 == num1+1) : \n",
    "                bet.append ((num1,num2)) \n",
    "    return bet\n",
    "n = 1000000\n",
    "bet=NBetrothedNumbers(n) \n",
    "bet"
   ]
  },
  {
   "cell_type": "markdown",
   "metadata": {},
   "source": [
    "А он довольно быстрый! Быстрее, чем я мог написать!  \n",
    "Данная функция на вход принимает значение, до которого мы будем собирать пары"
   ]
  },
  {
   "cell_type": "markdown",
   "metadata": {},
   "source": [
    "Теперь мы можем ряд пар превратить в последовательный ряд чисел."
   ]
  },
  {
   "cell_type": "code",
   "execution_count": 19,
   "metadata": {
    "ExecuteTime": {
     "end_time": "2020-06-27T23:09:39.237689Z",
     "start_time": "2020-06-27T23:09:39.231785Z"
    }
   },
   "outputs": [
    {
     "data": {
      "text/plain": [
       "[48,\n",
       " 75.0,\n",
       " 140,\n",
       " 195.0,\n",
       " 1050,\n",
       " 1925.0,\n",
       " 1575,\n",
       " 1648.0,\n",
       " 2024,\n",
       " 2295.0,\n",
       " 5775,\n",
       " 6128.0,\n",
       " 8892,\n",
       " 16587.0,\n",
       " 9504,\n",
       " 20735.0,\n",
       " 62744,\n",
       " 75495.0,\n",
       " 186615,\n",
       " 206504.0,\n",
       " 196664,\n",
       " 219975.0,\n",
       " 199760,\n",
       " 309135.0,\n",
       " 266000,\n",
       " 507759.0,\n",
       " 312620,\n",
       " 549219.0,\n",
       " 526575,\n",
       " 544784.0,\n",
       " 573560,\n",
       " 817479.0,\n",
       " 587460,\n",
       " 1057595.0]"
      ]
     },
     "execution_count": 19,
     "metadata": {},
     "output_type": "execute_result"
    }
   ],
   "source": [
    "flat_list = [item for sublist in bet for item in sublist]\n",
    "flat_list"
   ]
  },
  {
   "cell_type": "markdown",
   "metadata": {},
   "source": [
    "Теперь покажу, почему стоит рассматривать следующие 5x чисел в диапазоне брутфорса.  "
   ]
  },
  {
   "cell_type": "code",
   "execution_count": 20,
   "metadata": {
    "ExecuteTime": {
     "end_time": "2020-06-27T23:09:39.581654Z",
     "start_time": "2020-06-27T23:09:39.239918Z"
    }
   },
   "outputs": [
    {
     "data": {
      "text/html": [
       "<div>\n",
       "<style scoped>\n",
       "    .dataframe tbody tr th:only-of-type {\n",
       "        vertical-align: middle;\n",
       "    }\n",
       "\n",
       "    .dataframe tbody tr th {\n",
       "        vertical-align: top;\n",
       "    }\n",
       "\n",
       "    .dataframe thead th {\n",
       "        text-align: right;\n",
       "    }\n",
       "</style>\n",
       "<table border=\"1\" class=\"dataframe\">\n",
       "  <thead>\n",
       "    <tr style=\"text-align: right;\">\n",
       "      <th></th>\n",
       "      <th>0</th>\n",
       "      <th>1</th>\n",
       "    </tr>\n",
       "  </thead>\n",
       "  <tbody>\n",
       "    <tr>\n",
       "      <th>0</th>\n",
       "      <td>48</td>\n",
       "      <td>75.0</td>\n",
       "    </tr>\n",
       "    <tr>\n",
       "      <th>1</th>\n",
       "      <td>140</td>\n",
       "      <td>195.0</td>\n",
       "    </tr>\n",
       "    <tr>\n",
       "      <th>2</th>\n",
       "      <td>1050</td>\n",
       "      <td>1925.0</td>\n",
       "    </tr>\n",
       "    <tr>\n",
       "      <th>3</th>\n",
       "      <td>1575</td>\n",
       "      <td>1648.0</td>\n",
       "    </tr>\n",
       "    <tr>\n",
       "      <th>4</th>\n",
       "      <td>2024</td>\n",
       "      <td>2295.0</td>\n",
       "    </tr>\n",
       "    <tr>\n",
       "      <th>5</th>\n",
       "      <td>5775</td>\n",
       "      <td>6128.0</td>\n",
       "    </tr>\n",
       "    <tr>\n",
       "      <th>6</th>\n",
       "      <td>8892</td>\n",
       "      <td>16587.0</td>\n",
       "    </tr>\n",
       "    <tr>\n",
       "      <th>7</th>\n",
       "      <td>9504</td>\n",
       "      <td>20735.0</td>\n",
       "    </tr>\n",
       "    <tr>\n",
       "      <th>8</th>\n",
       "      <td>62744</td>\n",
       "      <td>75495.0</td>\n",
       "    </tr>\n",
       "    <tr>\n",
       "      <th>9</th>\n",
       "      <td>186615</td>\n",
       "      <td>206504.0</td>\n",
       "    </tr>\n",
       "    <tr>\n",
       "      <th>10</th>\n",
       "      <td>196664</td>\n",
       "      <td>219975.0</td>\n",
       "    </tr>\n",
       "    <tr>\n",
       "      <th>11</th>\n",
       "      <td>199760</td>\n",
       "      <td>309135.0</td>\n",
       "    </tr>\n",
       "    <tr>\n",
       "      <th>12</th>\n",
       "      <td>266000</td>\n",
       "      <td>507759.0</td>\n",
       "    </tr>\n",
       "    <tr>\n",
       "      <th>13</th>\n",
       "      <td>312620</td>\n",
       "      <td>549219.0</td>\n",
       "    </tr>\n",
       "    <tr>\n",
       "      <th>14</th>\n",
       "      <td>526575</td>\n",
       "      <td>544784.0</td>\n",
       "    </tr>\n",
       "    <tr>\n",
       "      <th>15</th>\n",
       "      <td>573560</td>\n",
       "      <td>817479.0</td>\n",
       "    </tr>\n",
       "    <tr>\n",
       "      <th>16</th>\n",
       "      <td>587460</td>\n",
       "      <td>1057595.0</td>\n",
       "    </tr>\n",
       "  </tbody>\n",
       "</table>\n",
       "</div>"
      ],
      "text/plain": [
       "         0          1\n",
       "0       48       75.0\n",
       "1      140      195.0\n",
       "2     1050     1925.0\n",
       "3     1575     1648.0\n",
       "4     2024     2295.0\n",
       "5     5775     6128.0\n",
       "6     8892    16587.0\n",
       "7     9504    20735.0\n",
       "8    62744    75495.0\n",
       "9   186615   206504.0\n",
       "10  196664   219975.0\n",
       "11  199760   309135.0\n",
       "12  266000   507759.0\n",
       "13  312620   549219.0\n",
       "14  526575   544784.0\n",
       "15  573560   817479.0\n",
       "16  587460  1057595.0"
      ]
     },
     "execution_count": 20,
     "metadata": {},
     "output_type": "execute_result"
    }
   ],
   "source": [
    "df=pd.DataFrame([(48, 75.0), (140, 195.0), (1050, 1925.0), (1575, 1648.0), (2024, 2295.0), (5775, 6128.0), (8892, 16587.0), (9504, 20735.0), (62744, 75495.0), (186615, 206504.0), (196664, 219975.0), (199760, 309135.0), (266000, 507759.0), (312620, 549219.0), (526575, 544784.0), (573560, 817479.0), (587460, 1057595.0)])\n",
    "df"
   ]
  },
  {
   "cell_type": "markdown",
   "metadata": {},
   "source": [
    "Итого я смог построить почти за 2 минуты 16 пар!"
   ]
  },
  {
   "cell_type": "markdown",
   "metadata": {},
   "source": [
    "Построим график того, как находится квази-друг по мере увеличениея входного значения в функцию."
   ]
  },
  {
   "cell_type": "code",
   "execution_count": 21,
   "metadata": {
    "ExecuteTime": {
     "end_time": "2020-06-27T23:09:39.999895Z",
     "start_time": "2020-06-27T23:09:39.584433Z"
    }
   },
   "outputs": [
    {
     "data": {
      "image/png": "iVBORw0KGgoAAAANSUhEUgAAAZ4AAAGDCAYAAAAbNHZKAAAABHNCSVQICAgIfAhkiAAAAAlwSFlzAAALEgAACxIB0t1+/AAAADh0RVh0U29mdHdhcmUAbWF0cGxvdGxpYiB2ZXJzaW9uMy4xLjMsIGh0dHA6Ly9tYXRwbG90bGliLm9yZy+AADFEAAAgAElEQVR4nO3deXzcV3X38c/RLtmSLXmLY8t2bDn7Ypw4JCQkIWlJQikGyhLKktK0KTyBQsNDITxAWpZCW5aWAqEpBMJSQkooBAgJIWCHLUHZE9tJJG+SHC+yNFoszUgazXn+mN/YY3kkjWTNqu/79dJLM/e3HU0UHd/7O797zd0RERHJlpJcByAiIrOLEo+IiGSVEo+IiGSVEo+IiGSVEo+IiGSVEo+IiGSVEo+IiGSVEo/IDDKzPzezR8zskJntNbOfmdnFuY5LJJ8o8YjMEDO7Efg34J+AJcAK4MvAxlzGJZJvlHhEZoCZzQM+Btzg7j9w9wF3H3H3H7v7+83sH8zs28G+VWa22cz+Oen4V5nZFjPrMbNNZnZa0rZdZnaTmW01s5CZfd3MqpK2/7WZtZpZt5ndbWYnJm07w8zuD7btN7MPmdmFQY/skJmNmNlw0vsVZvYXZvabpHP8vZm5mf1Rpj9HmR2UeERmxoVAFfC/E+1kZmXAncDz7v6BoO1k4LvAe4FFwD3Aj82sIunQNwNXAmuAk4EPB8deDnwKeAOwFNgN3BFsqwV+AdwLnAg0AQ+4++/dfa67zwW+A/xL4r27t42Jtx74W6BnOh+KSCpKPCIzYwFw0N2jE+xjwNeAucA7ktrfCPzU3e939xHgM0A18JKkfb7o7u3u3g18EnhT0P5m4DZ3f8zdh4CbgAvNbBXwSmCfu3/W3SPu3u/uD0/x5/p/wG1A7xSPExmXEo/IzOgCFgY9mvG8BjgNOIN4zybhROI9FQDcPQa0A8uS9mlPer07OCbVsYeCWJYBjcD2qf4gCWa2gnhP6l+new6RVJR4RGbG74EI8OoJ9tkBXE681/PlpPYXgJWJN2ZmxJPGnqR9GpNerwiOSXXsHOK9rz3Ek9WaKf4cyT5BfBiu/zjOIXIMJR6RGeDuvcBHgS+Z2avNrMbMys3sajP7l2C3J4IeyT8Cp5rZG4P2O4E/MbMrzKwceB8wBPwu6RI3mNlyM2sAPgR8L2j/b+DtZrbOzCqJV9Q97O67gJ8AJ5jZe82s0sxqzezFaf5ITcCLgf+cxschMiElHpEZ4u6fA24kfuO/k3iP413AD8fsNwS8Hfg3M1vo7s8BbwH+AzgI/Cnwp+4+nHTYfwM/J95r2kG8N4K7PwB8BLgL2Eu8h3NNsK0f+OPgfPuAFuBlaf44S4APB/ecRGaUaSE4kfxmZruAv3L3X+Q6FpGZoB6PiIhklRKPiIhklYbaREQkq9TjERGRrFLiERGRrJroKWsBFixY4CtXrpx8xxQGBwepqamZ4Ygyr1DjhsKNXXFnl+LOvMcff/yguy9KtU2JZxIrV65k8+bN0zq2ubmZDRs2zHBEmVeocUPhxq64s0txZ15dXd3u8bZpqE1ERLJKiUdERLJKiUdERLJKiUdERLJKiUdERLJKiUdERLJKiUdERLJKiUdERLJKiUdERLJKiUdERLJKiUdERLJKiUdERI4yMhpj0/Nd7OuLZOT8SjwiInKU0OAI7/6fLTzY2p2R8yvxiIjIUfoiUQDqqsozcn4lHhEROUpvOJ545lVnZuUcJR4RETlKb3gEgHlVSjwiIpIFvZFEj0dDbSIikgV9GmoTEZFs6g2PUGowp6I0I+dX4hERkaP0RqLMqy7HzDJyfiUeERE5Sm84Sl2GhtlAiUdERMbojYwwL0PP8IASj4iIjNEbjmassACUeEREZIy+8IgSj4iIZE9fJEpdhh4ehQwmHjO7zcwOmNkzSW0NZna/mbUE3+uDdjOzL5hZq5k9ZWbrk465Nti/xcyuTWo/18yeDo75ggXlF9O5hoiIxEVjTv/QaMHe4/kGcNWYtg8CD7j7WuCB4D3A1cDa4Ot64BaIJxHgZuDFwPnAzYlEEuxzfdJxV03nGiIickR/YoLQQhxqc/cHgbFzam8Ebg9e3w68Oqn9mx73EDDfzJYCVwL3u3u3u4eA+4Grgm117v57d3fgm2PONZVriIhI4PA8bYWYeMaxxN33AgTfFwfty4D2pP06graJ2jtStE/nGiIiEjg8T1sGh9oyl9KmJtXjsT6N9ulc49gdza4nPhzHkiVLaG5unuTUqQ0MDEz72Fwq1LihcGNX3NmluMf3VOcoAHt2ttAcykzfJNuJZ7+ZLXX3vcEw14GgvQNoTNpvOfBC0H7ZmPZNQfvyFPtP5xrHcPdbgVsB1q9f7xs2bJjKz3hYc3Mz0z02lwo1bijc2BV3dinu8e17ej88/hwXnns2KxuqM3KNbA+13Q0kKtOuBX6U1P62oPLsAqA3GCa7D3i5mdUHRQUvB+4LtvWb2QVBNdvbxpxrKtcQEZFA3+Ghtsz1SzJ2ZjP7LvHeykIz6yBenfZp4E4zuw5oA14f7H4P8AqgFRgE3g7g7t1m9nEg0bf8mLsnChbeSbxyrhr4WfDFVK8hIiJHJIoLagsx8bj7m8bZdEWKfR24YZzz3AbclqL9EeDMFO1dU72GiIjE9Yaj1FaVUVqSmZmpQTMXiIhIkt5INKPDbKDEIyIiSfrCmZ0uB5R4REQkSW8ksxOEghKPiIgk6QvHVx/NJCUeERE5TPd4REQka2Lu9IZHMjpBKCjxiIhIYGBolJijoTYREcmO3kgwM7WG2kREJBt6w8F0OerxiIhINhxJPOrxiIhIFvRpqE1ERLKpT0NtIiKSTYnVRzVljoiIZEVvOEp1eQkVZZlNDUo8IiICxNfiyXRvB5R4REQk0BvJ/DxtoMQjIiKB3nDmZ6YGJR4REQn0RaLMq1KPR0REsqQ3HFWPR0REssOzNDM1KPGIiAgQicYYHnUNtYmISHZka542UOIRERHihQWgxCMiIlnSG45PEKoHSEVEJCsOTxCqezwiIpINh1cf1VCbiIhkQ7ZWHwUlHhERIT5PW1mJUV2e+bSgxCMiIofnaTOzjF9LiUdERILpcjI/zAZKPCIiQmKC0MwXFoASj4iIkL0lEUCJR0REiA+11WmoTUREskVDbSIikjUjozEGhkezMl0OKPGIiMx6RyYI1VCbiIhkQTaXRAAlHhGRWa8vMU+bhtpERCQbsjlPGyjxiIjMehpqExGRrEosiaCqNhERyYrecBQDapV4REQkG+KzFpRRkoWZqUGJR0Rk1uuNjGStog2UeEREZr2+cJS6quxUtIESj4hI0fjx0/v5q+88NeXj+iLRrFW0gRKPiEjR+M32bh7e1UNveGRKx/WGR6gr9sRjZn9nZlvM7Bkz+66ZVZnZSWb2sJm1mNn3zKwi2LcyeN8abF+VdJ6bgvbnzOzKpPargrZWM/tgUnvKa4iIFIOOnggAbd3hKR3XG4kyr5iH2sxsGfC3wHnufiZQClwD/DPweXdfC4SA64JDrgNC7t4EfD7YDzM7PTjuDOAq4MtmVmpmpcCXgKuB04E3BfsywTVERApeRyieeHaH0k88MXf6wrNjqK0MqDazMqAG2AtcDnw/2H478Org9cbgPcH2K8zMgvY73H3I3XcCrcD5wVeru+9w92HgDmBjcMx41xARKWgDQ1G6B+NDbFPp8fRHojjZm7UAcpB43H0P8BmgjXjC6QUeBXrcPRrs1gEsC14vA9qDY6PB/guS28ccM177ggmuISJS0BLDbABtocgEex7t8JIIWRxqy16KC5hZPfHeyklAD/A/xIfFxvLEIeNsG689VTKdaP9UMV4PXA+wZMkSmpubU+02qYGBgWkfm0uFGjcUbuyKO7uKMe5H948CMLcctrZ10tzcn9Y5d/bGANjfsZPmobaZCXQSWU88wB8BO929E8DMfgC8BJhvZmVBj2Q58EKwfwfQCHQEQ3PzgO6k9oTkY1K1H5zgGkdx91uBWwHWr1/vGzZsmNYP2tzczHSPzaVCjRsKN3bFnV3FGPeWh9qBnbx07SJ+tzOU9s83vL0bHn6GDWefxrrl82Yw2vHl4h5PG3CBmdUE912uALYCvwJeF+xzLfCj4PXdwXuC7b90dw/arwmq3k4C1gJ/AJqBtUEFWwXxAoS7g2PGu4aISEFrD0WYV13GGUtr6Q1H0y6p7g2G2or6AVJ3f5j4Df7HgKeDGG4FPgDcaGatxO/HfC045GvAgqD9RuCDwXm2AHcST1r3Aje4+2jQm3kXcB+wDbgz2JcJriEiUtA6eiI0zq9mRUM1ALvTLDDI9pIIkJuhNtz9ZuDmMc07iFekjd03Arx+nPN8EvhkivZ7gHtStKe8hohIoWsPhTljaS0r6qsAaAuFOXtZ3aTH9WV5SQTQzAUiIgUvGnP29g7ROL+K5fXVGOmXVPeGo9RUlFJemr10oMQjIlLg9vVFiMac5fVVVJaVcEJdZfpDbZFoVmemBiUeEZGCl5ixoLE+fn9nRUM17Wk+y9MXHsnq/R1Q4hERKXiJJLN8fvz+zsqG6ikVF8yrzl5FGyjxiIgUvI6eCOWlxuLaSgBW1FfTF0mvpLo3Es1qYQEo8YiIFLz2UJhl86ooLYlP0DKVkupeDbWJiMhUdfREWB6UUUN8qA0mTzzurqE2ERGZGnenIxRm+fzqw23L5ldhxHtCEwmPxIjGXFVtIiKSvr5IlP6hURqTejyVZSUsnTd5SXXiHpCG2kREJG3tY0qpExrrq2nrnrik+vB0OVmcpw2UeEREClpHT7xXkyilTljZUE3bJENtibV46tTjERGRdB1+hqf+6MSzoiFeUt0zOH5JdW8O5mkDJR4RkYLWHgqzcE4F1eWlR7WvCIbeJur1HJmZWkNtIiKSpo6eyFGFBQnplFTnYkkEUOIRESlo7aHIMcNsEL/nM9ks1b2RESpKjaqy7KYCJR4RkQI1HI2xv2+IxvnVx2yrCEqqJxpq6wseHo0vBp09SjwiIgVqT28E59jCgoQVDROXVMdnLcj+eqBKPCIiBerIcgjjJJ76iUuqeyMjWa9oAyUeEZGClZgSZ3mKoTaYvKQ6F/O0gRKPiEjB6uiJUF1ewoI5qZPHyqCkevc4vZ7e8EjW52kDJR4RkYLVHorEJwQdpzggsTzCeJVtfRH1eEREZAo6esLHzNGWbPn8KkosdeIZjsYIj8R0j0dERNLj7uzpiRwzR1uyirISltZVphxqS8zTpqo2ERFJS9fACOGR2IQ9HoDGhmraU5RU52pJBFDiEREpSEcq2sbv8UC8wGB3KIy7H9Xem5iZOstLIoASj4hIQeromfgZnoTGhmr6I9HD87Il5GqeNlDiEREpSO2hMAacOG/yHg8cW1KtoTYREZmS9lCEE+oqqZhkgs/xSqoTQ23ZXn0UlHhERApSR0/qWanHGq+kujc8QqnB3MrScY7MHCUeEZEC1B4Kp5yVeqzxSqr7wlHqcjAzNSjxiIgUnMHhUboGRtLq8UC8wCDVUFsupssBJR4RkYKTbkVbwsr6eOJJLqnuDY9Ql4PCAlDiEREpOB2TzEo91oqGavqHRulJKqnui0RzMl0OKPGIiBSc9in2eFYEJdXJa/PkakkEUOIRESk4HaEItZWlafdYUpVU6x6PiIikrT0UZnl9ddoVaYmS6t1B4hmNOf2R3Cx7DUo8IiIFZ09PJO1hNjhSUp0Yaus/PDO1htpERGQSozGPPzyaZmFBwoqkkuojE4SqxyMiIpM40D9ENOZT6vFAvMAgUVJ9ZJ429XhERGQS7aF4RdtkyyGMlVxSncuZqUGJR0SkoHT0xIfLJlsAbqyVQWXb7u4wvZGgx5OjobbcXFVERKalPRShrMRYUlc5peMSiao9FE5a9jo3Q21KPCIiBaQ9FOHEeZWUlUxtcs/G+iMl1aVBGXatigtERGQyHT3xZ3imqry0hKXzqmjrjvd45laWTjl5zRQlHhGRAtIeitA4xcKChBX1VbSF4vd4cnV/B5R4REQKxsCI0xeJpr0cwliJZ3l6BuNr8eSKEo+ISIHoDMeXNUhnAbhUVtTHS6rbQuGclVJDjhKPmc03s++b2bNmts3MLjSzBjO738xagu/1wb5mZl8ws1Yze8rM1ied59pg/xYzuzap/Vwzezo45gsWTGg03jVERApB52A88Uy3x5NcUj2vavb1eP4duNfdTwXOAbYBHwQecPe1wAPBe4CrgbXB1/XALRBPIsDNwIuB84GbkxLJLcG+ieOuCtrHu4aISN47EI4BU394NCExSzXk7uFRyEHiMbM64BLgawDuPuzuPcBG4PZgt9uBVwevNwLf9LiHgPlmthS4Erjf3bvdPQTcD1wVbKtz9997fLm9b445V6priIjkvc5Bp6GmnDmV00saiVmqIXcPj0JuejyrgU7g62b2uJl91czmAEvcfS9A8H1xsP8yoD3p+I6gbaL2jhTtTHANEZG81xn2aQ+zwZGSasjdw6OQmwdIy4D1wLvd/WEz+3cmHvJKVWju02hPm5ldT3yojiVLltDc3DyVww8bGBiY9rG5VKhxQ+HGrrizq1Dj3j8wyskVg8cV+/zSYfYAXfvaaW7eO3PBTUEuEk8H0OHuDwfvv0888ew3s6XuvjcYLjuQtH9j0vHLgReC9svGtG8K2pen2J8JrnEUd78VuBVg/fr1vmHDhun8nDQ3NzPdY3OpUOOGwo1dcWdXIcY9Mhoj9PPfcE7TMjZsWDXt85zZ1cKWrr2sO20tG05ZOHMBTkHWh9rcfR/QbmanBE1XAFuBu4FEZdq1wI+C13cDbwuq2y4AeoNhsvuAl5tZfVBU8HLgvmBbv5ldEFSzvW3MuVJdQ0Qkr+3tHcKZfmFBQqKybbYNtQG8G/iOmVUAO4C3E0+Cd5rZdUAb8Ppg33uAVwCtwGCwL+7ebWYfBxJ9zo+5e3fw+p3AN4Bq4GfBF8Cnx7mGiEheaw9Nb1bqsdY3zmPBnPLDCSgXcpJ43P0J4LwUm65Isa8DN4xzntuA21K0PwKcmaK9K9U1RETyXUfP9NbhGeuMpbVseu+FMxHStGnmAhGRAtAeilBeAotqK3IdynFT4hERKQA7uwZZWG2UWG5mlJ5JaQ21mVk58fsmlwRNm4GvuPtIpgITERGIufMfm3bxYGs3lzeW5jqcGZHuPZ5bgHLgy8H7twZtf5WJoEREBIajMT7yk+e4Z0snr3vRCVy5oCfXIc2IdBPPBnc/J+n9L83syUwEJCIi0Bse4b3f38ojbb2857JVXPeSRh555JFchzUj0k08o2a2xt23A5jZamA0c2GJiMxeL/RGeOcdz9DWHebTG0/lT84srtm90k087wd+ZWY7iE9Js5LgeRoREZk5W/b2867vbWFoNMatf34WG1bOz3VIMy6txOPuD5jZWuAU4onnWXcfymhkIiKzzIOt3fzfH2xlfnU5X33zOaxZNCfXIWVEulVtN45pusLMcPfPZSAmEZG8t71zgK8/1MH1F604ap2b6fqfx/byyXtbOHnJXL70hjNYVFs5A1Hmp3Sf43k/UJviS0RkVrpnSyc/emo/r/vqo9z56AvEJ1mZusjIKJ97YAcf+1kLL1ndwDfeek5RJx1I/x7PXnf/x4xGIiJSQNpDYRbNrWDt4jl8/N5Wfvl8F//4JyezpC69pBFz56fPHOALm3axr2+IN6xfyk1XNlFWUvgPiE4m3cSz2sx+CESILzHwW3e/K3NhiYjkt/ZQhKZFNXzlmjP53qN7+ewDO3jtfz3Kh69q4uozJq5C+8OuHj7zwA627TvE6SfM5Z9edUpRFhGMJ93EsxEoJT7b84nAX5nZJe7+noxFJiKSx9pCYa46fRFmxjXnnciFq+v50I+e5e9/+Cy/fL6LD1/VdMzSA9s7B/j8L3eyubWbpXWVfGrjKbzijMVFMQ3OVKRb1bY5+b2Z3QZ8MyMRiYjkud7wCH2RKCuSlihY2VDN7deu47bftXPLr3fzaFsvH3vlyVy8poGDh4b58oO7ueuJvdRUlPJ3l5/Emzcso7Jsdk6XmW5V20nE7/NEgqZy4P9lLCoRkTzWHor/KWysP3qJgrIS4/qLV/DSpgY+dPezvPOOZ7i0qYHmtl6GozGuOfdE3vHSldTX5G4RtnyQ7lDb/wAvSXofC9oKa+1YEZEZ0DbJomynnTCXO/5yPV/cvItvPtzB5Scv5D0vW8WqBTVZjDJ/pZt4ytx9OPHG3YeD1UNFRGadxGqgy+vHX5StsqyE912xmv9zyUqqy4tjVumZku4AY6eZvSrxxsw2AgczE5KISH5rC0VYPLcirYSipHOsdHs87wC+Y2ZfJD5lTjvwtoxFJSKSxzpCYRpnYLaC2SrdqrbtwAVmNhcwd+/PbFgiIpkxMhojNs1ZBhLauiO8tKl+hiKafaY1V5sFNeeaq01ECs1bb3+CxsooLz5/escPDo9ycGB43MICmVy6Q20fBXYB/5u5UEREMmtkNMa2fYeI1E3/gc32SSraZHJpT5kD3ARcAXzM3X+RuZBERDLjhd4hYg4vDDjufnj0ZirGe4ZH0pdWVZu7d7v7+4FrgNeb2b1mpmd4RKSgJHor4Sjs75/ekmLq8Ry/dO/x/BhI3I0zYAXwEPH520RECkJHKHL4dcuBQU6om3qvpS0Upr6mnLqqdAeMZKx0P7nPEE88xpEEJCJSUNp7wpSVGNGYs/3gAC9tapj6OUIRGudrmO14TJh4zGwnqRNNIgGtzkRQIiKZ0B6KsGpBNZ29g7R2Dk7zHGFe1DhvhiObXSbr8ZyX9NqAXwIvy1w4IiKZ0x4Ks3x+NeWjEbZPI/EMR2Ps7R3iVWepx3M8Jkw87t6V/N7MomPbREQKgbuzpyfChSfVUzZk/HbvADH3Ka2Fs6c3ggMrNGvBcUl7MQgzW0281yMiUnAOHhomPBKjsb6aE+eWEB6J916mor1bFW0zYbJ7PE8Tv5dTCdQAf5ONoEREZlpHz5Hnb7w7/m/o1s4Blk2hUKBNz/DMiMnu8bwy+B5x9/2ZDkZEJFMSD34un1/F6Nz4YE9r5yCXrl0whXOEmVNRSsMsX8jteE12j2d3tgIREcmk9lCYEoNl86voLDcW11aw/eDAlM7RFgrTWF81rRkP5IjZueC3iMw67T0RTqirpLw0/mevadGcKZdUd4Qiur8zA5R4RGRWaA+Fj0oaaxbWsPPgYNpLJIzGnI6eiCraZoASj4jMCh2hCMuTCgmaFtUQicbY0xOZ4Kgj9vUNEY25Zi2YAUo8IlL0BoaidA+OHN3jWTQHgJYD6d3naQsmB1WP5/gp8YhI0UuUUi9PKoNes7AGgO0H07vPc+QZHvV4jpcSj4gUvcNr6CQNk82tLGNpXSWtnen1eNp7IlSUGotrKzMS42yixCMiRW+8NXTWLKpJe862tu54ccJUptiR1JR4RKTotYcizK8uo3bMGjpNi+aws2uQ0djklW3tPRENs80QJR4RKXrtPeGUz9+sWVjD8Kgf7hGNx91p7059Dpk6JR4RKXrtochRhQUJTUFl22QPknYeGiYSjSnxzBAlHhEpaiOjMfb1Hv0MT8LqoLJtsgKDRHHCCg21zQglHhEpavv6hhj11EsZ1FSUsmx+1aQl1XqGZ2Yp8YhIUTtS0Za6t9K0sCaNHk+YUoMT6lRKPROUeESkqB15hid1b2XNojns6gozMhqb8Bwnzq86PMGoHJ+cfYpmVmpmj5vZT4L3J5nZw2bWYmbfM7OKoL0yeN8abF+VdI6bgvbnzOzKpPargrZWM/tgUnvKa4hI8WoPRagsK2FRber/3ZsW1RCN+eEElUqbKtpmVC7T93uAbUnv/xn4vLuvBULAdUH7dUDI3ZuAzwf7YWanA9cAZwBXAV8Oklkp8CXgauB04E3BvhNdQ0SKVHsozPL5VeM++JmYOqdlnOE2dw9mtlZhwUzJSeIxs+XAnwBfDd4bcDnw/WCX24FXB683Bu8Jtl8R7L8RuMPdh9x9J9AKnB98tbr7DncfBu4ANk5yDREpUh09qSvaEk5aWIMB28dJPL3hKP1Do6xQj2fG5KrH82/A3wOJQdUFQI+7R4P3HcCy4PUyoB0g2N4b7H+4fcwx47VPdA0RKUJHeivjJ43q8lIa66vGfZZnvOl2ZPomXPo6E8zslcABd3/UzC5LNKfY1SfZNl57qmQ60f6pYrweuB5gyZIlNDc3p9ptUgMDA9M+NpcKNW4o3NgVd2b0DjnhkRix/gM0N3cfbh8b94KyYZ5p70r5szy0N/5v1d49rTT37sh80BPI9887XVlPPMBFwKvM7BVAFVBHvAc038zKgh7JcuCFYP8OoBHoMLMyYB7QndSekHxMqvaDE1zjKO5+K3ArwPr1633Dhg3T+kGbm5uZ7rG5VKhxQ+HGrrgz44mOXtj8JBedcwobmhoOt4+N+7xDO/n6Qx2sW3/uMZVrj/x6N7Cbqy4+j6ry0myFnlK+f97pyvpQm7vf5O7L3X0V8eKAX7r7m4FfAa8LdrsW+FHw+u7gPcH2X7q7B+3XBFVvJwFrgT8AzcDaoIKtIrjG3cEx411DRIrQ4VLqSQoD1iyaQzTm7Oo6ds62jlCYJbUVOU86xSSfitI/ANxoZq3E78d8LWj/GrAgaL8R+CCAu28B7gS2AvcCN7j7aNCbeRdwH/GquTuDfSe6hogUofZQGAOWzZs48TQtGn/qnLZQRDMWzLBcDLUd5u6bgE3B6x3EK9LG7hMBXj/O8Z8EPpmi/R7gnhTtKa8hIsWpoyfCkrpKKsom/jf2qgU1lFjqyULbQ2EubVqQqRBnpXzq8YiIzKj2UHpr6FSWlbCioZrtB4/u8QwMRekaGKGxQc/wzCQlHhEpWu2h8LhT5YzVtHDOMauRdvQkZqXWUNtMUuIRkaI0ODwa762kOePAmkU1tIXCDEWPzNnWpmd4MkKJR0SKUuLBz+VpJo2mRTXEHHZ1Hen1tHWnVxUnU6PEIyJFqSPNUuqENQuPXY20PRSmoaacuZU5rcMqOko8IlKUEvdnJpqnLdmqBdWUldhRJdWTTbcj06PEIyJFqT0Upq6qjHnV5WntX15awsqG6jE9nggrVNE245R4RKQotfekV0qdbM2imjtAQKQAABgZSURBVMMl1UPRGPv6htKuipP0KfGISFGazjBZ08I5dIQihEdG2dMTwUHP8GSAEo+IFJ1ozNnbO0Rjmvd3EtYsqsGBnQcHtRxCBqlUQ0SKzt7eCNGYT73Hsyhe2bb94CA94RFAD49mghKPiBSdwxVtU7zH01hfRVmJ0dI5QGQkRm1lKfOr9WdypukTFZGic2SYbGqJp7y0hJMW1rC9c5DRmLO8vhqzVGtIyvFQ4hGRotMRilBRaiyurZzysU0La3hqTx+lJcZpJ9RmIDpRcYGIFJ32UIRl86somUZvZc2iGvb0DrFnGuXYkh4lHhEpOscz40BTMHXOqKuwIFOUeESkqLj7tB4eTVgTrEYKeoYnU5R4RKSohAZHGBweZfk0ZxxorK+mojQ+RKdZCzJDiUdEikp7z/EtZVBaYqxeWENVWQmLaitmMjQJKPGISN4bisa4d2snozGfdN+ZmHHgvJXzOXtZ7bSKE2RyKqcWkbz3v0/s45P3tXL9RSt492WrJty3PRTBgGVTnC4n2d//0eppHyuTU49HRPLeppYuAG79bRu/2d494b4doTCLayuoLJv+nzcz04OjGaTEIyJ5bWAoyh929/DG9UtZu3gON/3oWfb2Rsbdvz0USXu5a8kNJR4RyWu/39nDyKhz5emL+NxrT2Nk1Pm/P9jGyGgs5f7tociUZ6WW7FLiEZG8tqmli9qqMtYtr2PVghr+8ZUn89QL/XzugZ3H7BseGeXgwLCWMshzSjwikrdGY86vW7u5eE095aXxP1dXnraIN284kW837+Hn2zqP2r8jdHyl1JIdSjwikreefqGf7sERLlu74Kj2912xmrNPrOWjP3me3d3hw+1avK0wKPGISN7a3NJFqcFFq+uPai8vLeEzrz2NslLjxru2EhkZBY7/4VHJDiUeEclbm1q6WL9iHvOqy4/ZtnReFZ961ak8f2CAT923HYj3eGorS6mr0iOK+UyJR0Ty0p6eCK2dg1w6Zpgt2UubGvjrixr5wZP7+OGT++gISqn1DE5+0z8LRCQvJR4aHXt/Z6wbLlnFkx19fPLeVqrKSzh/1fxshCfHQT0eEclLm1u6WLWgmpUNExcKlJYY//zq05hbWUZPOKrCggKgxCMieefQUJTm3b2T9nYSFs6t4F9ecyplJcapS+ZkODo5XhpqE5G887sdIaIx59K1DWkfs2HlfDb/3YXUVpZmMDKZCUo8IpJ3Nrd0UVdVxrrl86Z0nKrZCoOG2kQkr4zGnF9vD/HSpgbKSlSdVoyUeEQkrzy1p4/Q4AiXTWGYTQqLEo+I5JVNLd2UlRgXrVbiKVZKPCKSVza3dHHuinnU6n5N0VLiEZG80R4Ks/3g4JSq2aTwKPGISN7Y3BJf1jrd53ekMCnxiEje2NTSxeqFNZp9oMgp8YhIXuiPRHm0rVfDbLOAEo+I5IXfBrMVaJit+CnxiEjGPNbey+PtvWntu7mli/nVZZyzrC7DUUmuqV5RRGbcUDTGv/1yJ99u3gPAK89czPuuWM3CuRUp94/GnF9v7+aSpgZKNVtB0VPiEZEZ9fyBAT7ww220dg7y5+edyJzKUr7++w42t3bz3stW8br1SykZs1DbU3v66A1HJ1z0TYpH1ofazKzRzH5lZtvMbIuZvSdobzCz+82sJfheH7SbmX3BzFrN7CkzW590rmuD/VvM7Nqk9nPN7OngmC9YsBzheNcQkeMXc+dbf+jgmtseIzQ4wpffeCY3XdnE3152Enf99bmctmQOH7+3lbd84wm27Tt01LGbWrqC2Qr0v+RskIt7PFHgfe5+GnABcIOZnQ58EHjA3dcCDwTvAa4G1gZf1wO3QDyJADcDLwbOB25OSiS3BPsmjrsqaB/vGiISeG7/IT5xbwt3PvoC+/qG0jrmQP8Q7/ju0/zL/Tu4aHU9P/jrc3lp05HqtNULa/jqm8/mUxtPYU9vhGtue4x//vl2Dg1FgfjzO+etnMfcSg3CzAZZ/6/s7nuBvcHrfjPbBiwDNgKXBbvdDmwCPhC0f9PdHXjIzOab2dJg3/vdvRvAzO4HrjKzTUCdu/8+aP8m8GrgZxNcQ2TWOzQU5Uubd/PdR/ZgZkRjDve2cuqSOVy6dgGXNjVwxom1xwyTPfDcQf7hp88TGYnxkaubeP2LlmJ27H0aM+OVZy7hpWsa+MKmXXyneQ8/39bJtRcsZ8fBQd6wfmm2flTJsZz+88LMVgEvAh4GlgRJCXffa2aLg92WAe1Jh3UEbRO1d6RoZ4JriMxa7s49Wzr5zC920DUwzOvXL+VvL1tF18AIm1q62NzSxX/9to3//E0bC+aUc0lTA5euXcA5y+r4xpZhHtyzldNOmMunN57K6oU1k15vXnU5H7l6LRvPXsInftbKv/5iBwCXNOn5ndkiZ4nHzOYCdwHvdfe+VP9CSuyaos2n0T6V2K4nPlTHkiVLaG5unsrhhw0MDEz72Fwq1LihcGPPVdx7DsX4zrYRng3FOKnOeOeLKzlpXg/PP/MEAGeVwVmnwaE1VTzdNcqTnTHu3bKf/31yPwCGc/Wqcl7TFKVr5xa6dk7t+jee5WyqL6d3yNnX+gz7ZvoHHId+T3IrJ4nHzMqJJ53vuPsPgub9ZrY06IksBQ4E7R1AY9Lhy4EXgvbLxrRvCtqXp9h/omscxd1vBW4FWL9+vW/YsGFaP2dzczPTPTaXCjVuKNzYsx334PAoX/n1br71hz3UVJTykatX82frlk5Yyvyy4PvIaIzH2/v4w+4e5kf28ZYrLziuWC548XEdPi36PcmtXFS1GfA1YJu7fy5p091AojLtWuBHSe1vC6rbLgB6g+Gy+4CXm1l9UFTwcuC+YFu/mV0QXOttY86V6hois4K7c9+2Tv70K818/aEOXnXWEn78jvN4w/oT035+pry0hPNXzeddl67ilIbSDEcsxSgXPZ6LgLcCT5vZE0Hbh4BPA3ea2XVAG/D6YNs9wCuAVmAQeDuAu3eb2ceBRL/zY4lCA+CdwDeAauJFBT8L2se7hsis8MOn9vPRnzzPqUvm8NnXns665ZolQLIvF1VtvyH1fRiAK1Ls78AN45zrNuC2FO2PAGemaO9KdQ2R2eLerZ2saqjmu3+5njLNECA5ornaRGaJweFRmnf3cOnaBUo6klNKPCKzxO93hhgZdS07IDmnxCMySzzY0k1tZanu60jOKfGIzAIxdx5s7eaiNQ2Ul+p/e8kt/QaKzALb9h7i4MCwZgeQvKDEIzILbG7twoCL1yjxSO4p8YjMAg+2dnPO8jrqa8pzHYqIEo9IsevsH2LL3kNcqmE2yRNKPCJF7tfb4xN6vFSJR/KEEo9Ikdvc0s0JdZWcvHhOrkMRAZR4RIracDTG73eGuLSpIeXibCK5oMQjUsQeaeshPBLjkrULch2KyGFKPCJFbHNLN1VlJZy/cl6uQxE5TIlHpEi5O5tbu3nxqvlUlWvdHMkfSjwiRWrHwUH29ES4RJOCSp5R4hEpUg+2xsuoL2nS/R3JL0o8IkVqc2s3py6Zwwl1lbkOReQoSjwiRag3PMIT7b16aFTykhKPSBH67Y4Qow6Xqoxa8pASj0gRerC1m4aacs5cWpvrUESOocQjUmSiMec327u5uKmB0hLNViD5R4lHpMg8taeP3nBUs1FL3lLiESkym1u6KSsxLjypPtehiKSkxCNSZB5s7eLcFfOorSrLdSgiKSnxiBSRPT0RWjsHuUTDbJLHlHhEikhitgKVUUs+U+IRKSKbW7pY2VDNyobqXIciMi4lHpEiMTg8SvPuHg2zSd5T4hEpEg/v6mF41LlUs1FLnlPZi0iBGxwe5f5nO/nGQx3MrSxlfaMWfZP8psQjUoDcnWde6OcHT+7jZ1s6GRgeZWVDNTe/4mTKSzWQIflNiUekgPQMjvCTZw5w1xN7ae0cpKqshJefvojXnnMC6xvrMNMUOZL/lHhECsCTe/r41sN7+OXzBxkZdc5cWstHrm7i6tMX60FRKTj6jRXJc8+80M/bv/UkNRWlvHH9ibxm3QmcvHhOrsMSmTYlHpE8Fhoc4ca7trJwTgXfu2499TXluQ5J5Lgp8YjkqdGY8/c/3EbXwDDfvHadko4UDZW/iOSpL27exUM7e/jwVWs5Qwu6SRFR4hHJQw88d5Cv/q6dP1t3Aq9Zd0KuwxGZUUo8InlmV9cgH/7xc5yxdC43XdmU63BEZpwSj0geGRwe5e/u2kpZifH5PzudyjL9LyrFR8UFInnC3bn5p8+z4+AgX3nTWSydV5XrkEQyQv+cEskT327ew71bO3n3Zau0bLUUNfV4RPLAc92jfPbRHVx+8gKuu7Ax1+GIZJR6PCI5dqB/iFueGqaxvppP/Okpmm9Nip56PCI5EnPniY4+PvOLHQyNwudfd7rmXZNZQb/lIlN0aCjKU3v6CA1GOX3pXFY2VFOSZi/F3dmy9xA/23qA+7Z2sr9/mMqyEq47s4KmRZp/TWYHJR6RSezvG+Lxjj4eb+/l8fY+njtwiJgf2V5bVcbZJ9Zy1om1nLWsjrNOrD1qeht35/kDA/xsayf3be2koydCWYlx8Zp63nv5Il62dgFbn3o8Bz+ZSG4o8YgQTw6Dw6N0D47QNTBCy4EBHu/o5bG2Xvb0DgFQXV7C2cvq+JuLV/Cixnk01JSzZW8/T+3p5+kX+rn1t22HE1JjfRVnnVjLktpKftXSxa6uMKUGF5xUz/UXr+Dykxcwr1pzr8nsNOsSj5ldBfw7UAp81d0/neOQZJrcnb5IlP39wxzoH+LgoWFaOqLsLHmBUY/fQ4m5E4vBqDuxmDMaHBMaHKF7YITuwRG6B4YJDY4wPOpHnX/BnHLWN87jzecvY/3yeZy8ZM4xq3uesmQur123FIg//LllbzwJPb2nn0faeunsH2bDynm89fxl/NEpC2mYU5G1z0ckX82qxGNmpcCXgD8GOoBmM7vb3bfmNrLMi8ackdEYw9EYI6PO8JjX8W3x19sOjBJu6aKkxCgxo8SgNOl1SYlRGtzTcI//sU78yT783ePvYh6fZTnmzmgsSAaxoN2PtLvH22LueHLSCF4PRWMc6B9mf/8QB4JEc6B/mKFo7NgfdmvrhJ9FVVkJDXPKaaipYOGcCk5ePIeGmnIa5pRTXxNvX9FQzYr6qilVmNVUlLJh5Xw2rJx/uG04GqNCsw+IHGVWJR7gfKDV3XcAmNkdwEZgxhPPT57Zz1cfjjBnS9LYvR+739F/qMGDFvek3T15fx+z/5HvsVhSQok5I9EYw6PxhBNLce0JPbFligdkXkWpsbi2ksW1FZy5tJbFJ8dfL66tZEltBQvnVrDtmad50bpzDifHePKEErMgeXJMryWjMSvpiBxjtiWeZUB70vsO4MVjdzKz64HrAZYsWUJzc/OUL9S2b5RyizEaGTj63BMcYxbfnryPJW07Zv8xL0pLoazMKKuGspLEVwllJSWUl0CZQVmJJW2Dcjv6fVkJjEQiVFZXJ/U+IAZHXgfvbWwcY2K14HUJUGLB6yAJGInXHP066X38+HiyKDOYU07QAxkJvg7FLzQA0QHYB1SMDrLr2acm+JTz08DAwLR+z3JNcWdXocY91mxLPKn+7h/TF3D3W4FbAdavX+8bNmyY8oU2ABuam5nOsbnWXKBxQ+HGrrizS3Hn1mwbB+gAkucjWQ68kKNYRERmpdmWeJqBtWZ2kplVANcAd+c4JhGRWWVWDbW5e9TM3gXcR7yc+jZ3z7+76CIiRWxWJR4Ad78HuCfXcYiIzFazbahNRERyTIlHRESySolHRESySolHRESySolHRESySolHRESySolHRESySolHRESySolHRESyyhILeUlqZtYJ7J7m4QuBgzMYTrYUatxQuLEr7uxS3Jm30t0XpdqgxJNBZvaIu5+X6zimqlDjhsKNXXFnl+LOLQ21iYhIVinxiIhIVinxZNatuQ5gmgo1bijc2BV3dinuHNI9HhERySr1eEREJKuUeDLEzK4ys+fMrNXMPpjreNJlZrvM7Gkze8LMHsl1POMxs9vM7ICZPZPU1mBm95tZS/C9PpcxpjJO3P9gZnuCz/wJM3tFLmNMxcwazexXZrbNzLaY2XuC9rz+zCeIO68/czOrMrM/mNmTQdz/GLSfZGYPB5/398ysItexToeG2jLAzEqB54E/BjqAZuBN7r41p4Glwcx2Aee5e14/K2BmlwCHgG+6+5lB278A3e7+6SDZ17v7B3IZ51jjxP0PwCF3/0wuY5uImS0Flrr7Y2ZWCzwKvBr4C/L4M58g7jeQx5+5mRkwx90PmVk58BvgPcCNwA/c/Q4z+wrwpLvfkstYp0M9nsw4H2h19x3uPgzcAWzMcUxFxd0fBLrHNG8Ebg9e3078D0xeGSfuvOfue939seB1P7ANWEaef+YTxJ3XPO5Q8LY8+HLgcuD7QXvefd7pUuLJjGVAe9L7Dgrglz3gwM/N7FEzuz7XwUzREnffC/E/OMDiHMczFe8ys6eCobi8Gq4ay8xWAS8CHqaAPvMxcUOef+ZmVmpmTwAHgPuB7UCPu0eDXQrp78pRlHgyw1K0FcqY5kXuvh64GrghGBqSzLoFWAOsA/YCn81tOOMzs7nAXcB73b0v1/GkK0Xcef+Zu/uou68DlhMfRTkt1W7ZjWpmKPFkRgfQmPR+OfBCjmKZEnd/Ifh+APhf4r/whWJ/MKafGNs/kON40uLu+4M/MjHgv8jTzzy413AX8B13/0HQnPefeaq4C+UzB3D3HmATcAEw38zKgk0F83dlLCWezGgG1gYVKBXANcDdOY5pUmY2J7gBi5nNAV4OPDPxUXnlbuDa4PW1wI9yGEvaEn+4A68hDz/z4Gb314Bt7v65pE15/ZmPF3e+f+ZmtsjM5gevq4E/In5/6lfA64Ld8u7zTpeq2jIkKM/8N6AUuM3dP5njkCZlZquJ93IAyoD/zte4zey7wGXEZ+vdD9wM/BC4E1gBtAGvd/e8upE/TtyXER/ycWAX8DeJ+yb5wswuBn4NPA3EguYPEb9fkref+QRxv4k8/szN7GzixQOlxDsId7r7x4L/R+8AGoDHgbe4+1DuIp0eJR4REckqDbWJiEhWKfGIiEhWKfGIiEhWKfGIiEhWKfGIiEhWKfGIjGFmh8a8/wsz+2Ku4hEpNko8IiKSVUo8IlNgZivN7IFgcskHzGxF0P4NM+sIlsTAzN5pZh5MTImZvSVYX+UJM/vPpP0Omdlnzeyx4HyLUlzzG2b2uuD1XwXnXWhm/xqcb1/S2jIfC/Z7v5k1B3Em1nJZZWbPmtntQfv3zawm2PbRYP9nzOzW4Il/zGyTmZ2XFMuhpNe7zGxh8PrbFqwxlNxDNLNTzCyaiF8ElHhEUqm2IwuEPQF8LGnbF4mvpXM28B3gC0nb9gBXBq83Aq0AZnYa8EbiE7CuA0aBNwf7zQEeCyZm3Ux8JoOUzKwKeAfBfGju/v7gfF8BPu/u69z9o2b2cmAt8fnH1gHnJk32egpwaxB/H/B/Ej+Xu28I1giqBl6Z7odlZmcBZ46z+ePAs+meS2YHJR6RY4WDP+Lrgj/sH03adiHw38HrbwEXJ237FvBWMzsTaAESU5lcAZwLNAeJ7ApgdbAtBnwveP3tMecb6wbi06iEJ4n/5cHX48BjwKnEExFAu7v/NsX1XmbxlS2fJr7myxmTXCPZJ0iRMM3sXOJ/Y/J2JVvJjbLJdxGRCSTPObWP+IJd7wf+HXhZ0G7A7e5+0xTPl6yO+PxiLwHeN8k5DPiUu//nUY3xYb+x5/egJ/Vl4ivPtlt8RdSqNGIliOcQ8GSKbZ8gvmJm3qxIKvlBPR6Rqfkd8dnGIT5c9psx278OLE6sehl4AHidmS0GMLMGM1sZbCvhyGzDf57ifAl/B3whWNF2MvcBfxmsQYOZLUtcG1hhZhcGr98UXC+RZA4Gx0zlfsw/cHSPMOFSYK+7b5vCuWSWUI9HZGr+FrjNzN4PdAJvT97o7j8FfjqmbauZfZj4yq4lwAjxYbPdwABwhpk9CvQSvxeUihEfGpuUu/88uK/0+6BG4BDwFuL3lrYB15rZfxIfDrzF3QfN7L+Iz+C8i/iyHsm+mlRUUG1m/+Hu7w7eP+zu2xNFFEnWAn+STrwy+2h2apEcMrND7j43S9daBfwkKCA4nvNscvfLZiImmZ001CYiU/W1XAcghU09HhERySr1eEREJKuUeEREJKuUeEREJKuUeEREJKuUeEREJKuUeEREJKv+P+YgL0vKb6DMAAAAAElFTkSuQmCC\n",
      "text/plain": [
       "<Figure size 432x432 with 1 Axes>"
      ]
     },
     "metadata": {
      "needs_background": "light"
     },
     "output_type": "display_data"
    }
   ],
   "source": [
    "drawPlot(flat_list,y=\"Число\")"
   ]
  },
  {
   "cell_type": "markdown",
   "metadata": {},
   "source": [
    "Попробуем посмотреть на таких данных какая будет скорость графика."
   ]
  },
  {
   "cell_type": "code",
   "execution_count": 22,
   "metadata": {
    "ExecuteTime": {
     "end_time": "2020-06-27T23:09:40.233887Z",
     "start_time": "2020-06-27T23:09:40.002541Z"
    }
   },
   "outputs": [
    {
     "data": {
      "image/png": "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\n",
      "text/plain": [
       "<Figure size 432x432 with 1 Axes>"
      ]
     },
     "metadata": {
      "needs_background": "light"
     },
     "output_type": "display_data"
    }
   ],
   "source": [
    "dbet = [flat_list[i]-flat_list[i-1] for i in range(1,len(flat_list))]\n",
    "drawPlot(dbet,title=\"Скорость обрученных чисел\",x=\"Номер числа\",y=\"Ускорение\")"
   ]
  },
  {
   "cell_type": "markdown",
   "metadata": {},
   "source": [
    "Кстати, а по поводу отношений в 5.5 раз. Можем попробовать найти отношения среди этих 7 пар. Может есть сходимость?"
   ]
  },
  {
   "cell_type": "code",
   "execution_count": 23,
   "metadata": {
    "ExecuteTime": {
     "end_time": "2020-06-27T23:09:40.453241Z",
     "start_time": "2020-06-27T23:09:40.240551Z"
    }
   },
   "outputs": [
    {
     "data": {
      "image/png": "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\n",
      "text/plain": [
       "<Figure size 432x432 with 1 Axes>"
      ]
     },
     "metadata": {
      "needs_background": "light"
     },
     "output_type": "display_data"
    }
   ],
   "source": [
    "ratio=[flat_list[i]/flat_list[i-1] for i in range(1,len(flat_list))]\n",
    "drawPlot(ratio,title=\"Отношения пар\",x=\"Номер пары\",y=\"Отношение\")"
   ]
  },
  {
   "cell_type": "markdown",
   "metadata": {},
   "source": [
    "И вот мы видим два момента.  \n",
    "Первый: ряд не сходится"
   ]
  },
  {
   "cell_type": "markdown",
   "metadata": {},
   "source": [
    "Второй: если взять любое обручённое число и умножать его на любые числа до 5.5, то мы точно сможем найти его пару! Поэтому и получился своего рода диапазон."
   ]
  },
  {
   "cell_type": "code",
   "execution_count": null,
   "metadata": {},
   "outputs": [],
   "source": []
  },
  {
   "cell_type": "markdown",
   "metadata": {},
   "source": [
    "Узнаем среднее отношение"
   ]
  },
  {
   "cell_type": "code",
   "execution_count": 24,
   "metadata": {
    "ExecuteTime": {
     "end_time": "2020-06-27T23:09:40.597297Z",
     "start_time": "2020-06-27T23:09:40.457027Z"
    }
   },
   "outputs": [
    {
     "data": {
      "text/plain": [
       "1.5267131382431978"
      ]
     },
     "execution_count": 24,
     "metadata": {},
     "output_type": "execute_result"
    }
   ],
   "source": [
    "np.mean(ratio)"
   ]
  },
  {
   "cell_type": "markdown",
   "metadata": {},
   "source": [
    "#### Плотность   \n",
    "По традиции, изучим плотность ряда квази-дружественных чисел!  \n",
    "А затем и скорость."
   ]
  },
  {
   "cell_type": "code",
   "execution_count": 25,
   "metadata": {
    "ExecuteTime": {
     "end_time": "2020-06-27T23:09:41.017766Z",
     "start_time": "2020-06-27T23:09:40.600031Z"
    }
   },
   "outputs": [
    {
     "data": {
      "image/png": "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\n",
      "text/plain": [
       "<Figure size 432x432 with 1 Axes>"
      ]
     },
     "metadata": {
      "needs_background": "light"
     },
     "output_type": "display_data"
    }
   ],
   "source": [
    "densities=[(len(list(filter(lambda x: x < i, sorted(flat_list))))-1)/i for i in range(200,10000)]\n",
    "drawPlot(densities,\"Изменение плотности\",\"Плотность\",\"Обручённое число\")"
   ]
  },
  {
   "cell_type": "markdown",
   "metadata": {},
   "source": [
    "Ого. Плотность стремительно идёт к нулю"
   ]
  },
  {
   "cell_type": "code",
   "execution_count": 26,
   "metadata": {
    "ExecuteTime": {
     "end_time": "2020-06-27T23:09:41.243455Z",
     "start_time": "2020-06-27T23:09:41.020513Z"
    }
   },
   "outputs": [
    {
     "data": {
      "image/png": "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\n",
      "text/plain": [
       "<Figure size 432x432 with 1 Axes>"
      ]
     },
     "metadata": {
      "needs_background": "light"
     },
     "output_type": "display_data"
    }
   ],
   "source": [
    "ddensities = [densities[i]-densities[i-1] for i in range(1,len(densities))]\n",
    "drawPlot(ddensities,title=\"Скорость плотности\",x=\"Обручённое число\",y=\"Скорсоть\")"
   ]
  },
  {
   "cell_type": "markdown",
   "metadata": {},
   "source": [
    "Кстати, а теперь если приглядется на линии, которые появились на графике скорости плотности, то мы поймём, что это точки перегиба!  \n",
    "\n",
    "В целом, я бы сделал вывод, что раз плотность уменьшается, то находить обрученные числа с их ростом становится легче, если пренебречь тем, что числа большие."
   ]
  },
  {
   "cell_type": "markdown",
   "metadata": {},
   "source": [
    "### Статистика"
   ]
  },
  {
   "cell_type": "markdown",
   "metadata": {},
   "source": [
    "Узнаем сколько чётных и нечётных чисел в последовательности?"
   ]
  },
  {
   "cell_type": "code",
   "execution_count": 27,
   "metadata": {
    "ExecuteTime": {
     "end_time": "2020-06-27T23:09:41.253198Z",
     "start_time": "2020-06-27T23:09:41.246329Z"
    }
   },
   "outputs": [
    {
     "data": {
      "text/plain": [
       "17"
      ]
     },
     "execution_count": 27,
     "metadata": {},
     "output_type": "execute_result"
    }
   ],
   "source": [
    "InteractiveShell.ast_node_interactivity = \"last\"\n",
    "\n",
    "EvenBetrothed=[i for i in flat_list if(i%2==0)]\n",
    "len(EvenBetrothed)"
   ]
  },
  {
   "cell_type": "code",
   "execution_count": 28,
   "metadata": {
    "ExecuteTime": {
     "end_time": "2020-06-27T23:09:41.519623Z",
     "start_time": "2020-06-27T23:09:41.256045Z"
    }
   },
   "outputs": [
    {
     "data": {
      "text/plain": [
       "''"
      ]
     },
     "execution_count": 28,
     "metadata": {},
     "output_type": "execute_result"
    },
    {
     "data": {
      "image/png": "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\n",
      "text/plain": [
       "<Figure size 432x288 with 1 Axes>"
      ]
     },
     "metadata": {},
     "output_type": "display_data"
    }
   ],
   "source": [
    "plt.pie([len(EvenBetrothed),34-len(EvenBetrothed)], \n",
    "        colors=[\"#A7FF5B\",\"#E7AFFF\"],\n",
    "        labels=[\"Чётные\",\"Нечётные\"], \n",
    "        autopct='%1.1f%%',\n",
    "        shadow=True,\n",
    "        textprops={'color':\"black\"})\n",
    "plt.legend([len(EvenBetrothed),34-len(EvenBetrothed)])\n",
    ";"
   ]
  },
  {
   "cell_type": "markdown",
   "metadata": {},
   "source": [
    "Идеальный баланс!"
   ]
  },
  {
   "cell_type": "markdown",
   "metadata": {},
   "source": [
    "Исследуем теперь на простоту!"
   ]
  },
  {
   "cell_type": "code",
   "execution_count": 29,
   "metadata": {
    "ExecuteTime": {
     "end_time": "2020-06-27T23:09:41.664966Z",
     "start_time": "2020-06-27T23:09:41.522154Z"
    }
   },
   "outputs": [],
   "source": [
    "def _isPrime(n):\n",
    "    if n%2==0:\n",
    "        return n==2\n",
    "    d=3\n",
    "    while d*d<=n and n%d!=0:\n",
    "        d+=2\n",
    "    return d*d>n"
   ]
  },
  {
   "cell_type": "code",
   "execution_count": 30,
   "metadata": {
    "ExecuteTime": {
     "end_time": "2020-06-27T23:09:41.901105Z",
     "start_time": "2020-06-27T23:09:41.668054Z"
    }
   },
   "outputs": [
    {
     "data": {
      "text/plain": [
       "''"
      ]
     },
     "execution_count": 30,
     "metadata": {},
     "output_type": "execute_result"
    },
    {
     "data": {
      "image/png": "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\n",
      "text/plain": [
       "<Figure size 432x288 with 1 Axes>"
      ]
     },
     "metadata": {},
     "output_type": "display_data"
    }
   ],
   "source": [
    "PrimeBetrothed=[(i) for i in flat_list if(_isPrime(int(i)))]\n",
    "plt.pie([34-len(PrimeBetrothed),len(PrimeBetrothed)], \n",
    "        colors=[\"#A7FF5B\",\"#E7AFFF\"],\n",
    "        labels=[\"Составные\",\"Простые\"], \n",
    "        autopct='%1.1f%%',\n",
    "        shadow=True,\n",
    "        textprops={'color':\"black\"})\n",
    "plt.legend([34-len(PrimeBetrothed),len(PrimeBetrothed)])\n",
    ";"
   ]
  },
  {
   "cell_type": "markdown",
   "metadata": {
    "ExecuteTime": {
     "end_time": "2020-06-26T19:39:43.204582Z",
     "start_time": "2020-06-26T19:39:43.201207Z"
    }
   },
   "source": [
    "Ни одного простого числа! Вот так забава."
   ]
  },
  {
   "cell_type": "markdown",
   "metadata": {},
   "source": [
    "### Фракталы"
   ]
  },
  {
   "cell_type": "markdown",
   "metadata": {
    "ExecuteTime": {
     "end_time": "2020-05-08T22:49:42.992547Z",
     "start_time": "2020-05-08T22:49:42.988934Z"
    }
   },
   "source": [
    "Посмотрим, а можно ли нарисовать какие-то картинки по данному ряду?"
   ]
  },
  {
   "cell_type": "code",
   "execution_count": 31,
   "metadata": {
    "ExecuteTime": {
     "end_time": "2020-06-27T23:09:42.023193Z",
     "start_time": "2020-06-27T23:09:41.903459Z"
    }
   },
   "outputs": [],
   "source": [
    "ratio=[flat_list[i]/flat_list[i-1] for i in range(1,len(flat_list))]"
   ]
  },
  {
   "cell_type": "markdown",
   "metadata": {},
   "source": [
    "$ угол={{2 \\pi }\\over{x^2}} $"
   ]
  },
  {
   "cell_type": "code",
   "execution_count": 32,
   "metadata": {
    "ExecuteTime": {
     "end_time": "2020-06-27T23:09:42.208576Z",
     "start_time": "2020-06-27T23:09:42.026168Z"
    }
   },
   "outputs": [
    {
     "data": {
      "text/plain": [
       "1.5267131382431978"
      ]
     },
     "execution_count": 32,
     "metadata": {},
     "output_type": "execute_result"
    }
   ],
   "source": [
    "np.mean(ratio)"
   ]
  },
  {
   "cell_type": "code",
   "execution_count": 33,
   "metadata": {
    "ExecuteTime": {
     "end_time": "2020-06-27T23:09:42.325248Z",
     "start_time": "2020-06-27T23:09:42.211464Z"
    }
   },
   "outputs": [
    {
     "data": {
      "text/latex": [
       "$\\displaystyle 154.449894093916$"
      ],
      "text/plain": [
       "154.449894093916"
      ]
     },
     "execution_count": 33,
     "metadata": {},
     "output_type": "execute_result"
    }
   ],
   "source": [
    "angle=sp.N(360/np.mean(ratio)**2)\n",
    "angle"
   ]
  },
  {
   "cell_type": "code",
   "execution_count": 34,
   "metadata": {
    "ExecuteTime": {
     "end_time": "2020-06-27T23:09:42.477085Z",
     "start_time": "2020-06-27T23:09:42.327648Z"
    }
   },
   "outputs": [
    {
     "data": {
      "application/vnd.jupyter.widget-view+json": {
       "model_id": "982f5e01a90f45e9abb03e74e48675c5",
       "version_major": 2,
       "version_minor": 0
      },
      "text/plain": [
       "Turtle()"
      ]
     },
     "metadata": {},
     "output_type": "display_data"
    }
   ],
   "source": [
    "#Создаём картинку 300х300\n",
    "\n",
    "N=300\n",
    "t = turtle.Turtle(fixed=False, width=N, height=N)\n",
    "t.hideturtle()\n",
    "t"
   ]
  },
  {
   "cell_type": "code",
   "execution_count": 35,
   "metadata": {
    "ExecuteTime": {
     "end_time": "2020-06-27T23:09:56.252777Z",
     "start_time": "2020-06-27T23:09:42.480260Z"
    }
   },
   "outputs": [],
   "source": [
    "for i in range(15):\n",
    "    for j in range(int(angle)): \n",
    "        t.forward(i/10) \n",
    "        t.left(1)\n",
    "        if(i>10):\n",
    "            time.sleep(0.01) # Чтобы не терять рисунок"
   ]
  },
  {
   "cell_type": "code",
   "execution_count": 36,
   "metadata": {
    "ExecuteTime": {
     "end_time": "2020-06-27T23:09:56.269576Z",
     "start_time": "2020-06-27T23:09:56.255472Z"
    }
   },
   "outputs": [
    {
     "data": {
      "application/vnd.jupyter.widget-view+json": {
       "model_id": "be27d815c0ad4f0399d8e1d8550a4db8",
       "version_major": 2,
       "version_minor": 0
      },
      "text/plain": [
       "Turtle()"
      ]
     },
     "metadata": {},
     "output_type": "display_data"
    }
   ],
   "source": [
    "t = turtle.Turtle(fixed=False, width=N, height=N)\n",
    "t.hideturtle()\n",
    "t"
   ]
  },
  {
   "cell_type": "code",
   "execution_count": 37,
   "metadata": {
    "ExecuteTime": {
     "end_time": "2020-06-27T23:11:07.332161Z",
     "start_time": "2020-06-27T23:09:56.271746Z"
    }
   },
   "outputs": [],
   "source": [
    "for i in range(15):\n",
    "    angle=sp.N(360/ratio[i]**2)\n",
    "    for j in range(int(angle)): \n",
    "        t.forward(i/10) \n",
    "        t.left(1)\n",
    "        if(i>10):\n",
    "            time.sleep(0.04) # Чтобы не терять рисунок"
   ]
  },
  {
   "cell_type": "markdown",
   "metadata": {},
   "source": [
    "Если взять среднее соотношение чисел, то получается что-то типо рисунка компанейских чисел. (Не зря, существуют квази-компанейские числа)"
   ]
  },
  {
   "cell_type": "markdown",
   "metadata": {},
   "source": [
    "Но, как только у нас будет динамический угол, то получается расширенная версия дружественных чисел. Вроде и странная, а вроде и больше похожа на Google Chrome, чем было."
   ]
  },
  {
   "cell_type": "markdown",
   "metadata": {},
   "source": [
    "### Подведём итог"
   ]
  },
  {
   "cell_type": "markdown",
   "metadata": {},
   "source": [
    "Квази-дружественные (обрученные) числа имеют очень много похожих свойств с компанейскими и дружественными числами. И это удивляет. "
   ]
  },
  {
   "cell_type": "markdown",
   "metadata": {},
   "source": [
    "# Конец  \n",
    "\n",
    "На этом всё, дорогие читатели!  \n",
    "Надеюсь вам было интересно узнать что-то вроде такого из занимательной математики 😍\n",
    "\n",
    "Прошлый раз я обещал расказать про совершенные числа, но у меня не хватает времени пока, что. Поэтому я успел сделать такую статью)\n",
    "Если у вас есть мысли или пожелания, обязательно напишите...Может найду что подправить или добавить."
   ]
  },
  {
   "cell_type": "markdown",
   "metadata": {},
   "source": [
    "---\n",
    "\n",
    "Здесь ссылка на датасеты обрученных чисел\n",
    "[Квази-дружественные числа]\n",
    "(https://github.com/lonagi/pysasha/tree/master/datasets/Number%20Theory/Betrothed%20Numbers)\n",
    "\n",
    "Есть датасет с рядом, а есть с парами."
   ]
  },
  {
   "cell_type": "markdown",
   "metadata": {},
   "source": [
    "Если есть желание прочитать статью на другом источнике, то пожалуйста, вот ниже ссылки:\n",
    "    \n",
    "[ВКонтакте](https://vk.com/@lonagi-kvazi-druzhestvennye-chisla-issledovanie)  \n",
    "[Instagram](https://www.instagram.com/p/CCEo5uVpKOD/)    \n",
    "[Facebook](https://www.facebook.com/%D0%97%D0%B0%D0%BD%D0%B8%D0%BC%D0%B0%D1%82%D0%B5%D0%BB%D1%8C%D0%BD%D0%B0%D1%8F-%D0%BC%D0%B0%D1%82%D0%B5%D0%BC%D0%B0%D1%82%D0%B8%D0%BA%D0%B0-%D0%BE%D1%82-Lonagi-112410007105730)    \n", "
   ]
  },
  {
   "cell_type": "code",
   "execution_count": null,
   "metadata": {},
   "outputs": [],
   "source": []
  }
 ],
 "metadata": {
  "kernelspec": {
   "display_name": "Python 3",
   "language": "python",
   "name": "python3"
  },
  "language_info": {
   "codemirror_mode": {
    "name": "ipython",
    "version": 3
   },
   "file_extension": ".py",
   "mimetype": "text/x-python",
   "name": "python",
   "nbconvert_exporter": "python",
   "pygments_lexer": "ipython3",
   "version": "3.7.6"
  },
  "varInspector": {
   "cols": {
    "lenName": 16,
    "lenType": 16,
    "lenVar": 40
   },
   "kernels_config": {
    "python": {
     "delete_cmd_postfix": "",
     "delete_cmd_prefix": "del ",
     "library": "var_list.py",
     "varRefreshCmd": "print(var_dic_list())"
    },
    "r": {
     "delete_cmd_postfix": ") ",
     "delete_cmd_prefix": "rm(",
     "library": "var_list.r",
     "varRefreshCmd": "cat(var_dic_list()) "
    }
   },
   "types_to_exclude": [
    "module",
    "function",
    "builtin_function_or_method",
    "instance",
    "_Feature"
   ],
   "window_display": false
  }
 },
 "nbformat": 4,
 "nbformat_minor": 4
}
