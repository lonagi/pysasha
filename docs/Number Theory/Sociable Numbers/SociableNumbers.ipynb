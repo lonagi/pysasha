{
 "cells": [
  {
   "cell_type": "markdown",
   "metadata": {},
   "source": [
    "# Компанейские числа. Исследование"
   ]
  },
  {
   "cell_type": "markdown",
   "metadata": {},
   "source": [
    "### #Занимательная Математика\n",
    "\n",
    "#### Весь код на Github, ссылка в конце статьи!"
   ]
  },
  {
   "cell_type": "markdown",
   "metadata": {},
   "source": [
    "Импорт библиотек"
   ]
  },
  {
   "cell_type": "code",
   "execution_count": 1,
   "metadata": {
    "ExecuteTime": {
     "end_time": "2020-05-19T08:43:23.719211Z",
     "start_time": "2020-05-19T08:43:22.834488Z"
    }
   },
   "outputs": [],
   "source": [
    "from IPython.display import Image\n",
    "from IPython.core.display import HTML \n",
    "from IPython.core.interactiveshell import InteractiveShell\n",
    "from scipy.ndimage.filters import gaussian_filter1d\n",
    "from scipy.signal import savgol_filter\n",
    "import numpy as np\n",
    "import sympy as sp\n",
    "import pandas as pd\n",
    "import random as r\n",
    "import time\n",
    "import matplotlib.pyplot as plt\n",
    "import ipyturtle as turtle\n",
    "InteractiveShell.ast_node_interactivity = \"all\"\n",
    "\n",
    "def drawPlot(ss,title=\"Скорости\",y=\"Секунд\",x=\"Номер итерации\"):\n",
    "    fig,ax=plt.subplots(figsize=(6,6))\n",
    "    ax.set_facecolor(\"#F2F2F2\")\n",
    "    ax.grid()\n",
    "    ax.set_title(title)\n",
    "    ax.set_ylabel(y)\n",
    "    ax.set_xlabel(x)\n",
    "    ax.plot(ss)"
   ]
  },
  {
   "cell_type": "code",
   "execution_count": 2,
   "metadata": {
    "ExecuteTime": {
     "end_time": "2020-05-19T08:43:23.724928Z",
     "start_time": "2020-05-19T08:43:23.720799Z"
    }
   },
   "outputs": [
    {
     "data": {
      "text/html": [
       "<img src=\"https://sun1-92.userapi.com/PBUS51pFNY-XwsB811CUdZtLWQkFnZ6f8xVQGg/Sm3I9V-uiuA.jpg\" width=\"400\"/>"
      ],
      "text/plain": [
       "<IPython.core.display.Image object>"
      ]
     },
     "execution_count": 2,
     "metadata": {},
     "output_type": "execute_result"
    }
   ],
   "source": [
    "Image(url=\"https://sun9-46.userapi.com/c858036/v858036072/1e3bba/s6JwXFoOgLM.jpg\", width=400)"
   ]
  },
  {
   "cell_type": "markdown",
   "metadata": {},
   "source": [
    "Компанейские числа?  \n",
    "Прошлая статья была про дружественные числа. Помним что это?  \n",
    "\n",
    "Если число разложить на его делители, а потом просуммировать их, то выйдет такое число, которое при той же операции вернёт первое число.  \n",
    "Например:  \n",
    "Возьмём число 8. Его собственные делители = 4,2,1  \n",
    "Сумма: 4+2+1 = 7   \n",
    "Делители семи: 1 и всё. Но 1 + 0, даст 1, а не 8. Поэтому числа 8 и 7 не являются дружественными.  \n",
    "\n",
    "Первый представитель дружественной пары это - (220,284)   \n",
    "Проверьте сами.  \n",
    "\n",
    "Однако должен отметить очень интересный момент по теме. Любой дружественное число ещё является и компанейским. Почему?  \n",
    "Компанейские числа - это такие числа, которые могут проходить несколько стадий таких вот операций, как описано выше из примера.  \n",
    "Каждое компанейское число обладает своим порядком, так сказать.  \n",
    "У дружественных чисел это порядок равен 2. Как понять?  \n",
    "\n",
    "Создам функцию для нахождения собственных делителей."
   ]
  },
  {
   "cell_type": "code",
   "execution_count": 3,
   "metadata": {
    "ExecuteTime": {
     "end_time": "2020-05-19T08:43:23.829064Z",
     "start_time": "2020-05-19T08:43:23.726310Z"
    }
   },
   "outputs": [],
   "source": [
    "def Divisors(num): \n",
    "    from math import sqrt as mmsq\n",
    "    s=set([1])\n",
    "    i=1\n",
    "    a=int(mmsq(num)+1)\n",
    "    while i<=a: \n",
    "        if(num//i==num):\n",
    "            i+=1\n",
    "            continue\n",
    "        if (num%i==0): \n",
    "            if (num//i!=i): \n",
    "                s.add(num//i)\n",
    "            s.add(i)\n",
    "        i+=1\n",
    "    return s"
   ]
  },
  {
   "cell_type": "code",
   "execution_count": 4,
   "metadata": {
    "ExecuteTime": {
     "end_time": "2020-05-19T08:43:23.888009Z",
     "start_time": "2020-05-19T08:43:23.830533Z"
    }
   },
   "outputs": [
    {
     "data": {
      "text/plain": [
       "{1, 2, 4, 5, 10, 11, 20, 22, 44, 55, 110}"
      ]
     },
     "execution_count": 4,
     "metadata": {},
     "output_type": "execute_result"
    }
   ],
   "source": [
    "Divisors(220)"
   ]
  },
  {
   "cell_type": "markdown",
   "metadata": {},
   "source": [
    "Просуммируем"
   ]
  },
  {
   "cell_type": "code",
   "execution_count": 5,
   "metadata": {
    "ExecuteTime": {
     "end_time": "2020-05-19T08:43:23.945952Z",
     "start_time": "2020-05-19T08:43:23.889172Z"
    }
   },
   "outputs": [
    {
     "data": {
      "text/plain": [
       "284"
      ]
     },
     "execution_count": 5,
     "metadata": {},
     "output_type": "execute_result"
    }
   ],
   "source": [
    "sum(Divisors(220))"
   ]
  },
  {
   "cell_type": "markdown",
   "metadata": {},
   "source": [
    "Операция проделана всего-то 1 раз.  \n",
    "из 220 мы получили число 284.  \n",
    "\n",
    "Повторим алгоритм ещё раз."
   ]
  },
  {
   "cell_type": "code",
   "execution_count": 6,
   "metadata": {
    "ExecuteTime": {
     "end_time": "2020-05-19T08:43:23.996301Z",
     "start_time": "2020-05-19T08:43:23.947093Z"
    }
   },
   "outputs": [
    {
     "data": {
      "text/plain": [
       "{1, 2, 4, 71, 142}"
      ]
     },
     "execution_count": 6,
     "metadata": {},
     "output_type": "execute_result"
    }
   ],
   "source": [
    "Divisors(284)"
   ]
  },
  {
   "cell_type": "code",
   "execution_count": 7,
   "metadata": {
    "ExecuteTime": {
     "end_time": "2020-05-19T08:43:24.045966Z",
     "start_time": "2020-05-19T08:43:23.997476Z"
    }
   },
   "outputs": [
    {
     "data": {
      "text/plain": [
       "220"
      ]
     },
     "execution_count": 7,
     "metadata": {},
     "output_type": "execute_result"
    }
   ],
   "source": [
    "sum(Divisors(284))"
   ]
  },
  {
   "cell_type": "markdown",
   "metadata": {},
   "source": [
    "И вот мы вернулись снова к числу 220, которое и было изначально.  \n",
    "Для этого мы провели нашу операцию два раза! Поэтому порядок - два.  \n",
    "В википедии это называют длиной последовательности.\n",
    "\n",
    "Сколько чисел в данной цепи операций кроме изначального"
   ]
  },
  {
   "cell_type": "markdown",
   "metadata": {},
   "source": [
    "Есть и другие длины. Например если длина будет равна 1, то получается, что у нас сумма собс.делителей числа вернёт сразу его же.   \n",
    "Такие числа называются **совершенные**, но о них будет статья позже 😁"
   ]
  },
  {
   "cell_type": "markdown",
   "metadata": {},
   "source": [
    "В целом длины последовательностей могут быть совсем разные.  \n",
    "От 1 до бесконечности."
   ]
  },
  {
   "cell_type": "markdown",
   "metadata": {},
   "source": [
    "Например, возьмём число 1264460"
   ]
  },
  {
   "cell_type": "code",
   "execution_count": 8,
   "metadata": {
    "ExecuteTime": {
     "end_time": "2020-05-19T08:43:24.096251Z",
     "start_time": "2020-05-19T08:43:24.048016Z"
    }
   },
   "outputs": [
    {
     "data": {
      "text/plain": [
       "1547860"
      ]
     },
     "execution_count": 8,
     "metadata": {},
     "output_type": "execute_result"
    }
   ],
   "source": [
    "sum(Divisors(1264460))"
   ]
  },
  {
   "cell_type": "code",
   "execution_count": 9,
   "metadata": {
    "ExecuteTime": {
     "end_time": "2020-05-19T08:43:24.146498Z",
     "start_time": "2020-05-19T08:43:24.097878Z"
    }
   },
   "outputs": [
    {
     "data": {
      "text/plain": [
       "1727636"
      ]
     },
     "execution_count": 9,
     "metadata": {},
     "output_type": "execute_result"
    }
   ],
   "source": [
    "sum(Divisors(1547860))"
   ]
  },
  {
   "cell_type": "code",
   "execution_count": 10,
   "metadata": {
    "ExecuteTime": {
     "end_time": "2020-05-19T08:43:24.204655Z",
     "start_time": "2020-05-19T08:43:24.147782Z"
    }
   },
   "outputs": [
    {
     "data": {
      "text/plain": [
       "1305184"
      ]
     },
     "execution_count": 10,
     "metadata": {},
     "output_type": "execute_result"
    }
   ],
   "source": [
    "sum(Divisors(1727636))"
   ]
  },
  {
   "cell_type": "code",
   "execution_count": 11,
   "metadata": {
    "ExecuteTime": {
     "end_time": "2020-05-19T08:43:24.254650Z",
     "start_time": "2020-05-19T08:43:24.205866Z"
    }
   },
   "outputs": [
    {
     "data": {
      "text/plain": [
       "1264460"
      ]
     },
     "execution_count": 11,
     "metadata": {},
     "output_type": "execute_result"
    }
   ],
   "source": [
    "sum(Divisors(1305184))"
   ]
  },
  {
   "cell_type": "markdown",
   "metadata": {
    "ExecuteTime": {
     "end_time": "2020-05-16T12:30:08.666423Z",
     "start_time": "2020-05-16T12:30:08.662696Z"
    }
   },
   "source": [
    "И вот мы получили в конце тоже самое число, проделав наш алгоритм 4 раза! Поэтому длина последовательности(порядок, либо период) равен 4"
   ]
  },
  {
   "cell_type": "markdown",
   "metadata": {},
   "source": [
    "В целом, узнать является ли число компанейским не так уж и быстро. Если конечно мы со временем во всей последовательности получаем единицу, то число ТОЧНО не компанейское. А вдруг вам попадётся число с длиной последовательности, например 999. Это замучаться надо, чтобы дойти до такого.  \n",
    "\n",
    "Короче говоря, компанейские числа образуют бесконечный цикл при проделывании операции с делителями"
   ]
  },
  {
   "cell_type": "markdown",
   "metadata": {},
   "source": [
    "Классификация всех известных компанейских чисел 2015 год по длине:"
   ]
  },
  {
   "cell_type": "code",
   "execution_count": 12,
   "metadata": {
    "ExecuteTime": {
     "end_time": "2020-05-19T08:43:24.309648Z",
     "start_time": "2020-05-19T08:43:24.255992Z"
    }
   },
   "outputs": [
    {
     "data": {
      "text/html": [
       "<div>\n",
       "<style scoped>\n",
       "    .dataframe tbody tr th:only-of-type {\n",
       "        vertical-align: middle;\n",
       "    }\n",
       "\n",
       "    .dataframe tbody tr th {\n",
       "        vertical-align: top;\n",
       "    }\n",
       "\n",
       "    .dataframe thead th {\n",
       "        text-align: right;\n",
       "    }\n",
       "</style>\n",
       "<table border=\"1\" class=\"dataframe\">\n",
       "  <thead>\n",
       "    <tr style=\"text-align: right;\">\n",
       "      <th></th>\n",
       "      <th>Длина последовательности</th>\n",
       "      <th>Количество комп.чисел</th>\n",
       "    </tr>\n",
       "  </thead>\n",
       "  <tbody>\n",
       "    <tr>\n",
       "      <th>0</th>\n",
       "      <td>1</td>\n",
       "      <td>49</td>\n",
       "    </tr>\n",
       "    <tr>\n",
       "      <th>1</th>\n",
       "      <td>2</td>\n",
       "      <td>1007478796</td>\n",
       "    </tr>\n",
       "    <tr>\n",
       "      <th>2</th>\n",
       "      <td>4</td>\n",
       "      <td>1581</td>\n",
       "    </tr>\n",
       "    <tr>\n",
       "      <th>3</th>\n",
       "      <td>5</td>\n",
       "      <td>1</td>\n",
       "    </tr>\n",
       "    <tr>\n",
       "      <th>4</th>\n",
       "      <td>6</td>\n",
       "      <td>5</td>\n",
       "    </tr>\n",
       "    <tr>\n",
       "      <th>5</th>\n",
       "      <td>8</td>\n",
       "      <td>4</td>\n",
       "    </tr>\n",
       "    <tr>\n",
       "      <th>6</th>\n",
       "      <td>9</td>\n",
       "      <td>1</td>\n",
       "    </tr>\n",
       "    <tr>\n",
       "      <th>7</th>\n",
       "      <td>28</td>\n",
       "      <td>1</td>\n",
       "    </tr>\n",
       "  </tbody>\n",
       "</table>\n",
       "</div>"
      ],
      "text/plain": [
       "   Длина последовательности  Количество комп.чисел\n",
       "0                         1                     49\n",
       "1                         2             1007478796\n",
       "2                         4                   1581\n",
       "3                         5                      1\n",
       "4                         6                      5\n",
       "5                         8                      4\n",
       "6                         9                      1\n",
       "7                        28                      1"
      ]
     },
     "execution_count": 12,
     "metadata": {},
     "output_type": "execute_result"
    }
   ],
   "source": [
    "stat=np.array([(1,49),(2,1007478796),(4,1581),(5,1),(6,5),(8,4),(9,1),(28,1)])\n",
    "pd.DataFrame(stat).rename(columns={0:\"Длина последовательности\",1:\"Количество комп.чисел\"})"
   ]
  },
  {
   "cell_type": "markdown",
   "metadata": {},
   "source": [
    "Алгортмы нахождения компанейских чисел."
   ]
  },
  {
   "cell_type": "markdown",
   "metadata": {},
   "source": [
    "Первый. Мой. "
   ]
  },
  {
   "cell_type": "code",
   "execution_count": 13,
   "metadata": {
    "ExecuteTime": {
     "end_time": "2020-05-19T08:43:24.362144Z",
     "start_time": "2020-05-19T08:43:24.310879Z"
    }
   },
   "outputs": [],
   "source": [
    "def SociableNumber(num,minIt=1,maxIt=20,sequence=False):\n",
    "    num1=num\n",
    "    iterat=0\n",
    "    if(sequence):\n",
    "        seq=[]\n",
    "    while iterat<maxIt:\n",
    "        iterat+=1\n",
    "        if(sequence):\n",
    "            seq.append(num)\n",
    "        \n",
    "        num = sum(Divisors(num))\n",
    "        if(num==1):\n",
    "            return False\n",
    "        \n",
    "        if(num1==num):\n",
    "            if(iterat!=minIt):\n",
    "                return False\n",
    "            if(sequence):\n",
    "                return (num,iterat,seq)\n",
    "            else:\n",
    "                return (num,iterat)"
   ]
  },
  {
   "cell_type": "markdown",
   "metadata": {},
   "source": [
    "Расскажу про него. На вход функции мы подаём число, которое хотим проверить, затем указываем интервал длины последовательности в двух параметрах, и в конце указываем хотим ли вывести все \"числа-посредники\"."
   ]
  },
  {
   "cell_type": "markdown",
   "metadata": {},
   "source": [
    "Проверим на числе 4 периода"
   ]
  },
  {
   "cell_type": "code",
   "execution_count": 14,
   "metadata": {
    "ExecuteTime": {
     "end_time": "2020-05-19T08:43:24.413497Z",
     "start_time": "2020-05-19T08:43:24.363546Z"
    }
   },
   "outputs": [
    {
     "data": {
      "text/plain": [
       "False"
      ]
     },
     "execution_count": 14,
     "metadata": {},
     "output_type": "execute_result"
    }
   ],
   "source": [
    "SociableNumber(1264460,1,sequence=True)"
   ]
  },
  {
   "cell_type": "code",
   "execution_count": 15,
   "metadata": {
    "ExecuteTime": {
     "end_time": "2020-05-19T08:43:24.480026Z",
     "start_time": "2020-05-19T08:43:24.414730Z"
    }
   },
   "outputs": [
    {
     "data": {
      "text/plain": [
       "False"
      ]
     },
     "execution_count": 15,
     "metadata": {},
     "output_type": "execute_result"
    }
   ],
   "source": [
    "SociableNumber(1264460,2,sequence=True)"
   ]
  },
  {
   "cell_type": "code",
   "execution_count": 16,
   "metadata": {
    "ExecuteTime": {
     "end_time": "2020-05-19T08:43:24.530340Z",
     "start_time": "2020-05-19T08:43:24.481348Z"
    }
   },
   "outputs": [
    {
     "data": {
      "text/plain": [
       "False"
      ]
     },
     "execution_count": 16,
     "metadata": {},
     "output_type": "execute_result"
    }
   ],
   "source": [
    "SociableNumber(1264460,3,sequence=True)"
   ]
  },
  {
   "cell_type": "code",
   "execution_count": 17,
   "metadata": {
    "ExecuteTime": {
     "end_time": "2020-05-19T08:43:24.580407Z",
     "start_time": "2020-05-19T08:43:24.531602Z"
    }
   },
   "outputs": [
    {
     "data": {
      "text/plain": [
       "(1264460, 4, [1264460, 1547860, 1727636, 1305184])"
      ]
     },
     "execution_count": 17,
     "metadata": {},
     "output_type": "execute_result"
    }
   ],
   "source": [
    "SociableNumber(1264460,4,sequence=True)"
   ]
  },
  {
   "cell_type": "markdown",
   "metadata": {},
   "source": [
    "И мы видим, что число 1264460 является компанейским числом с периодом 4  \n",
    "\n",
    "Также, дополнительно я решил посмотреть на ряд чисел-посредников. Всё совершенно верно!"
   ]
  },
  {
   "cell_type": "markdown",
   "metadata": {},
   "source": [
    "Теперь посмотрим на алгоритм, когда мы не знаем длину последовательности компанейского числа."
   ]
  },
  {
   "cell_type": "code",
   "execution_count": 18,
   "metadata": {
    "ExecuteTime": {
     "end_time": "2020-05-19T08:43:24.628766Z",
     "start_time": "2020-05-19T08:43:24.581673Z"
    }
   },
   "outputs": [],
   "source": [
    "def _SociableNumber(num,sequence=False):\n",
    "    num1=num\n",
    "    iterat=0\n",
    "    if(sequence):\n",
    "        seq=[]\n",
    "    while True:\n",
    "        iterat+=1\n",
    "        if(sequence):\n",
    "            seq.append(num)\n",
    "        \n",
    "        num = sum(Divisors(num))\n",
    "        if(num==1):\n",
    "            return False\n",
    "        \n",
    "        if(num1==num):\n",
    "            if(sequence):\n",
    "                return (num,iterat,seq)\n",
    "            else:\n",
    "                return (num,iterat)"
   ]
  },
  {
   "cell_type": "code",
   "execution_count": 19,
   "metadata": {
    "ExecuteTime": {
     "end_time": "2020-05-19T08:43:24.680338Z",
     "start_time": "2020-05-19T08:43:24.630015Z"
    }
   },
   "outputs": [
    {
     "data": {
      "text/plain": [
       "(1264460, 4)"
      ]
     },
     "execution_count": 19,
     "metadata": {},
     "output_type": "execute_result"
    }
   ],
   "source": [
    "_SociableNumber(1264460)"
   ]
  },
  {
   "cell_type": "markdown",
   "metadata": {},
   "source": [
    "Алгоритм сработал верно и быстро.  \n",
    "Однако почему вначале я показал не этот алгоритм, и почему текущий не основной?  \n",
    "Дело в том, что чисто гипотетически можно подать такое число, что оно будет бесконечно искать эти числа. То есть период равен бесконечности. Правда, есть ли такое число? Неизвестно, но пока мы до дойдём до единицы, чтобы доказать всего-то, что число НЕ компанейское пройдёт много времени.   \n",
    "\n",
    "Хотя мы ещё сравним по скорости все алгоритмы.   \n",
    "Точнее уже, потому что на этот случай в библиотеке **sympy** нет возможности найти или хотя-бы проверить компанейское число помимо дружественного."
   ]
  },
  {
   "cell_type": "code",
   "execution_count": 20,
   "metadata": {
    "ExecuteTime": {
     "end_time": "2020-05-19T08:43:30.241908Z",
     "start_time": "2020-05-19T08:43:24.681616Z"
    }
   },
   "outputs": [
    {
     "name": "stdout",
     "output_type": "stream",
     "text": [
      "680 µs ± 2.78 µs per loop (mean ± std. dev. of 7 runs, 1000 loops each)\n"
     ]
    }
   ],
   "source": [
    "%timeit SociableNumber(1264460,4,sequence=True)"
   ]
  },
  {
   "cell_type": "code",
   "execution_count": 21,
   "metadata": {
    "ExecuteTime": {
     "end_time": "2020-05-19T08:43:35.756742Z",
     "start_time": "2020-05-19T08:43:30.243299Z"
    }
   },
   "outputs": [
    {
     "name": "stdout",
     "output_type": "stream",
     "text": [
      "679 µs ± 2.43 µs per loop (mean ± std. dev. of 7 runs, 1000 loops each)\n"
     ]
    }
   ],
   "source": [
    "%timeit _SociableNumber(1264460)"
   ]
  },
  {
   "cell_type": "markdown",
   "metadata": {},
   "source": [
    "В принципе, разницы совсем нет, но немного быстрее выходит метод, когда мы уже знаем период компанейского числа."
   ]
  },
  {
   "cell_type": "code",
   "execution_count": 22,
   "metadata": {
    "ExecuteTime": {
     "end_time": "2020-05-19T08:43:35.760252Z",
     "start_time": "2020-05-19T08:43:35.758098Z"
    }
   },
   "outputs": [],
   "source": [
    "InteractiveShell.ast_node_interactivity = \"last_expr\""
   ]
  },
  {
   "cell_type": "code",
   "execution_count": 23,
   "metadata": {
    "ExecuteTime": {
     "end_time": "2020-05-19T08:43:35.853256Z",
     "start_time": "2020-05-19T08:43:35.764453Z"
    }
   },
   "outputs": [],
   "source": [
    "s = np.array([])\n",
    "for i in range(1,10):\n",
    "    start_time = time.time()\n",
    "    _SociableNumber(i)\n",
    "    end_time = (time.time() - start_time)\n",
    "    s=np.append(s,end_time)"
   ]
  },
  {
   "cell_type": "code",
   "execution_count": 24,
   "metadata": {
    "ExecuteTime": {
     "end_time": "2020-05-19T08:43:35.901971Z",
     "start_time": "2020-05-19T08:43:35.855956Z"
    }
   },
   "outputs": [],
   "source": [
    "ss = np.array([])\n",
    "for i in range(1,10):\n",
    "    start_time = time.time()\n",
    "    SociableNumber(i)\n",
    "    end_time = (time.time() - start_time)\n",
    "    ss=np.append(ss,end_time)"
   ]
  },
  {
   "cell_type": "markdown",
   "metadata": {},
   "source": [
    "Можно получить примерные графики скорости выполнения данных программ"
   ]
  },
  {
   "cell_type": "code",
   "execution_count": 25,
   "metadata": {
    "ExecuteTime": {
     "end_time": "2020-05-19T08:43:36.261777Z",
     "start_time": "2020-05-19T08:43:35.903587Z"
    }
   },
   "outputs": [
    {
     "data": {
      "text/plain": [
       "[<matplotlib.lines.Line2D at 0x7f221a4da0d0>]"
      ]
     },
     "execution_count": 25,
     "metadata": {},
     "output_type": "execute_result"
    },
    {
     "data": {
      "image/png": "[encoded data removed]",
      "text/plain": [
       "<Figure size 864x432 with 2 Axes>"
      ]
     },
     "metadata": {
      "needs_background": "light"
     },
     "output_type": "display_data"
    }
   ],
   "source": [
    "fig,ax=plt.subplots(1,2,figsize=(12,6))\n",
    "ax[0].set_facecolor(\"#F2F2F2\")\n",
    "ax[0].grid()\n",
    "ax[0].set_title(\"Алгоритм 1\")\n",
    "ax[0].set_ylabel(\"Скорость, сек\")\n",
    "ax[0].set_xlabel(\"Итерация\")\n",
    "ax[0].plot(s)\n",
    "ax[1].set_facecolor(\"#F2F2F2\")\n",
    "ax[1].grid()\n",
    "ax[1].set_title(\"Алгоритм 2\")\n",
    "ax[1].set_ylabel(\"Скорость, сек\")\n",
    "ax[1].set_xlabel(\"Итерация\")\n",
    "ax[1].plot(ss)"
   ]
  },
  {
   "cell_type": "markdown",
   "metadata": {},
   "source": [
    "Визуально я доказал почему алгоритм проверки работает быстрее алгоритма конкретно нахождения компанейского числа"
   ]
  },
  {
   "cell_type": "markdown",
   "metadata": {},
   "source": [
    "А давайте сравним скорости выполнения следующих программ:\n",
    "    1. Поиск компанейских чисел с периодом 2\n",
    "    2. Поиск дружественного числа"
   ]
  },
  {
   "cell_type": "markdown",
   "metadata": {},
   "source": [
    "Суть в том, что оба варианта - это дружественные числа, но первый - это новый текущий алгоритм для компанейских чисел в целом, а следующий это алгоритм из предыдущей статьи про дружественные числа"
   ]
  },
  {
   "cell_type": "code",
   "execution_count": 26,
   "metadata": {
    "ExecuteTime": {
     "end_time": "2020-05-19T08:43:36.269395Z",
     "start_time": "2020-05-19T08:43:36.263524Z"
    }
   },
   "outputs": [],
   "source": [
    "def AmicableNumber(k,returni=False):  \n",
    "    allDels = dict()\n",
    "    from itertools import chain\n",
    "    concatenated = chain( range(k, int(k*1.6)+1 ),range(k, int(k/1.6)+1 ,-1) )\n",
    "    for i in concatenated:\n",
    "        if(str(i) not in allDels):\n",
    "            allDels[str(i)] = Divisors(i)\n",
    "        if(i != k and sum(allDels[str(i)]) == k and sum(allDels[str(k)]) == i):\n",
    "            if(returni):\n",
    "                return (k,i)\n",
    "            else:\n",
    "                print(k,\"->\",i)  "
   ]
  },
  {
   "cell_type": "code",
   "execution_count": 27,
   "metadata": {
    "ExecuteTime": {
     "end_time": "2020-05-19T08:43:36.380829Z",
     "start_time": "2020-05-19T08:43:36.271109Z"
    }
   },
   "outputs": [],
   "source": [
    "ss = np.array([])\n",
    "for i in range(200,500):\n",
    "    start_time = time.time()\n",
    "    SociableNumber(i,2)\n",
    "    end_time = (time.time() - start_time)\n",
    "    ss=np.append(ss,end_time)"
   ]
  },
  {
   "cell_type": "code",
   "execution_count": 28,
   "metadata": {
    "ExecuteTime": {
     "end_time": "2020-05-19T08:43:37.150324Z",
     "start_time": "2020-05-19T08:43:36.382292Z"
    }
   },
   "outputs": [
    {
     "name": "stdout",
     "output_type": "stream",
     "text": [
      "220 -> 284\n",
      "284 -> 220\n"
     ]
    }
   ],
   "source": [
    "s = np.array([])\n",
    "for i in range(200,500):\n",
    "    start_time = time.time()\n",
    "    AmicableNumber(i)\n",
    "    end_time = (time.time() - start_time)\n",
    "    s=np.append(s,end_time)"
   ]
  },
  {
   "cell_type": "code",
   "execution_count": 29,
   "metadata": {
    "ExecuteTime": {
     "end_time": "2020-05-19T08:43:37.427337Z",
     "start_time": "2020-05-19T08:43:37.151888Z"
    }
   },
   "outputs": [
    {
     "data": {
      "text/plain": [
       "[<matplotlib.lines.Line2D at 0x7f221a4078d0>]"
      ]
     },
     "execution_count": 29,
     "metadata": {},
     "output_type": "execute_result"
    },
    {
     "data": {
      "image/png": "[encoded data removed]",
      "text/plain": [
       "<Figure size 864x432 with 2 Axes>"
      ]
     },
     "metadata": {
      "needs_background": "light"
     },
     "output_type": "display_data"
    }
   ],
   "source": [
    "fig,ax=plt.subplots(1,2,figsize=(12,6))\n",
    "ax[0].set_facecolor(\"#F2F2F2\")\n",
    "ax[0].grid()\n",
    "ax[0].set_title(\"Компанейский подход\")\n",
    "ax[0].set_ylabel(\"Скорость, сек\")\n",
    "ax[0].set_xlabel(\"Итерация\")\n",
    "ax[0].plot(s)\n",
    "ax[1].set_facecolor(\"#F2F2F2\")\n",
    "ax[1].grid()\n",
    "ax[1].set_title(\"Дружественный подход\")\n",
    "ax[1].set_ylabel(\"Скорость, сек\")\n",
    "ax[1].set_xlabel(\"Итерация\")\n",
    "ax[1].plot(ss)"
   ]
  },
  {
   "cell_type": "markdown",
   "metadata": {},
   "source": [
    "Ожидаемый результат. Если мы ищем компанейские числа, то чем больше число, тем логично нужно больше времени. Но если мы ищем дружественные, то лучше использовать подход изначально сделанный для дружественных чисел, а не абстрактно компанейскийх с 2 периодом."
   ]
  },
  {
   "cell_type": "markdown",
   "metadata": {},
   "source": [
    "Теперь попробуем сделать вот что. Попробуем взять первые 26 000 чисел. Из них оставить только компанейские порядка от 1 до 5.  \n",
    "Мы получим своего рода компанейскую последовательность)"
   ]
  },
  {
   "cell_type": "code",
   "execution_count": 30,
   "metadata": {
    "ExecuteTime": {
     "end_time": "2020-05-19T08:46:11.346109Z",
     "start_time": "2020-05-19T08:43:37.429110Z"
    }
   },
   "outputs": [],
   "source": [
    "komp=[]\n",
    "per=[]\n",
    "for i in range(26000):\n",
    "    for j in range(1,6):\n",
    "        if(SociableNumber(i,j)):\n",
    "            komp.append(i)\n",
    "            per.append(j)\n",
    "            break"
   ]
  },
  {
   "cell_type": "code",
   "execution_count": 31,
   "metadata": {
    "ExecuteTime": {
     "end_time": "2020-05-19T08:46:11.350776Z",
     "start_time": "2020-05-19T08:46:11.347617Z"
    }
   },
   "outputs": [
    {
     "data": {
      "text/plain": [
       "25"
      ]
     },
     "execution_count": 31,
     "metadata": {},
     "output_type": "execute_result"
    }
   ],
   "source": [
    "len(komp)"
   ]
  },
  {
   "cell_type": "markdown",
   "metadata": {},
   "source": [
    "Только 25 компанейских числа из 26 000"
   ]
  },
  {
   "cell_type": "code",
   "execution_count": 32,
   "metadata": {
    "ExecuteTime": {
     "end_time": "2020-05-19T08:46:11.721365Z",
     "start_time": "2020-05-19T08:46:11.351951Z"
    }
   },
   "outputs": [
    {
     "data": {
      "text/plain": [
       "[<matplotlib.lines.Line2D at 0x7f221a2ef150>]"
      ]
     },
     "execution_count": 32,
     "metadata": {},
     "output_type": "execute_result"
    },
    {
     "data": {
      "image/png": "[encoded data removed]",
      "text/plain": [
       "<Figure size 864x432 with 2 Axes>"
      ]
     },
     "metadata": {
      "needs_background": "light"
     },
     "output_type": "display_data"
    }
   ],
   "source": [
    "fig,ax=plt.subplots(1,2,figsize=(12,6))\n",
    "ax[0].set_facecolor(\"#F2F2F2\")\n",
    "ax[0].grid()\n",
    "ax[0].set_title(\"Компанейские числа\")\n",
    "ax[0].set_ylabel(\"Число\")\n",
    "ax[0].set_xlabel(\"Номер числа\")\n",
    "ax[0].plot(komp)\n",
    "ax[1].set_facecolor(\"#F2F2F2\")\n",
    "ax[1].grid()\n",
    "ax[1].set_title(\"Периоды\")\n",
    "ax[1].set_ylabel(\"Период\")\n",
    "ax[1].set_xlabel(\"Номер компанейского числа\")\n",
    "ax[1].plot(per)"
   ]
  },
  {
   "cell_type": "markdown",
   "metadata": {},
   "source": [
    "Если пренебречь всеми 26 000 чисел и оставить только компанейские то такие графики получаются выше.  \n",
    "Первое показывает как именно растут компанейские числа. А на втором графике у нас отображаются период соответственно числам первого графика.  \n",
    "\n",
    "Попробуем узнать частоту компанейских чисел, а также сделать количественную статистику периодов и компанейских чисел среди множества обычных 26 000 чисел.  \n",
    "Для этого я могу просто взять все эти 26 000 чисел. И отметить точками только компанейские"
   ]
  },
  {
   "cell_type": "code",
   "execution_count": 33,
   "metadata": {
    "ExecuteTime": {
     "end_time": "2020-05-19T08:46:11.752191Z",
     "start_time": "2020-05-19T08:46:11.722766Z"
    }
   },
   "outputs": [],
   "source": [
    "komp1=[]\n",
    "komp2=[]\n",
    "komp3=[]\n",
    "komp4=[]\n",
    "komp5=[]\n",
    "kompa=[]\n",
    "for i in range(26000):\n",
    "    if(i in komp):\n",
    "        kompa.append(1)\n",
    "        \n",
    "        if(per[komp.index(i)]==1):\n",
    "            komp1.append(0.6)\n",
    "        elif(per[komp.index(i)]==2):\n",
    "            komp2.append(0.8)\n",
    "        elif(per[komp.index(i)]==3):\n",
    "            komp3.append(1)\n",
    "        elif(per[komp.index(i)]==4):\n",
    "            komp4.append(1.2)\n",
    "        elif(per[komp.index(i)]==5):\n",
    "            komp5.append(1.4)\n",
    "        \n",
    "        if(per[komp.index(i)]!=1):\n",
    "            komp1.append(0)\n",
    "        if(per[komp.index(i)]!=2):\n",
    "            komp2.append(0)\n",
    "        if(per[komp.index(i)]!=3):\n",
    "            komp3.append(0)\n",
    "        if(per[komp.index(i)]!=4):\n",
    "            komp4.append(0)\n",
    "        if(per[komp.index(i)]!=5):\n",
    "            komp5.append(0)\n",
    "    else:\n",
    "        komp1.append(0)\n",
    "        komp2.append(0)\n",
    "        komp3.append(0)\n",
    "        komp4.append(0)\n",
    "        komp5.append(0)\n",
    "        kompa.append(0)"
   ]
  },
  {
   "cell_type": "code",
   "execution_count": 34,
   "metadata": {
    "ExecuteTime": {
     "end_time": "2020-05-19T08:46:14.202267Z",
     "start_time": "2020-05-19T08:46:11.753537Z"
    }
   },
   "outputs": [
    {
     "data": {
      "text/plain": [
       "<matplotlib.legend.Legend at 0x7f221a13fb90>"
      ]
     },
     "execution_count": 34,
     "metadata": {},
     "output_type": "execute_result"
    },
    {
     "data": {
      "image/png": "[encoded data removed]",
      "text/plain": [
       "<Figure size 864x432 with 2 Axes>"
      ]
     },
     "metadata": {
      "needs_background": "light"
     },
     "output_type": "display_data"
    }
   ],
   "source": [
    "fig,ax=plt.subplots(1,2,figsize=(12,6))\n",
    "ax[0].set_ylim([0.5, 1.5])\n",
    "ax[0].set_xlim([0, 20000])\n",
    "ax[0].set_facecolor(\"#F2F2F2\")\n",
    "ax[0].grid()\n",
    "ax[0].set_title(\"Частота компанейский чисел\")\n",
    "ax[0].set_xlabel(\"Число\")\n",
    "ax[0].set_ylabel(\"Компанейское true,false\")\n",
    "ax[0].scatter(range(26000),kompa)\n",
    "ax[1].set_ylim([0.5, 1.5])\n",
    "ax[1].set_xlim([0, 20000])\n",
    "ax[1].set_facecolor(\"#F2F2F2\")\n",
    "ax[1].grid()\n",
    "ax[1].set_title(\"Частота компанейский чисел с классификацией\")\n",
    "ax[1].set_xlabel(\"Число\")\n",
    "ax[1].set_ylabel(\"Компанейское true,false\")\n",
    "ax[1].scatter(range(26000),komp1)\n",
    "ax[1].scatter(range(26000),komp2)\n",
    "ax[1].scatter(range(26000),komp3)\n",
    "ax[1].scatter(range(26000),komp4)\n",
    "ax[1].scatter(range(26000),komp5)\n",
    "ax[1].legend([\"Период 1\",\"Период 2\",\"Период 3\",\"Период 4\",\"Период 5\"])"
   ]
  },
  {
   "cell_type": "markdown",
   "metadata": {},
   "source": [
    "На первом графике мы видим точки - это компанейские числа. Найти закономерность в частоте не будет легкой задачей, но мы можем их проклассифицировать и узнать к каким периодам они относятся.  \n",
    "Что и было сделано на втором графике. И мы видим, что точек зелёного и красного цвета нет, а значит в первых 26 000 числах нет компанейских чисел 3 и 4 периода.   \n",
    "Довольно много дружественных чисел."
   ]
  },
  {
   "cell_type": "code",
   "execution_count": 35,
   "metadata": {
    "ExecuteTime": {
     "end_time": "2020-05-19T08:46:14.419262Z",
     "start_time": "2020-05-19T08:46:14.204074Z"
    }
   },
   "outputs": [
    {
     "data": {
      "text/plain": [
       "''"
      ]
     },
     "execution_count": 35,
     "metadata": {},
     "output_type": "execute_result"
    },
    {
     "data": {
      "image/png": "[encoded data removed]",
      "text/plain": [
       "<Figure size 864x432 with 2 Axes>"
      ]
     },
     "metadata": {
      "needs_background": "light"
     },
     "output_type": "display_data"
    }
   ],
   "source": [
    "import matplotlib.ticker as ticker\n",
    "fig,ax=plt.subplots(1,2,figsize=(12,6))\n",
    "for axis in [ax[0].xaxis, ax[0].yaxis]:\n",
    "    axis.set_major_locator(ticker.MaxNLocator(integer=True))\n",
    "ax[0].set_facecolor(\"#F2F2F2\")\n",
    "ax[0].set_title(\"Периоды в первых 26 000 числах\")\n",
    "ax[0].set_xlabel(\"Период\")\n",
    "ax[0].set_ylabel(\"Количество\")\n",
    "ax[0].hist(per,bins=5)\n",
    "plt.pie([per.count(1),per.count(2),per.count(3),per.count(4),per.count(5)], \n",
    "        colors=[\"red\",\"yellow\",\"blue\",\"#E7AFFF\",\"#A7FF5B\"],\n",
    "        labels=[\"1 период\",\"2 период\",\"3 период\",\"4 период\",\"5 период\"], \n",
    "        autopct='%1.1f%%',\n",
    "        shadow=True,\n",
    "        textprops={'color':\"black\"})\n",
    "plt.legend([per.count(1),per.count(2),per.count(3),per.count(4),per.count(5)])\n",
    ";"
   ]
  },
  {
   "cell_type": "markdown",
   "metadata": {},
   "source": [
    "Ну, а это классификация компанейских чисел по периоду более наглядно."
   ]
  },
  {
   "cell_type": "markdown",
   "metadata": {},
   "source": [
    "А я кстати так и не показал сам ряд компанейских чисел. Первые 25 чисел."
   ]
  },
  {
   "cell_type": "code",
   "execution_count": 36,
   "metadata": {
    "ExecuteTime": {
     "end_time": "2020-05-19T08:46:14.425930Z",
     "start_time": "2020-05-19T08:46:14.420995Z"
    }
   },
   "outputs": [
    {
     "name": "stdout",
     "output_type": "stream",
     "text": [
      "6, 28, 220, 284, 496, 1184, 1210, 2620, 2924, 5020, 5564, 6232, 6368, 8128, 10744, 10856, 12285, 12496, 14264, 14288, 14536, 14595, 15472, 17296, 18416, "
     ]
    }
   ],
   "source": [
    "for i in komp:\n",
    "    print(i,end=\", \")"
   ]
  },
  {
   "cell_type": "markdown",
   "metadata": {},
   "source": [
    "### Анализ"
   ]
  },
  {
   "cell_type": "markdown",
   "metadata": {},
   "source": [
    "Попробуем проанализировать ряд. Найдём скорость изменения ряда, ускорение. Затем проделаем тоже самое с отношениями между числами и плотностью."
   ]
  },
  {
   "cell_type": "code",
   "execution_count": 37,
   "metadata": {
    "ExecuteTime": {
     "end_time": "2020-05-19T08:46:14.473132Z",
     "start_time": "2020-05-19T08:46:14.427647Z"
    }
   },
   "outputs": [],
   "source": [
    "dkomp=[komp[i]-komp[i-1] for i in range(1,len(komp))]\n",
    "ddkomp=[dkomp[i]-dkomp[i-1] for i in range(1,len(dkomp))]"
   ]
  },
  {
   "cell_type": "code",
   "execution_count": 38,
   "metadata": {
    "ExecuteTime": {
     "end_time": "2020-05-19T08:46:14.755276Z",
     "start_time": "2020-05-19T08:46:14.474716Z"
    }
   },
   "outputs": [
    {
     "data": {
      "text/plain": [
       "[<matplotlib.lines.Line2D at 0x7f2219f8cd10>]"
      ]
     },
     "execution_count": 38,
     "metadata": {},
     "output_type": "execute_result"
    },
    {
     "data": {
      "image/png": "[encoded data removed]",
      "text/plain": [
       "<Figure size 864x432 with 2 Axes>"
      ]
     },
     "metadata": {
      "needs_background": "light"
     },
     "output_type": "display_data"
    }
   ],
   "source": [
    "fig,ax=plt.subplots(1,2,figsize=(12,6))\n",
    "ax[0].set_facecolor(\"#F2F2F2\")\n",
    "ax[0].grid()\n",
    "ax[0].set_title(\"Скорость ряда\")\n",
    "ax[0].plot(dkomp)\n",
    "ax[1].set_facecolor(\"#F2F2F2\")\n",
    "ax[1].grid()\n",
    "ax[1].set_title(\"Ускорение ряда\")\n",
    "ax[1].plot(ddkomp)"
   ]
  },
  {
   "cell_type": "markdown",
   "metadata": {},
   "source": [
    "Да, можно сделать вывод, что вероятность встречи компанейского числа растёт с его ростом, но про ускорение что-либо сказать сложно. Видно, что есть неопределенность. К тому же, компанейские числа включают в себя разные периоды, но первые 25 чисел только 1,2 и 5 периоды."
   ]
  },
  {
   "cell_type": "markdown",
   "metadata": {},
   "source": [
    "#### Отношения"
   ]
  },
  {
   "cell_type": "code",
   "execution_count": 39,
   "metadata": {
    "ExecuteTime": {
     "end_time": "2020-05-19T08:46:14.760082Z",
     "start_time": "2020-05-19T08:46:14.756925Z"
    }
   },
   "outputs": [],
   "source": [
    "rkomp=[komp[i]/komp[i-1] for i in range(1,len(komp))]"
   ]
  },
  {
   "cell_type": "code",
   "execution_count": 40,
   "metadata": {
    "ExecuteTime": {
     "end_time": "2020-05-19T08:46:14.807406Z",
     "start_time": "2020-05-19T08:46:14.761747Z"
    }
   },
   "outputs": [
    {
     "data": {
      "text/plain": [
       "1.6826428895408647"
      ]
     },
     "execution_count": 40,
     "metadata": {},
     "output_type": "execute_result"
    }
   ],
   "source": [
    "np.mean(rkomp) # Среднее соотношение"
   ]
  },
  {
   "cell_type": "code",
   "execution_count": 41,
   "metadata": {
    "ExecuteTime": {
     "end_time": "2020-05-19T08:46:14.994498Z",
     "start_time": "2020-05-19T08:46:14.808900Z"
    }
   },
   "outputs": [
    {
     "data": {
      "image/png": "[encoded data removed]",
      "text/plain": [
       "<Figure size 432x432 with 1 Axes>"
      ]
     },
     "metadata": {
      "needs_background": "light"
     },
     "output_type": "display_data"
    }
   ],
   "source": [
    "drawPlot(rkomp,title=\"Отношения между компанейскими числами\",y=\"Отношение\",x=\"Число\")"
   ]
  },
  {
   "cell_type": "markdown",
   "metadata": {},
   "source": [
    "Вау! Я этого не ожидал! Похоже, что ряд отношений сходится к какому-то значению. Могу спрогнозировать, что это происходит уже начиная с 30-ого числа, (но это не точно).  \n",
    "Для этого было бы полезно узнать скорость и ускорение данного ряда."
   ]
  },
  {
   "cell_type": "code",
   "execution_count": 42,
   "metadata": {
    "ExecuteTime": {
     "end_time": "2020-05-19T08:46:15.000194Z",
     "start_time": "2020-05-19T08:46:14.996258Z"
    }
   },
   "outputs": [],
   "source": [
    "drkomp=[rkomp[i]-rkomp[i-1] for i in range(1,len(rkomp))]\n",
    "ddrkomp=[drkomp[i]-drkomp[i-1] for i in range(1,len(drkomp))]"
   ]
  },
  {
   "cell_type": "code",
   "execution_count": 43,
   "metadata": {
    "ExecuteTime": {
     "end_time": "2020-05-19T08:46:15.328658Z",
     "start_time": "2020-05-19T08:46:15.001954Z"
    }
   },
   "outputs": [
    {
     "data": {
      "text/plain": [
       "[<matplotlib.lines.Line2D at 0x7f2219e8f390>]"
      ]
     },
     "execution_count": 43,
     "metadata": {},
     "output_type": "execute_result"
    },
    {
     "data": {
      "image/png": "[encoded data removed]",
      "text/plain": [
       "<Figure size 864x432 with 2 Axes>"
      ]
     },
     "metadata": {
      "needs_background": "light"
     },
     "output_type": "display_data"
    }
   ],
   "source": [
    "fig,ax=plt.subplots(1,2,figsize=(12,6))\n",
    "ax[0].set_facecolor(\"#F2F2F2\")\n",
    "ax[0].grid()\n",
    "ax[0].set_title(\"Скорость ряда\")\n",
    "ax[0].plot(drkomp)\n",
    "ax[1].set_facecolor(\"#F2F2F2\")\n",
    "ax[1].grid()\n",
    "ax[1].set_title(\"Ускорение ряда\")\n",
    "ax[1].plot(ddrkomp)"
   ]
  },
  {
   "cell_type": "markdown",
   "metadata": {},
   "source": [
    "😍😍😍😍😍😍😍😍😍😍😍😍😍😍😍😍😍😍😍😍😍😍"
   ]
  },
  {
   "cell_type": "markdown",
   "metadata": {},
   "source": [
    "Замечательно!!!  \n",
    "\n",
    "Скорость и ускорения схожи, а так же оба графика сходятся. Этим можно сделать вывод, что мы сможем генерировать компанейские числа по формуле, если узнаем точное отношение чисел."
   ]
  },
  {
   "cell_type": "markdown",
   "metadata": {},
   "source": [
    "#### Плотность"
   ]
  },
  {
   "cell_type": "markdown",
   "metadata": {},
   "source": [
    "Как и в прошлых статьях, мы исследуем компанейские числа на свойство плотности. Узнаем также скорость и ускорение плотностей."
   ]
  },
  {
   "cell_type": "code",
   "execution_count": 44,
   "metadata": {
    "ExecuteTime": {
     "end_time": "2020-05-19T08:46:15.492943Z",
     "start_time": "2020-05-19T08:46:15.330524Z"
    }
   },
   "outputs": [
    {
     "data": {
      "image/png": "[encoded data removed]",
      "text/plain": [
       "<Figure size 432x432 with 1 Axes>"
      ]
     },
     "metadata": {
      "needs_background": "light"
     },
     "output_type": "display_data"
    }
   ],
   "source": [
    "densities=[(len(list(filter(lambda x: x < i, sorted(komp))))-1)/i for i in range(200,10000)]\n",
    "drawPlot(densities,\"Изменение плотности\",\"Плотность\",\"Дружественное число\")"
   ]
  },
  {
   "cell_type": "markdown",
   "metadata": {},
   "source": [
    "Плотность компанейских чисел значительно уменьшается со временем. Можно даже выявить тренд, и понять что за функция.\n",
    "\n",
    "Функция $ {f(x)}={{1}\\over{x}} , x \\in (0,\\inf) $"
   ]
  },
  {
   "cell_type": "code",
   "execution_count": 45,
   "metadata": {
    "ExecuteTime": {
     "end_time": "2020-05-19T08:46:15.501795Z",
     "start_time": "2020-05-19T08:46:15.494750Z"
    }
   },
   "outputs": [],
   "source": [
    "ddensities=[densities[i]-densities[i-1] for i in range(1,len(densities))]\n",
    "ddensities=[ddensities[i]-ddensities[i-1] for i in range(1,len(ddensities))]"
   ]
  },
  {
   "cell_type": "code",
   "execution_count": 46,
   "metadata": {
    "ExecuteTime": {
     "end_time": "2020-05-19T08:46:15.783281Z",
     "start_time": "2020-05-19T08:46:15.503534Z"
    }
   },
   "outputs": [
    {
     "data": {
      "text/plain": [
       "[<matplotlib.lines.Line2D at 0x7f2219cf6c90>]"
      ]
     },
     "execution_count": 46,
     "metadata": {},
     "output_type": "execute_result"
    },
    {
     "data": {
      "image/png": "[encoded data removed]",
      "text/plain": [
       "<Figure size 864x432 with 2 Axes>"
      ]
     },
     "metadata": {
      "needs_background": "light"
     },
     "output_type": "display_data"
    }
   ],
   "source": [
    "fig,ax=plt.subplots(1,2,figsize=(12,6))\n",
    "ax[0].set_facecolor(\"#F2F2F2\")\n",
    "ax[0].grid()\n",
    "ax[0].set_title(\"Скорость плотности\")\n",
    "ax[0].plot(densities)\n",
    "ax[1].set_facecolor(\"#F2F2F2\")\n",
    "ax[1].grid()\n",
    "ax[1].set_title(\"Ускорение плотности\")\n",
    "ax[1].plot(ddensities)"
   ]
  },
  {
   "cell_type": "markdown",
   "metadata": {},
   "source": [
    "Супер зрелище! Я ещё раз убедился, что можно попробовать генерировать компанейские числа.   \n",
    "А давайте попробуем?"
   ]
  },
  {
   "cell_type": "code",
   "execution_count": 47,
   "metadata": {
    "ExecuteTime": {
     "end_time": "2020-05-19T08:59:08.637167Z",
     "start_time": "2020-05-19T08:46:15.785061Z"
    }
   },
   "outputs": [],
   "source": [
    "def findSociableNumbers(countt):\n",
    "    komp=[]\n",
    "    per=[]\n",
    "    i=0\n",
    "    while len(komp)<countt:\n",
    "        i+=1\n",
    "        for j in range(1,6):\n",
    "            if(SociableNumber(i,j)):\n",
    "                komp.append(i)\n",
    "                per.append(j)\n",
    "                break\n",
    "    return (komp,per)\n",
    "            \n",
    "komp=findSociableNumbers(30)[0]"
   ]
  },
  {
   "cell_type": "code",
   "execution_count": 48,
   "metadata": {
    "ExecuteTime": {
     "end_time": "2020-05-19T08:59:08.641327Z",
     "start_time": "2020-05-19T08:59:08.638579Z"
    }
   },
   "outputs": [],
   "source": [
    "rkomp=[komp[i]/komp[i-1] for i in range(1,len(komp))]"
   ]
  },
  {
   "cell_type": "code",
   "execution_count": 49,
   "metadata": {
    "ExecuteTime": {
     "end_time": "2020-05-19T08:59:08.887511Z",
     "start_time": "2020-05-19T08:59:08.642570Z"
    }
   },
   "outputs": [
    {
     "data": {
      "image/png": "[encoded data removed]",
      "text/plain": [
       "<Figure size 432x432 with 1 Axes>"
      ]
     },
     "metadata": {
      "needs_background": "light"
     },
     "output_type": "display_data"
    }
   ],
   "source": [
    "drawPlot(rkomp,title=\"Отношения между компанейскими числами\",y=\"Отношение\",x=\"Число\")"
   ]
  },
  {
   "cell_type": "markdown",
   "metadata": {},
   "source": [
    "Упс. А вот вроде всё сходилось, в процессе резко поднялось значение.  План провален, однако...  \n",
    "Найдём отношение компанейских чисел"
   ]
  },
  {
   "cell_type": "code",
   "execution_count": 50,
   "metadata": {
    "ExecuteTime": {
     "end_time": "2020-05-19T08:59:08.891889Z",
     "start_time": "2020-05-19T08:59:08.888822Z"
    }
   },
   "outputs": [
    {
     "data": {
      "text/plain": [
       "1.0375586854460095"
      ]
     },
     "execution_count": 50,
     "metadata": {},
     "output_type": "execute_result"
    }
   ],
   "source": [
    "ratio=rkomp[-1]\n",
    "ratio"
   ]
  },
  {
   "cell_type": "markdown",
   "metadata": {},
   "source": [
    "А теперь при помощи итерации попробуем сгенерировать потенциальные компанейские числа"
   ]
  },
  {
   "cell_type": "code",
   "execution_count": 51,
   "metadata": {
    "ExecuteTime": {
     "end_time": "2020-05-19T08:59:08.953226Z",
     "start_time": "2020-05-19T08:59:08.893029Z"
    }
   },
   "outputs": [
    {
     "data": {
      "text/plain": [
       "[6,\n",
       " 28,\n",
       " 220,\n",
       " 284,\n",
       " 496,\n",
       " 1184,\n",
       " 1210,\n",
       " 2620,\n",
       " 2924,\n",
       " 5020,\n",
       " 5564,\n",
       " 6232,\n",
       " 6368,\n",
       " 8128,\n",
       " 10744,\n",
       " 10856,\n",
       " 12285,\n",
       " 12496,\n",
       " 14264,\n",
       " 14288,\n",
       " 14536,\n",
       " 14595,\n",
       " 15472,\n",
       " 17296,\n",
       " 18416,\n",
       " 63020,\n",
       " 66928,\n",
       " 66992,\n",
       " 67095,\n",
       " 69615,\n",
       " 72229,\n",
       " 74941,\n",
       " 77755,\n",
       " 80675,\n",
       " 83705,\n",
       " 86848,\n",
       " 90109,\n",
       " 93493,\n",
       " 97004,\n",
       " 100647,\n",
       " 104427,\n",
       " 108349,\n",
       " 112418,\n",
       " 116640,\n",
       " 121020,\n",
       " 125565,\n",
       " 130281,\n",
       " 135174,\n",
       " 140250,\n",
       " 145517,\n",
       " 150982,\n",
       " 156652,\n",
       " 162535,\n",
       " 168639,\n",
       " 174972,\n",
       " 181543,\n",
       " 188361,\n",
       " 195435,\n",
       " 202775,\n",
       " 210390,\n",
       " 218291,\n",
       " 226489,\n",
       " 234995,\n",
       " 243821,\n",
       " 252978,\n",
       " 262479,\n",
       " 272337,\n",
       " 282565,\n",
       " 293177,\n",
       " 304188,\n",
       " 315612,\n",
       " 327465,\n",
       " 339764,\n",
       " 352525,\n",
       " 365765,\n",
       " 379502,\n",
       " 393755,\n",
       " 408543,\n",
       " 423887,\n",
       " 439807,\n",
       " 456325,\n",
       " 473463,\n",
       " 491245,\n",
       " 509695,\n",
       " 528838,\n",
       " 548700,\n",
       " 569308,\n",
       " 590690,\n",
       " 612875,\n",
       " 635893,\n",
       " 659776,\n",
       " 684556,\n",
       " 710267,\n",
       " 736943,\n",
       " 764621,\n",
       " 793339,\n",
       " 823135,\n",
       " 854050,\n",
       " 886126,\n",
       " 919407,\n",
       " 953938,\n",
       " 989766,\n",
       " 1026940,\n",
       " 1065510,\n",
       " 1105529,\n",
       " 1147051,\n",
       " 1190132,\n",
       " 1234831,\n",
       " 1281209,\n",
       " 1329329,\n",
       " 1379256,\n",
       " 1431059,\n",
       " 1484807,\n",
       " 1540574,\n",
       " 1598435,\n",
       " 1658470,\n",
       " 1720759,\n",
       " 1785388,\n",
       " 1852444,\n",
       " 1922019,\n",
       " 1994207,\n",
       " 2069106,\n",
       " 2146818,\n",
       " 2227449,\n",
       " 2311109,\n",
       " 2397911,\n",
       " 2487973,\n",
       " 2581417,\n",
       " 2678371,\n",
       " 2778967,\n",
       " 2883341,\n",
       " 2991635,\n",
       " 3103996,\n",
       " 3220578,\n",
       " 3341538,\n",
       " 3467041,\n",
       " 3597258,\n",
       " 3732366,\n",
       " 3872548,\n",
       " 4017995,\n",
       " 4168905,\n",
       " 4325483,\n",
       " 4487942,\n",
       " 4656503,\n",
       " 4831395,\n",
       " 5012855,\n",
       " 5201131,\n",
       " 5396478,\n",
       " 5599162,\n",
       " 5809459,\n",
       " 6027654,\n",
       " 6254044,\n",
       " 6488937,\n",
       " 6732652,\n",
       " 6985521,\n",
       " 7247887,\n",
       " 7520108,\n",
       " 7802553,\n",
       " 8095606,\n",
       " 8399666,\n",
       " 8715146,\n",
       " 9042475,\n",
       " 9382098,\n",
       " 9734477,\n",
       " 10100091,\n",
       " 10479437,\n",
       " 10873030,\n",
       " 11281406,\n",
       " 11705120,\n",
       " 12144748,\n",
       " 12600888,\n",
       " 13074160,\n",
       " 13565208,\n",
       " 14074699,\n",
       " 14603326,\n",
       " 15151807,\n",
       " 15720888,\n",
       " 16311343,\n",
       " 16923975,\n",
       " 17559617,\n",
       " 18219133,\n",
       " 18903419,\n",
       " 19613406,\n",
       " 20350059,\n",
       " 21114380,\n",
       " 21907408,\n",
       " 22730221,\n",
       " 23583938,\n",
       " 24469719,\n",
       " 25388769,\n",
       " 26342337,\n",
       " 27331720,\n",
       " 28358263,\n",
       " 29423362,\n",
       " 30528464,\n",
       " 31675072,\n",
       " 32864746,\n",
       " 34099102,\n",
       " 35379819,\n",
       " 36708638,\n",
       " 38087366,\n",
       " 39517877,\n",
       " 41002116,\n",
       " 42542101,\n",
       " 44139926,\n",
       " 45797763,\n",
       " 47517866,\n",
       " 49302574,\n",
       " 51154313,\n",
       " 53075601,\n",
       " 55069050,\n",
       " 57137371,\n",
       " 59283375,\n",
       " 61509980,\n",
       " 63820213,\n",
       " 66217216,\n",
       " 68704247,\n",
       " 71284688,\n",
       " 73962047,\n",
       " 76739964,\n",
       " 79622216,\n",
       " 82612721,\n",
       " 85715546,\n",
       " 88934909,\n",
       " 92275187,\n",
       " 95740921,\n",
       " 99336824,\n",
       " 103067784,\n",
       " 106938874,\n",
       " 110955357,\n",
       " 115122694,\n",
       " 119446551,\n",
       " 123932806,\n",
       " 128587559,\n",
       " 133417138,\n",
       " 138428110,\n",
       " 143627287,\n",
       " 149021739,\n",
       " 154618799,\n",
       " 160426077,\n",
       " 166451469,\n",
       " 172703167,\n",
       " 179189670,\n",
       " 185919798,\n",
       " 192902701,\n",
       " 200147872,\n",
       " 207665162,\n",
       " 215464792,\n",
       " 223557366,\n",
       " 231953886,\n",
       " 240665769,\n",
       " 249704858,\n",
       " 259083444,\n",
       " 268814277,\n",
       " 278910587,\n",
       " 289386102,\n",
       " 300255063,\n",
       " 311532248,\n",
       " 323232989,\n",
       " 335373195,\n",
       " 347969371,\n",
       " 361038643,\n",
       " 374598779,\n",
       " 388668216,\n",
       " 403266083,\n",
       " 418412226,\n",
       " 434127239,\n",
       " 450432487,\n",
       " 467350139,\n",
       " 484903195,\n",
       " 503115521,\n",
       " 522011878,\n",
       " 541617957,\n",
       " 561960415,\n",
       " 583066909,\n",
       " 604966135,\n",
       " 627687867,\n",
       " 651262998,\n",
       " 675723580,\n",
       " 701102869,\n",
       " 727435371,\n",
       " 754756887,\n",
       " 783104563,\n",
       " 812516940,\n",
       " 843034008,\n",
       " 874697257,\n",
       " 907549736,\n",
       " 941636111,\n",
       " 977002725,\n",
       " 1013697663,\n",
       " 1051770814,\n",
       " 1091273943,\n",
       " 1132260757,\n",
       " 1174786982,\n",
       " 1218910436,\n",
       " 1264691109,\n",
       " 1312191244,\n",
       " 1361475422,\n",
       " 1412610649,\n",
       " 1465666448,\n",
       " 1520714953,\n",
       " 1577831007,\n",
       " 1637092265,\n",
       " 1698579298,\n",
       " 1762375703,\n",
       " 1828568217,\n",
       " 1897246835,\n",
       " 1968504932,\n",
       " 2042439389,\n",
       " 2119150727,\n",
       " 2198743242,\n",
       " 2281325147,\n",
       " 2367008720,\n",
       " 2455910455,\n",
       " 2548151223,\n",
       " 2643856433,\n",
       " 2743156205,\n",
       " 2846185546,\n",
       " 2953084533,\n",
       " 3063998506,\n",
       " 3179078262,\n",
       " 3298480262,\n",
       " 3422366844,\n",
       " 3550906443,\n",
       " 3684273821,\n",
       " 3822650302,\n",
       " 3966224022,\n",
       " 4115190182,\n",
       " 4269751315,\n",
       " 4430117561,\n",
       " 4596506952,\n",
       " 4769145710,\n",
       " 4948268553,\n",
       " 5134119015,\n",
       " 5326949776,\n",
       " 5527023007,\n",
       " 5734610725,\n",
       " 5949995165,\n",
       " 6173469161,\n",
       " 6405336547,\n",
       " 6645912567,\n",
       " 6895524306,\n",
       " 7154511134,\n",
       " 7423225167,\n",
       " 7702031746,\n",
       " 7991309933,\n",
       " 8291453029,\n",
       " 8602869105,\n",
       " 8925981559,\n",
       " 9261229692,\n",
       " 9609069304,\n",
       " 9969973315,\n",
       " 10344432406,\n",
       " 10732955688,\n",
       " 11136071394,\n",
       " 11554327596,\n",
       " 11988292951,\n",
       " 12438557474,\n",
       " 12905733341,\n",
       " 13390455720,\n",
       " 13893383634,\n",
       " 14415200859,\n",
       " 14956616853,\n",
       " 15518367720,\n",
       " 16101217211,\n",
       " 16705957763,\n",
       " 17333411575,\n",
       " 17984431728,\n",
       " 18659903342,\n",
       " 19360744782,\n",
       " 20087908905,\n",
       " 20842384356,\n",
       " 21625196913,\n",
       " 22437410881,\n",
       " 23280130538,\n",
       " 24154501638,\n",
       " 25061712967,\n",
       " 26002997961,\n",
       " 26979636382,\n",
       " 27992956058,\n",
       " 29044334689,\n",
       " 30135201719,\n",
       " 31267040281,\n",
       " 32441389211,\n",
       " 33659845143,\n",
       " 34924064678,\n",
       " 36235766637,\n",
       " 37596734398,\n",
       " 39008818319,\n",
       " 40473938255,\n",
       " 41994086170,\n",
       " 43571328843,\n",
       " 45207810677,\n",
       " 46905756617,\n",
       " 48667475175,\n",
       " 50495361566,\n",
       " 52391900967,\n",
       " 54359671895,\n",
       " 56401349712,\n",
       " 58519710264,\n",
       " 60717633654,\n",
       " 62998108157,\n",
       " 65364234284,\n",
       " 67819228998,\n",
       " 70366430087,\n",
       " 73009300700,\n",
       " 75751434059,\n",
       " 78596558342,\n",
       " 81548541753,\n",
       " 84611397781,\n",
       " 87789290655,\n",
       " 91086541008,\n",
       " 94507631750,\n",
       " 98057214163,\n",
       " 101740114225,\n",
       " 105561339172,\n",
       " 109526084305,\n",
       " 113639740053,\n",
       " 117907899303,\n",
       " 122336365004,\n",
       " 126931158055,\n",
       " 131698525493,\n",
       " 136644948985,\n",
       " 141777153641,\n",
       " 147102117158,\n",
       " 152627079304,\n",
       " 158359551766,\n",
       " 164307328358,\n",
       " 170478495620,\n",
       " 176881443812,\n",
       " 183524878321,\n",
       " 190417831497,\n",
       " 197569674933,\n",
       " 204990132207,\n",
       " 212689292102,\n",
       " 220677622321,\n",
       " 228965983722,\n",
       " 237565645082,\n",
       " 246488298418,\n",
       " 255746074884,\n",
       " 265351561264,\n",
       " 275317817086,\n",
       " 285658392375,\n",
       " 296387346079,\n",
       " 307519265180,\n",
       " 319069284529,\n",
       " 331053107422,\n",
       " 343487026949,\n",
       " 356387948148,\n",
       " 369773410989,\n",
       " 383661614218,\n",
       " 398071440104,\n",
       " 413022480107,\n",
       " 428535061519,\n",
       " 444630275097,\n",
       " 461330003739,\n",
       " 478656952236,\n",
       " 496634678141,\n",
       " 515287623798,\n",
       " 534641149574,\n",
       " 554721568337,\n",
       " 575556181232,\n",
       " 597173314799,\n",
       " 619602359486,\n",
       " 642873809607,\n",
       " 667019304803,\n",
       " 692071673058,\n",
       " 718064975332,\n",
       " 745034551870,\n",
       " 773017070250,\n",
       " 802050575235,\n",
       " 832174540502,\n",
       " 863429922304,\n",
       " 895859215160,\n",
       " 929506509626,\n",
       " 964417552241,\n",
       " 1000639807724,\n",
       " 1038222523507,\n",
       " 1077216796690,\n",
       " 1117675643514,\n",
       " 1159654071439,\n",
       " 1203209153934,\n",
       " 1248400108072,\n",
       " 1295288375041,\n",
       " 1343937703681,\n",
       " 1394414237152,\n",
       " 1446786602866,\n",
       " 1501126005790,\n",
       " 1557506325256,\n",
       " 1616004215406,\n",
       " 1676699209411,\n",
       " 1739673827604,\n",
       " 1805013689673,\n",
       " 1872807631069,\n",
       " 1943147823785,\n",
       " 2016129901673,\n",
       " 2091853090468,\n",
       " 2170420342692,\n",
       " 2251938477628,\n",
       " 2336518326552,\n",
       " 2424274883417,\n",
       " 2515327461197,\n",
       " 2609799854105,\n",
       " 2707820505902,\n",
       " 2809522684527,\n",
       " 2915044663288,\n",
       " 3024529908857,\n",
       " 3138127276325,\n",
       " 3255991211586,\n",
       " 3378281961316,\n",
       " 3505165790848,\n",
       " 3636815210222,\n",
       " 3773409208727,\n",
       " 3915133498256,\n",
       " 4062180765796,\n",
       " 4214750935403,\n",
       " 4373051440019,\n",
       " 4537297503493,\n",
       " 4707712433201,\n",
       " 4884527923649,\n",
       " 5067984371485,\n",
       " 5258331202338,\n",
       " 5455827209937,\n",
       " 5660740907962,\n",
       " 5873350895115,\n",
       " 6093946233898,\n",
       " 6322826843621,\n",
       " 6560303908170,\n",
       " 6806700299087,\n",
       " 7062351014545,\n",
       " 7327603634809,\n",
       " 7602818794801,\n",
       " 7888370674417,\n",
       " 8184647507258,\n",
       " 8492052108469,\n",
       " 8811002422402,\n",
       " 9141932090849,\n",
       " 9485291042617,\n",
       " 9841546105250,\n",
       " 10211181639719,\n",
       " 10594700198957,\n",
       " 10992623211124,\n",
       " 11405491688537,\n",
       " 11833866963223,\n",
       " 12278331450104,\n",
       " 12739489438840,\n",
       " 13217967915416,\n",
       " 13714417414586,\n",
       " 14229512904335,\n",
       " 14763954703558,\n",
       " 15318469434208,\n",
       " 15893811009201,\n",
       " 16490761657433,\n",
       " 17110132987289,\n",
       " 17752767090097,\n",
       " 18419537685030,\n",
       " 19111351307002,\n",
       " 19829148539189,\n",
       " 20573905291834,\n",
       " 21346634129085,\n",
       " 22148385645670,\n",
       " 22980249895272,\n",
       " 23843357872559,\n",
       " 24738883050871,\n",
       " 25668042977664,\n",
       " 26632100929876,\n",
       " 27632367631467,\n",
       " 28670203035465,\n",
       " 29747018172947,\n",
       " 30864277071461,\n",
       " 32023498745506,\n",
       " 33226259261769,\n",
       " 34474193881929,\n",
       " 35768999285945,\n",
       " 37112435878844,\n",
       " 38506330184152,\n",
       " 39952577327218,\n",
       " 41453143611808,\n",
       " 43010069193472,\n",
       " 44625470853320,\n",
       " 46301544875979,\n",
       " 48040570035640,\n",
       " 49844910694255,\n",
       " 51717020016104,\n",
       " 53659443303093,\n",
       " 55674821455321,\n",
       " 57765894561624,\n",
       " 59935505624971,\n",
       " 62186604427786,\n",
       " 64522251542444,\n",
       " 66945622492394,\n",
       " 69460012069573,\n",
       " 72068838813970,\n",
       " 74775649661443,\n",
       " 77584124766098,\n",
       " 80498082503791,\n",
       " 83521484663557,\n",
       " 86658441834019,\n",
       " 89913218992104,\n",
       " 93290241301666]"
      ]
     },
     "execution_count": 51,
     "metadata": {},
     "output_type": "execute_result"
    }
   ],
   "source": [
    "gkomp=komp.copy()\n",
    "i=0\n",
    "while i<570:\n",
    "    gkomp.append(int(ratio*gkomp[-1]))\n",
    "    i+=1\n",
    "gkomp"
   ]
  },
  {
   "cell_type": "markdown",
   "metadata": {},
   "source": [
    "Сколько из них настоящих компанейских чисел можно узнать только, если мы сравним с уже точно известным рядом. Здесь показано 600 чисел"
   ]
  },
  {
   "cell_type": "markdown",
   "metadata": {},
   "source": [
    "## Статистика"
   ]
  },
  {
   "cell_type": "code",
   "execution_count": 52,
   "metadata": {
    "ExecuteTime": {
     "end_time": "2020-05-19T08:59:09.009993Z",
     "start_time": "2020-05-19T08:59:08.954503Z"
    }
   },
   "outputs": [
    {
     "data": {
      "text/plain": [
       "30"
      ]
     },
     "execution_count": 52,
     "metadata": {},
     "output_type": "execute_result"
    }
   ],
   "source": [
    "len(komp)"
   ]
  },
  {
   "cell_type": "markdown",
   "metadata": {},
   "source": [
    "За 12 минут я нашёл 30 компанейских чисел"
   ]
  },
  {
   "cell_type": "markdown",
   "metadata": {
    "ExecuteTime": {
     "end_time": "2020-05-18T13:51:13.439624Z",
     "start_time": "2020-05-18T13:51:13.435901Z"
    }
   },
   "source": [
    "А самое последнее, большее число - 69615"
   ]
  },
  {
   "cell_type": "code",
   "execution_count": 53,
   "metadata": {
    "ExecuteTime": {
     "end_time": "2020-05-19T08:59:09.068577Z",
     "start_time": "2020-05-19T08:59:09.011214Z"
    }
   },
   "outputs": [
    {
     "data": {
      "text/plain": [
       "26"
      ]
     },
     "execution_count": 53,
     "metadata": {},
     "output_type": "execute_result"
    }
   ],
   "source": [
    "EvenSociable=[i for i in komp if(i%2==0)]\n",
    "len(EvenSociable)"
   ]
  },
  {
   "cell_type": "code",
   "execution_count": 54,
   "metadata": {
    "ExecuteTime": {
     "end_time": "2020-05-19T08:59:09.188403Z",
     "start_time": "2020-05-19T08:59:09.069834Z"
    }
   },
   "outputs": [
    {
     "data": {
      "text/plain": [
       "''"
      ]
     },
     "execution_count": 54,
     "metadata": {},
     "output_type": "execute_result"
    },
    {
     "data": {
      "image/png": "[encoded data removed]",
      "text/plain": [
       "<Figure size 432x288 with 1 Axes>"
      ]
     },
     "metadata": {},
     "output_type": "display_data"
    }
   ],
   "source": [
    "plt.pie([len(EvenSociable),30-len(EvenSociable)], \n",
    "        colors=[\"#A7FF5B\",\"#E7AFFF\"],\n",
    "        labels=[\"Чётные\",\"Нечётные\"], \n",
    "        autopct='%1.1f%%',\n",
    "        shadow=True,\n",
    "        textprops={'color':\"black\"})\n",
    "plt.legend([len(EvenSociable),30-len(EvenSociable)])\n",
    ";"
   ]
  },
  {
   "cell_type": "markdown",
   "metadata": {},
   "source": [
    "Из 30 чисел только 4 нечётные!"
   ]
  },
  {
   "cell_type": "markdown",
   "metadata": {},
   "source": [
    "Исследуем теперь на простоту!"
   ]
  },
  {
   "cell_type": "code",
   "execution_count": 55,
   "metadata": {
    "ExecuteTime": {
     "end_time": "2020-05-19T08:59:09.192898Z",
     "start_time": "2020-05-19T08:59:09.189787Z"
    }
   },
   "outputs": [],
   "source": [
    "def _isPrime(n):\n",
    "    if n%2==0:\n",
    "        return n==2\n",
    "    d=3\n",
    "    while d*d<=n and n%d!=0:\n",
    "        d+=2\n",
    "    return d*d>n   "
   ]
  },
  {
   "cell_type": "code",
   "execution_count": 56,
   "metadata": {
    "ExecuteTime": {
     "end_time": "2020-05-19T08:59:09.307794Z",
     "start_time": "2020-05-19T08:59:09.194059Z"
    }
   },
   "outputs": [
    {
     "data": {
      "text/plain": [
       "''"
      ]
     },
     "execution_count": 56,
     "metadata": {},
     "output_type": "execute_result"
    },
    {
     "data": {
      "image/png": "[encoded data removed]",
      "text/plain": [
       "<Figure size 432x288 with 1 Axes>"
      ]
     },
     "metadata": {},
     "output_type": "display_data"
    }
   ],
   "source": [
    "PrimeSociable=[i for i in komp if(_isPrime(i))]\n",
    "plt.pie([len(PrimeSociable),30-len(PrimeSociable)], \n",
    "        colors=[\"#A7FF5B\",\"#E7AFFF\"],\n",
    "        labels=[\"Составные\",\"Простые\"], \n",
    "        autopct='%1.1f%%',\n",
    "        shadow=True,\n",
    "        textprops={'color':\"black\"})\n",
    "plt.legend([len(PrimeSociable),30-len(PrimeSociable)])\n",
    ";"
   ]
  },
  {
   "cell_type": "markdown",
   "metadata": {},
   "source": [
    "Как и в случае с дружественными числами, здесь тоже ни одного простого!"
   ]
  },
  {
   "cell_type": "markdown",
   "metadata": {},
   "source": [
    "## Визуализация"
   ]
  },
  {
   "cell_type": "markdown",
   "metadata": {},
   "source": [
    "Попробуем нарисовать спирали со средним и последним углом в ряду из 30 компанейских чисел"
   ]
  },
  {
   "cell_type": "code",
   "execution_count": 57,
   "metadata": {
    "ExecuteTime": {
     "end_time": "2020-05-19T08:59:09.328657Z",
     "start_time": "2020-05-19T08:59:09.309067Z"
    }
   },
   "outputs": [],
   "source": [
    "ratio=[komp[i]/komp[i-1] for i in range(1,len(komp))]"
   ]
  },
  {
   "cell_type": "code",
   "execution_count": 58,
   "metadata": {
    "ExecuteTime": {
     "end_time": "2020-05-19T08:59:09.381052Z",
     "start_time": "2020-05-19T08:59:09.329934Z"
    }
   },
   "outputs": [
    {
     "data": {
      "text/plain": [
       "1.0375586854460095"
      ]
     },
     "execution_count": 58,
     "metadata": {},
     "output_type": "execute_result"
    }
   ],
   "source": [
    "ratio[-1]"
   ]
  },
  {
   "cell_type": "code",
   "execution_count": 59,
   "metadata": {
    "ExecuteTime": {
     "end_time": "2020-05-19T08:59:09.435217Z",
     "start_time": "2020-05-19T08:59:09.382300Z"
    }
   },
   "outputs": [
    {
     "data": {
      "text/plain": [
       "1.6519833851472943"
      ]
     },
     "execution_count": 59,
     "metadata": {},
     "output_type": "execute_result"
    }
   ],
   "source": [
    "np.mean(ratio)"
   ]
  },
  {
   "cell_type": "code",
   "execution_count": 60,
   "metadata": {
    "ExecuteTime": {
     "end_time": "2020-05-19T08:59:09.489942Z",
     "start_time": "2020-05-19T08:59:09.436298Z"
    }
   },
   "outputs": [
    {
     "data": {
      "text/latex": [
       "$\\displaystyle 131.914079291008$"
      ],
      "text/plain": [
       "131.914079291008"
      ]
     },
     "execution_count": 60,
     "metadata": {},
     "output_type": "execute_result"
    }
   ],
   "source": [
    "angle=sp.N(360/np.mean(ratio)**2)\n",
    "angle"
   ]
  },
  {
   "cell_type": "code",
   "execution_count": 61,
   "metadata": {
    "ExecuteTime": {
     "end_time": "2020-05-19T08:59:09.549381Z",
     "start_time": "2020-05-19T08:59:09.491146Z"
    }
   },
   "outputs": [
    {
     "data": {
      "application/vnd.jupyter.widget-view+json": {
       "model_id": "ca32cceb57974adf85ce766764464eef",
       "version_major": 2,
       "version_minor": 0
      },
      "text/plain": [
       "Turtle()"
      ]
     },
     "metadata": {},
     "output_type": "display_data"
    }
   ],
   "source": [
    "#Создаём картинку 300х300\n",
    "\n",
    "N=300\n",
    "t = turtle.Turtle(fixed=False, width=N, height=N)\n",
    "t.hideturtle()\n",
    "t"
   ]
  },
  {
   "cell_type": "code",
   "execution_count": 62,
   "metadata": {
    "ExecuteTime": {
     "end_time": "2020-05-19T08:59:19.171230Z",
     "start_time": "2020-05-19T08:59:09.550489Z"
    }
   },
   "outputs": [],
   "source": [
    "for i in range(15):\n",
    "    for j in range(int(angle)): \n",
    "        t.forward(i/10) \n",
    "        t.left(1)\n",
    "        if(i>10):\n",
    "            time.sleep(0.01) # Чтобы не терять рисунок"
   ]
  },
  {
   "cell_type": "code",
   "execution_count": 63,
   "metadata": {
    "ExecuteTime": {
     "end_time": "2020-05-19T08:59:19.176135Z",
     "start_time": "2020-05-19T08:59:19.172544Z"
    }
   },
   "outputs": [
    {
     "data": {
      "text/latex": [
       "$\\displaystyle 334.408386396675$"
      ],
      "text/plain": [
       "334.408386396675"
      ]
     },
     "execution_count": 63,
     "metadata": {},
     "output_type": "execute_result"
    }
   ],
   "source": [
    "angle=sp.N(360/ratio[-1]**2)\n",
    "angle"
   ]
  },
  {
   "cell_type": "code",
   "execution_count": 64,
   "metadata": {
    "ExecuteTime": {
     "end_time": "2020-05-19T08:59:19.282707Z",
     "start_time": "2020-05-19T08:59:19.177298Z"
    }
   },
   "outputs": [
    {
     "data": {
      "application/vnd.jupyter.widget-view+json": {
       "model_id": "d06444161eaf41f3b541ca98a6258e53",
       "version_major": 2,
       "version_minor": 0
      },
      "text/plain": [
       "Turtle()"
      ]
     },
     "metadata": {},
     "output_type": "display_data"
    }
   ],
   "source": [
    "#Создаём картинку 300х300\n",
    "\n",
    "N=300\n",
    "t = turtle.Turtle(fixed=False, width=N, height=N)\n",
    "t.hideturtle()\n",
    "t"
   ]
  },
  {
   "cell_type": "code",
   "execution_count": 65,
   "metadata": {
    "ExecuteTime": {
     "end_time": "2020-05-19T08:59:43.826780Z",
     "start_time": "2020-05-19T08:59:19.283881Z"
    }
   },
   "outputs": [],
   "source": [
    "for i in range(15):\n",
    "    for j in range(int(angle)): \n",
    "        t.forward(i/10) \n",
    "        t.left(1)\n",
    "        if(i>10):\n",
    "            time.sleep(0.01) # Чтобы не терять рисунок"
   ]
  },
  {
   "cell_type": "markdown",
   "metadata": {},
   "source": [
    "# Конец  \n",
    "\n",
    "На этом всё, дорогие читатели!  \n",
    "Надеюсь вам было интересно узнать что-то вроде такого из занимательной математики 😍\n",
    "\n",
    "Следующая статья скорее всего про совершенство чисел. Будет большая статья. Даже очень. К тому же, у меня есть несколько проектов, поэтому следующая статья будет совсем не скоро, но будет!"
   ]
  },
  {
   "cell_type": "markdown",
   "metadata": {
    "ExecuteTime": {
     "end_time": "2020-05-18T14:00:32.406660Z",
     "start_time": "2020-05-18T14:00:32.398198Z"
    }
   },
   "source": [
    "---\n",
    "\n",
    "Здесь ссылка на датасеты компанейских чисел\n",
    "[Компанейские числа](https://github.com/lonagi/pysasha/blob/master/datasets/Number%20Theory/Sociable%20Numbers/SociableeNumbers_30.csv)  \n",
    "\n",
    "Датасет состоит из двух столбиков. Компанейское число и его период. А на момент написания статьи, чисел там 30.\n",
    "\n",
    "Если есть желание прочитать статью на другом источнике, то пожалуйста, вот ниже ссылки:\n",
    "    \n",
    "[ВКонтакте](vk.com/@lonagi-kompaneiskie-chisla-issledovanie)  \n",
    "[Instagram]()    \n",
    "[Facebook](https://www.facebook.com/%D0%97%D0%B0%D0%BD%D0%B8%D0%BC%D0%B0%D1%82%D0%B5%D0%BB%D1%8C%D0%BD%D0%B0%D1%8F-%D0%BC%D0%B0%D1%82%D0%B5%D0%BC%D0%B0%D1%82%D0%B8%D0%BA%D0%B0-%D0%BE%D1%82-Lonagi-112410007105730)    \n",
    "[Github](https://github.com/lonagi/pysasha/blob/master/docs/Number%20Theory/Sociable%20Numbers/SociableNumbers.md)  "
   ]
  },
  {
   "cell_type": "code",
   "execution_count": null,
   "metadata": {},
   "outputs": [],
   "source": []
  },
  {
   "cell_type": "code",
   "execution_count": null,
   "metadata": {},
   "outputs": [],
   "source": []
  },
  {
   "cell_type": "code",
   "execution_count": null,
   "metadata": {},
   "outputs": [],
   "source": []
  }
 ],
 "metadata": {
  "kernelspec": {
   "display_name": "Python 3",
   "language": "python",
   "name": "python3"
  },
  "language_info": {
   "codemirror_mode": {
    "name": "ipython",
    "version": 3
   },
   "file_extension": ".py",
   "mimetype": "text/x-python",
   "name": "python",
   "nbconvert_exporter": "python",
   "pygments_lexer": "ipython3",
   "version": "3.7.6"
  },
  "varInspector": {
   "cols": {
    "lenName": 16,
    "lenType": 16,
    "lenVar": 40
   },
   "kernels_config": {
    "python": {
     "delete_cmd_postfix": "",
     "delete_cmd_prefix": "del ",
     "library": "var_list.py",
     "varRefreshCmd": "print(var_dic_list())"
    },
    "r": {
     "delete_cmd_postfix": ") ",
     "delete_cmd_prefix": "rm(",
     "library": "var_list.r",
     "varRefreshCmd": "cat(var_dic_list()) "
    }
   },
   "types_to_exclude": [
    "module",
    "function",
    "builtin_function_or_method",
    "instance",
    "_Feature"
   ],
   "window_display": false
  }
 },
 "nbformat": 4,
 "nbformat_minor": 4
}
