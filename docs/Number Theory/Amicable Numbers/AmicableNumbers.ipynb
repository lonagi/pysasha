{
 "cells": [
  {
   "cell_type": "markdown",
   "metadata": {},
   "source": [
    "# Дружественные числа. Исследование"
   ]
  },
  {
   "cell_type": "markdown",
   "metadata": {},
   "source": [
    "### #Занимательная Математика\n",
    "\n",
    "#### Весь код на Github, ссылка в конце статьи!"
   ]
  },
  {
   "cell_type": "markdown",
   "metadata": {},
   "source": [
    "Импорт библиотек"
   ]
  },
  {
   "cell_type": "code",
   "execution_count": 1,
   "metadata": {
    "ExecuteTime": {
     "end_time": "2020-05-09T09:21:35.955683Z",
     "start_time": "2020-05-09T09:21:35.101893Z"
    }
   },
   "outputs": [],
   "source": [
    "from IPython.display import Image\n",
    "from IPython.core.display import HTML \n",
    "from IPython.core.interactiveshell import InteractiveShell\n",
    "from scipy.ndimage.filters import gaussian_filter1d\n",
    "from scipy.signal import savgol_filter\n",
    "import numpy as np\n",
    "import sympy as sp\n",
    "import pandas as pd\n",
    "import random as r\n",
    "import time\n",
    "import matplotlib.pyplot as plt\n",
    "import ipyturtle as turtle\n",
    "InteractiveShell.ast_node_interactivity = \"all\"\n",
    "\n",
    "def drawPlot(ss,title=\"Скорости\",y=\"Секунд\",x=\"Номер итерации\"):\n",
    "    fig,ax=plt.subplots(figsize=(6,6))\n",
    "    ax.set_facecolor(\"#F2F2F2\")\n",
    "    ax.grid()\n",
    "    ax.set_title(title)\n",
    "    ax.set_ylabel(y)\n",
    "    ax.set_xlabel(x)\n",
    "    ax.plot(ss)"
   ]
  },
  {
   "cell_type": "code",
   "execution_count": 2,
   "metadata": {
    "ExecuteTime": {
     "end_time": "2020-05-09T09:21:35.988357Z",
     "start_time": "2020-05-09T09:21:35.984133Z"
    }
   },
   "outputs": [
    {
     "data": {
      "text/html": [
       "<img src=\"https://sun9-46.userapi.com/c858036/v858036072/1e3bba/s6JwXFoOgLM.jpg\" width=\"400\"/>"
      ],
      "text/plain": [
       "<IPython.core.display.Image object>"
      ]
     },
     "execution_count": 2,
     "metadata": {},
     "output_type": "execute_result"
    }
   ],
   "source": [
    "Image(url=\"https://sun9-46.userapi.com/c858036/v858036072/1e3bba/s6JwXFoOgLM.jpg\", width=400)"
   ]
  },
  {
   "cell_type": "markdown",
   "metadata": {},
   "source": [
    "Хммм. Что же такое дружественные числа?  \n",
    "\n",
    "Посмотрим на примере:\n",
    "Есть число 220. И есть число 284. Так вот. Они - друзья.\n",
    "\n",
    "Почему? Как определить дружественные числа?\n",
    "Дружественные числа - это такая пара, у которой сумма собственных делителей каждого числа равна другому числу.  \n",
    "\n",
    "Посмотрим на практике. Создадим функцию поиска делителей, а потом просуммируем."
   ]
  },
  {
   "cell_type": "code",
   "execution_count": 3,
   "metadata": {
    "ExecuteTime": {
     "end_time": "2020-05-09T09:21:37.331829Z",
     "start_time": "2020-05-09T09:21:37.326948Z"
    }
   },
   "outputs": [],
   "source": [
    "def Divisors(num): \n",
    "    from math import sqrt as mmsq\n",
    "    s=set([1])\n",
    "    i=1\n",
    "    a=int(mmsq(num)+1)\n",
    "    while i<=a: \n",
    "        if(num//i==num):\n",
    "            i+=1\n",
    "            continue\n",
    "        if (num%i==0): \n",
    "            if (num//i!=i): \n",
    "                s.add(num//i)\n",
    "            s.add(i)\n",
    "        i+=1\n",
    "    return s"
   ]
  },
  {
   "cell_type": "code",
   "execution_count": 4,
   "metadata": {
    "ExecuteTime": {
     "end_time": "2020-05-09T09:21:37.906492Z",
     "start_time": "2020-05-09T09:21:37.901639Z"
    }
   },
   "outputs": [
    {
     "data": {
      "text/plain": [
       "({1, 2, 4, 5, 10, 11, 20, 22, 44, 55, 110}, ' #Делители числа 220')"
      ]
     },
     "execution_count": 4,
     "metadata": {},
     "output_type": "execute_result"
    },
    {
     "data": {
      "text/plain": [
       "({1, 2, 4, 71, 142}, ' #Делители числа 284')"
      ]
     },
     "execution_count": 4,
     "metadata": {},
     "output_type": "execute_result"
    }
   ],
   "source": [
    "Divisors(220),\" #Делители числа 220\"\n",
    "Divisors(284),\" #Делители числа 284\""
   ]
  },
  {
   "cell_type": "markdown",
   "metadata": {},
   "source": [
    "1+2+4 = 6 Верно? Продолжим прибавлять..  \n",
    "1+2+4+5+10+11+20+22+44+55+110   \n",
    "\n",
    "Ну, или зачем вручную. Для подсчёта суммы любого множества(списка) есть готовая функция **sum()**"
   ]
  },
  {
   "cell_type": "code",
   "execution_count": 5,
   "metadata": {
    "ExecuteTime": {
     "end_time": "2020-05-09T09:21:39.594190Z",
     "start_time": "2020-05-09T09:21:39.589657Z"
    }
   },
   "outputs": [
    {
     "data": {
      "text/plain": [
       "284"
      ]
     },
     "execution_count": 5,
     "metadata": {},
     "output_type": "execute_result"
    },
    {
     "data": {
      "text/plain": [
       "220"
      ]
     },
     "execution_count": 5,
     "metadata": {},
     "output_type": "execute_result"
    }
   ],
   "source": [
    "sum(Divisors(220))\n",
    "sum(Divisors(284))"
   ]
  },
  {
   "cell_type": "markdown",
   "metadata": {},
   "source": [
    "И что мы наблюдаем? Сумма собственных делителей у 220 равна 284, а у числа 284 сумма - 220  \n",
    "Поэтому эти числа и являются парой друзей :)"
   ]
  },
  {
   "cell_type": "code",
   "execution_count": 6,
   "metadata": {
    "ExecuteTime": {
     "end_time": "2020-05-09T09:21:41.316355Z",
     "start_time": "2020-05-09T09:21:41.312948Z"
    }
   },
   "outputs": [
    {
     "data": {
      "text/html": [
       "<img src=\"https://wikimedia.org/api/rest_v1/media/math/render/svg/f5f9a3fcecf20f39301b0f651492c3fbe712262d\"/>"
      ],
      "text/plain": [
       "<IPython.core.display.Image object>"
      ]
     },
     "execution_count": 6,
     "metadata": {},
     "output_type": "execute_result"
    }
   ],
   "source": [
    "Image(url=\"https://wikimedia.org/api/rest_v1/media/math/render/svg/f5f9a3fcecf20f39301b0f651492c3fbe712262d\")"
   ]
  },
  {
   "cell_type": "code",
   "execution_count": 7,
   "metadata": {
    "ExecuteTime": {
     "end_time": "2020-05-09T09:21:41.563689Z",
     "start_time": "2020-05-09T09:21:41.560579Z"
    }
   },
   "outputs": [
    {
     "data": {
      "text/html": [
       "<img src=\"https://wikimedia.org/api/rest_v1/media/math/render/svg/4c5a454d5e4adb6fb2e7e3e467e0804e28d01824\"/>"
      ],
      "text/plain": [
       "<IPython.core.display.Image object>"
      ]
     },
     "execution_count": 7,
     "metadata": {},
     "output_type": "execute_result"
    }
   ],
   "source": [
    "Image(url=\"https://wikimedia.org/api/rest_v1/media/math/render/svg/4c5a454d5e4adb6fb2e7e3e467e0804e28d01824\")"
   ]
  },
  {
   "cell_type": "markdown",
   "metadata": {},
   "source": [
    "А ещё кстати говоря, эта пара является первой из всего списка дружественных чисел!"
   ]
  },
  {
   "cell_type": "markdown",
   "metadata": {},
   "source": [
    "Кстати интересный факт, но хоть нам и известно уже огромное количество таких пар, мы не знаем есть ли такая пара, у которой числа были разной чётности. Вот например 220 и 284 чётные...Есть числа, где первое и второе нечётные, но чтобы один чётный, другой нечётный, такого мы не знаем ещё."
   ]
  },
  {
   "cell_type": "markdown",
   "metadata": {
    "ExecuteTime": {
     "end_time": "2020-05-06T21:42:57.715798Z",
     "start_time": "2020-05-06T21:42:57.712662Z"
    }
   },
   "source": [
    "А вот возникает наверное вопрос. Как находить эти пары?  \n",
    "Конкретной формулы пока ещё нет для этих чисел, поэтому я создал итерационную фунцию.  \n",
    "\n",
    "Для этого я создал функцию **AmicableNumber()**, которая на вход принимает какое-либо число. В самой функции алгоритм находит друга, если он есть на ближайшей дистанции по числовой оси."
   ]
  },
  {
   "cell_type": "code",
   "execution_count": 8,
   "metadata": {
    "ExecuteTime": {
     "end_time": "2020-05-09T09:21:44.933641Z",
     "start_time": "2020-05-09T09:21:44.927737Z"
    }
   },
   "outputs": [],
   "source": [
    "def AmicableNumber(k,returni=False):  \n",
    "    allDels = dict()\n",
    "    from itertools import chain\n",
    "    concatenated = chain( range(k, int(k*1.6)+1 ),range(k, int(k/1.6)+1 ,-1) )\n",
    "    for i in concatenated:\n",
    "        if(str(i) not in allDels):\n",
    "            allDels[str(i)] = Divisors(i)\n",
    "        if(i != k and sum(allDels[str(i)]) == k and sum(allDels[str(k)]) == i):\n",
    "            if(returni):\n",
    "                return (k,i)\n",
    "            else:\n",
    "                print(k,\"->\",i)  "
   ]
  },
  {
   "cell_type": "code",
   "execution_count": 9,
   "metadata": {
    "ExecuteTime": {
     "end_time": "2020-05-09T09:21:46.335928Z",
     "start_time": "2020-05-09T09:21:46.330391Z"
    }
   },
   "outputs": [
    {
     "name": "stdout",
     "output_type": "stream",
     "text": [
      "220 -> 284\n"
     ]
    }
   ],
   "source": [
    "AmicableNumber(1) #Например тут ответа нет\n",
    "AmicableNumber(219) #Например тут ответа нет\n",
    "AmicableNumber(220) #А тут уже есть"
   ]
  },
  {
   "cell_type": "markdown",
   "metadata": {},
   "source": [
    "Если не понятно, что я имел в виду под \"дистанциями\", то объясню.  Для начала нам нужно найти хотя-бы 5 пар дружественных чисел. "
   ]
  },
  {
   "cell_type": "code",
   "execution_count": 10,
   "metadata": {
    "ExecuteTime": {
     "end_time": "2020-05-09T09:26:09.074514Z",
     "start_time": "2020-05-09T09:21:48.463956Z"
    }
   },
   "outputs": [
    {
     "name": "stdout",
     "output_type": "stream",
     "text": [
      "[{(1184, 1210), (220, 284), (5020, 5564), (6232, 6368), (2620, 2924)}]\n"
     ]
    }
   ],
   "source": [
    "AmicableNumbers=[]\n",
    "i=0\n",
    "while len(AmicableNumbers)!=10:\n",
    "    i+=1\n",
    "    amn=AmicableNumber(i,True)\n",
    "    if(amn is not None):\n",
    "        AmicableNumbers.append(amn)\n",
    "    \n",
    "AmicableNumbers=[{tuple(sorted(amn)) for amn in AmicableNumbers}]\n",
    "print(AmicableNumbers)"
   ]
  },
  {
   "cell_type": "markdown",
   "metadata": {},
   "source": [
    "Решил найти только первые 5 пар, потому что таким алгоритмом всё это вычисляется примерно 10 минут.  \n",
    "А как он работает?\n",
    "\n",
    "Мы просто перебираем относительно заданного числа x в интервале x/1.6 -> 1.6x  \n",
    "Это значительно ускоряет программу, но всё ещё недостаточно.  \n",
    "Вопрос, почему именно такие цифры?\n",
    "\n",
    "Показываю. Возьмём первые 10 пар дружественных чисел, а потом составим вектор из отношений чисел в парах.\n"
   ]
  },
  {
   "cell_type": "code",
   "execution_count": 11,
   "metadata": {
    "ExecuteTime": {
     "end_time": "2020-05-09T09:26:09.112307Z",
     "start_time": "2020-05-09T09:26:09.103201Z"
    }
   },
   "outputs": [
    {
     "data": {
      "text/html": [
       "<div>\n",
       "<style scoped>\n",
       "    .dataframe tbody tr th:only-of-type {\n",
       "        vertical-align: middle;\n",
       "    }\n",
       "\n",
       "    .dataframe tbody tr th {\n",
       "        vertical-align: top;\n",
       "    }\n",
       "\n",
       "    .dataframe thead th {\n",
       "        text-align: right;\n",
       "    }\n",
       "</style>\n",
       "<table border=\"1\" class=\"dataframe\">\n",
       "  <thead>\n",
       "    <tr style=\"text-align: right;\">\n",
       "      <th></th>\n",
       "      <th>0</th>\n",
       "      <th>1</th>\n",
       "    </tr>\n",
       "  </thead>\n",
       "  <tbody>\n",
       "    <tr>\n",
       "      <th>0</th>\n",
       "      <td>220</td>\n",
       "      <td>284</td>\n",
       "    </tr>\n",
       "    <tr>\n",
       "      <th>1</th>\n",
       "      <td>1184</td>\n",
       "      <td>1210</td>\n",
       "    </tr>\n",
       "    <tr>\n",
       "      <th>2</th>\n",
       "      <td>2620</td>\n",
       "      <td>2924</td>\n",
       "    </tr>\n",
       "    <tr>\n",
       "      <th>3</th>\n",
       "      <td>5020</td>\n",
       "      <td>5564</td>\n",
       "    </tr>\n",
       "    <tr>\n",
       "      <th>4</th>\n",
       "      <td>6232</td>\n",
       "      <td>6368</td>\n",
       "    </tr>\n",
       "    <tr>\n",
       "      <th>5</th>\n",
       "      <td>10744</td>\n",
       "      <td>10856</td>\n",
       "    </tr>\n",
       "    <tr>\n",
       "      <th>6</th>\n",
       "      <td>12285</td>\n",
       "      <td>14595</td>\n",
       "    </tr>\n",
       "    <tr>\n",
       "      <th>7</th>\n",
       "      <td>17296</td>\n",
       "      <td>18416</td>\n",
       "    </tr>\n",
       "    <tr>\n",
       "      <th>8</th>\n",
       "      <td>63020</td>\n",
       "      <td>76084</td>\n",
       "    </tr>\n",
       "    <tr>\n",
       "      <th>9</th>\n",
       "      <td>66928</td>\n",
       "      <td>66992</td>\n",
       "    </tr>\n",
       "  </tbody>\n",
       "</table>\n",
       "</div>"
      ],
      "text/plain": [
       "       0      1\n",
       "0    220    284\n",
       "1   1184   1210\n",
       "2   2620   2924\n",
       "3   5020   5564\n",
       "4   6232   6368\n",
       "5  10744  10856\n",
       "6  12285  14595\n",
       "7  17296  18416\n",
       "8  63020  76084\n",
       "9  66928  66992"
      ]
     },
     "execution_count": 11,
     "metadata": {},
     "output_type": "execute_result"
    }
   ],
   "source": [
    "df=pd.DataFrame([(220,284),(1184,1210),(2620,2924),(5020,5564),(6232,6368),(10744,10856),(12285,14595),(17296,18416),(63020,76084),(66928,66992)])\n",
    "df"
   ]
  },
  {
   "cell_type": "code",
   "execution_count": 12,
   "metadata": {
    "ExecuteTime": {
     "end_time": "2020-05-09T09:26:09.546796Z",
     "start_time": "2020-05-09T09:26:09.150991Z"
    }
   },
   "outputs": [
    {
     "data": {
      "image/png": "[encoded data removed]",
      "text/plain": [
       "<Figure size 432x432 with 1 Axes>"
      ]
     },
     "metadata": {
      "needs_background": "light"
     },
     "output_type": "display_data"
    }
   ],
   "source": [
    "ratio=[i[1]/i[0] for i in df.to_numpy()]\n",
    "drawPlot(ratio,title=\"Отношения пар\",x=\"Номер пары\",y=\"Отношение\")"
   ]
  },
  {
   "cell_type": "markdown",
   "metadata": {},
   "source": [
    "На данном графике мы видим по оси Х номер пары, а на оси У отношение большего числа в паре к меньшему.\n",
    "Это своего рода расстояние от 1 до другого числа.  \n",
    "То, есть 220 умножить на 1.29, мы получим 284. Нет смысла искать пару этому числу, если умножать больше чем на 1.29  \n",
    "\n",
    "У другого числа расстояние до его пары вообще близкое.   \n",
    "В целом среднее соотношение пар"
   ]
  },
  {
   "cell_type": "code",
   "execution_count": 13,
   "metadata": {
    "ExecuteTime": {
     "end_time": "2020-05-09T09:26:09.593339Z",
     "start_time": "2020-05-09T09:26:09.590315Z"
    }
   },
   "outputs": [
    {
     "data": {
      "text/plain": [
       "1.1030557457540984"
      ]
     },
     "execution_count": 13,
     "metadata": {},
     "output_type": "execute_result"
    }
   ],
   "source": [
    "np.mean(ratio)"
   ]
  },
  {
   "cell_type": "markdown",
   "metadata": {},
   "source": [
    "Кстати, раз уж мы заговорили про соотношения, попробуем составить числовую последовательность из дружественных чисел  \n",
    "А затем найдём соотношения чисел к предыдущим в таком ряду."
   ]
  },
  {
   "cell_type": "code",
   "execution_count": 14,
   "metadata": {
    "ExecuteTime": {
     "end_time": "2020-05-09T09:26:09.641253Z",
     "start_time": "2020-05-09T09:26:09.632712Z"
    }
   },
   "outputs": [
    {
     "data": {
      "text/plain": [
       "array([  220,   284,  1184,  1210,  2620,  2924,  5020,  5564,  6232,\n",
       "        6368, 10744, 10856, 12285, 14595, 17296, 18416, 63020, 76084,\n",
       "       66928, 66992])"
      ]
     },
     "execution_count": 14,
     "metadata": {},
     "output_type": "execute_result"
    }
   ],
   "source": [
    "seq=df.to_numpy().flatten()\n",
    "seq #Собственно первые 20 чисел последовательности (10 пар)"
   ]
  },
  {
   "cell_type": "code",
   "execution_count": 15,
   "metadata": {
    "ExecuteTime": {
     "end_time": "2020-05-09T09:26:09.836376Z",
     "start_time": "2020-05-09T09:26:09.681621Z"
    }
   },
   "outputs": [
    {
     "data": {
      "image/png": "[encoded data removed]",
      "text/plain": [
       "<Figure size 432x432 with 1 Axes>"
      ]
     },
     "metadata": {
      "needs_background": "light"
     },
     "output_type": "display_data"
    }
   ],
   "source": [
    "drawPlot(seq,title=\"Последовательность\",x=\"Номер числа\",y=\"Число\")"
   ]
  },
  {
   "cell_type": "markdown",
   "metadata": {},
   "source": [
    "Для начала я показал график, где мы видим как изменяется число со временем во всей последовательности."
   ]
  },
  {
   "cell_type": "code",
   "execution_count": 16,
   "metadata": {
    "ExecuteTime": {
     "end_time": "2020-05-09T09:26:10.020174Z",
     "start_time": "2020-05-09T09:26:09.877355Z"
    }
   },
   "outputs": [
    {
     "data": {
      "image/png": "[encoded data removed]",
      "text/plain": [
       "<Figure size 432x432 with 1 Axes>"
      ]
     },
     "metadata": {
      "needs_background": "light"
     },
     "output_type": "display_data"
    }
   ],
   "source": [
    "ratio = [seq[i]/seq[i-1] for i in range(1,len(seq))]\n",
    "drawPlot(ratio,title=\"Отношение чисел\",x=\"Номер числа\",y=\"Отношение\")"
   ]
  },
  {
   "cell_type": "markdown",
   "metadata": {},
   "source": [
    "Вот пожалуйста, мы видим, что отношения чисел во всей последовательности отличаются от отношений чисел внутри пар!"
   ]
  },
  {
   "cell_type": "markdown",
   "metadata": {},
   "source": [
    "Найдём производную графика. Да, ряд не сходится, но мы можем узнать скорость изменения отношений. "
   ]
  },
  {
   "cell_type": "code",
   "execution_count": 17,
   "metadata": {
    "ExecuteTime": {
     "end_time": "2020-05-09T09:26:10.205621Z",
     "start_time": "2020-05-09T09:26:10.061343Z"
    }
   },
   "outputs": [
    {
     "data": {
      "image/png": "[encoded data removed]",
      "text/plain": [
       "<Figure size 432x432 with 1 Axes>"
      ]
     },
     "metadata": {
      "needs_background": "light"
     },
     "output_type": "display_data"
    }
   ],
   "source": [
    "dratio = [ratio[i]-ratio[i-1] for i in range(1,len(ratio))]\n",
    "drawPlot(dratio,title=\"Скорость отношений чисел\",x=\"Отношение\",y=\"Скорость\")"
   ]
  },
  {
   "cell_type": "markdown",
   "metadata": {},
   "source": [
    "А ускорение?)"
   ]
  },
  {
   "cell_type": "code",
   "execution_count": 18,
   "metadata": {
    "ExecuteTime": {
     "end_time": "2020-05-09T09:26:10.392212Z",
     "start_time": "2020-05-09T09:26:10.247616Z"
    }
   },
   "outputs": [
    {
     "data": {
      "image/png": "[encoded data removed]",
      "text/plain": [
       "<Figure size 432x432 with 1 Axes>"
      ]
     },
     "metadata": {
      "needs_background": "light"
     },
     "output_type": "display_data"
    }
   ],
   "source": [
    "ddratio = [dratio[i]-dratio[i-1] for i in range(1,len(dratio))]\n",
    "drawPlot(ddratio,title=\"Ускорение отношений чисел\",x=\"Скорость\",y=\"Ускорение\")"
   ]
  },
  {
   "cell_type": "markdown",
   "metadata": {},
   "source": [
    "В целом не изменилось особо. Ах..мы это исследовали графики соотношений чисел!  \n",
    "Сделаем тоже самое с самой последовательностью.   \n",
    "Так мы узнаем, похожи ли графики.  \n",
    "  \n",
    "Кстати, скорость ряда -    \n",
    "Другими словами это будет расстояние в единицах от 1 элемента ряда до другого."
   ]
  },
  {
   "cell_type": "code",
   "execution_count": 19,
   "metadata": {
    "ExecuteTime": {
     "end_time": "2020-05-09T09:26:10.593949Z",
     "start_time": "2020-05-09T09:26:10.450995Z"
    }
   },
   "outputs": [
    {
     "data": {
      "image/png": "[encoded data removed]",
      "text/plain": [
       "<Figure size 432x432 with 1 Axes>"
      ]
     },
     "metadata": {
      "needs_background": "light"
     },
     "output_type": "display_data"
    }
   ],
   "source": [
    "dseq = [seq[i]-seq[i-1] for i in range(1,len(seq))]\n",
    "drawPlot(dseq,title=\"Дистанции между числами\",x=\"Номер числа\",y=\"Отношение\")"
   ]
  },
  {
   "cell_type": "markdown",
   "metadata": {},
   "source": [
    "Ого, скорость вроде нарастает, но что же интересно со следующими парами в дружественных числах?  \n",
    "Узнаем ускорение"
   ]
  },
  {
   "cell_type": "code",
   "execution_count": 20,
   "metadata": {
    "ExecuteTime": {
     "end_time": "2020-05-09T09:26:10.797243Z",
     "start_time": "2020-05-09T09:26:10.647902Z"
    }
   },
   "outputs": [
    {
     "data": {
      "image/png": "[encoded data removed]",
      "text/plain": [
       "<Figure size 432x432 with 1 Axes>"
      ]
     },
     "metadata": {
      "needs_background": "light"
     },
     "output_type": "display_data"
    }
   ],
   "source": [
    "ddseq = [dseq[i]-dseq[i-1] for i in range(1,len(dseq))]\n",
    "drawPlot(ddseq,title=\"Ускорение дружественных чисел\",x=\"Номер числа\",y=\"Ускорение\")"
   ]
  },
  {
   "cell_type": "markdown",
   "metadata": {},
   "source": [
    "Графики скорости и ускорения чисел не похожи на то же у их соотношений, но мы замечаем другое!  \n",
    "Не зная все следующие пары чисел после 11, мы можем предполагать, что скорость и ускорение начинают увеличиваться.  \n",
    "\n",
    "В принципе неудивительно.   \n",
    "Если мы вспомним график самого ряда, то заметим, что числа очень сильно увеличиваются со временем."
   ]
  },
  {
   "cell_type": "markdown",
   "metadata": {},
   "source": [
    "#### Плотность   \n",
    "Если вы читали предыдущую мою статью про числа Фибоначчи, то вы уже знаете про плотность последовательности.  \n",
    "\n",
    "Предлагаю исследовать и ряд дружественных чисел на это свойство! +Скорость изменения плотности!)"
   ]
  },
  {
   "cell_type": "code",
   "execution_count": 21,
   "metadata": {
    "ExecuteTime": {
     "end_time": "2020-05-09T09:26:11.064021Z",
     "start_time": "2020-05-09T09:26:10.839897Z"
    }
   },
   "outputs": [
    {
     "data": {
      "image/png": "[encoded data removed]",
      "text/plain": [
       "<Figure size 432x432 with 1 Axes>"
      ]
     },
     "metadata": {
      "needs_background": "light"
     },
     "output_type": "display_data"
    }
   ],
   "source": [
    "densities=[(len(list(filter(lambda x: x < i, sorted(seq))))-1)/i for i in range(200,10000)]\n",
    "drawPlot(densities,\"Изменение плотности\",\"Плотность\",\"Дружественное число\")"
   ]
  },
  {
   "cell_type": "markdown",
   "metadata": {},
   "source": [
    "Ого! Неожиданно. Плотность вроде увеличивается, а потом уменьшается.  \n",
    "Причём, у вас, дорогие читатели, есть возможность поучаствовать в моём исследовании.   \n",
    "Сможете вычислить тангенс угла между проекциями на оХ скачков и осью оХ ?"
   ]
  },
  {
   "cell_type": "code",
   "execution_count": 22,
   "metadata": {
    "ExecuteTime": {
     "end_time": "2020-05-09T09:26:11.287264Z",
     "start_time": "2020-05-09T09:26:11.153491Z"
    }
   },
   "outputs": [
    {
     "data": {
      "image/png": "[encoded data removed]",
      "text/plain": [
       "<Figure size 432x432 with 1 Axes>"
      ]
     },
     "metadata": {
      "needs_background": "light"
     },
     "output_type": "display_data"
    }
   ],
   "source": [
    "ddensities = [densities[i]-densities[i-1] for i in range(1,len(densities))]\n",
    "drawPlot(ddensities,title=\"Скорость плотности\",x=\"Дружественное число\",y=\"Скорсоть\")"
   ]
  },
  {
   "cell_type": "markdown",
   "metadata": {},
   "source": [
    "Ну, значит в целом стремится к нулю, что неудивительно. Ведь числа значительно увеличиваются со временем, а также значительно увеличивается их дистанция от одной пары до другой."
   ]
  },
  {
   "cell_type": "markdown",
   "metadata": {},
   "source": [
    "## Алгоритмы"
   ]
  },
  {
   "cell_type": "markdown",
   "metadata": {},
   "source": [
    "Ну хорошо, а можно ли придумать другой алгоритм нахождения дружественных чисел?  \n",
    "Конечно да   \n",
    "\n",
    "Я даже предлагаю использовать библиотеку **sympy**. Взять функцию от туда и сравнить по скорости обе.   \n",
    "\n",
    "Единственный недостаток. У библиотеки есть функция не нахождение дружественных чисел, а их проверка! Поэтому, самостоятельно создадим двухмерную итерацию."
   ]
  },
  {
   "cell_type": "code",
   "execution_count": 23,
   "metadata": {
    "ExecuteTime": {
     "end_time": "2020-05-09T09:27:22.056501Z",
     "start_time": "2020-05-09T09:27:19.606578Z"
    }
   },
   "outputs": [
    {
     "name": "stdout",
     "output_type": "stream",
     "text": [
      "220 284\n",
      "284 220\n"
     ]
    }
   ],
   "source": [
    "from sympy.ntheory.factor_ import is_amicable\n",
    "\n",
    "for i in range(1,1000):\n",
    "    for j in range(1,1000):\n",
    "        if(is_amicable(i, j)):\n",
    "            print(i,j)"
   ]
  },
  {
   "cell_type": "markdown",
   "metadata": {},
   "source": [
    "Попробуйте воссоздать это на с++  \n",
    "\n",
    "Ведь на Python, циклы работают медленно, поэтому даже замерить в сравнении будет тяжело. Не думаю, что числа получатся годными для сравнения, но попробуем."
   ]
  },
  {
   "cell_type": "code",
   "execution_count": 24,
   "metadata": {
    "ExecuteTime": {
     "end_time": "2020-05-09T09:27:22.210816Z",
     "start_time": "2020-05-09T09:27:22.205927Z"
    }
   },
   "outputs": [
    {
     "name": "stdout",
     "output_type": "stream",
     "text": [
      "CPU times: user 824 µs, sys: 0 ns, total: 824 µs\n",
      "Wall time: 832 µs\n"
     ]
    },
    {
     "data": {
      "text/plain": [
       "True"
      ]
     },
     "execution_count": 24,
     "metadata": {},
     "output_type": "execute_result"
    }
   ],
   "source": [
    "%time is_amicable(1184,1210)"
   ]
  },
  {
   "cell_type": "code",
   "execution_count": 25,
   "metadata": {
    "ExecuteTime": {
     "end_time": "2020-05-09T09:27:22.823362Z",
     "start_time": "2020-05-09T09:27:22.809209Z"
    }
   },
   "outputs": [
    {
     "name": "stdout",
     "output_type": "stream",
     "text": [
      "1184 -> 1210\n",
      "CPU times: user 11.7 ms, sys: 11 µs, total: 11.7 ms\n",
      "Wall time: 11.2 ms\n"
     ]
    }
   ],
   "source": [
    "%time AmicableNumber(1184)"
   ]
  },
  {
   "cell_type": "markdown",
   "metadata": {},
   "source": [
    "Так, мы видим, что нахождение пары для ЧИСЛА намного дольше, чем проверка уже готовой пары.   \n",
    "Однако при переборе пар чисел при проверках уходит намного больше времени!"
   ]
  },
  {
   "cell_type": "markdown",
   "metadata": {},
   "source": [
    "## Другие способы построения ряда"
   ]
  },
  {
   "cell_type": "markdown",
   "metadata": {},
   "source": [
    "Так или иначе, если хорошо поинтересоваться данной темой, можно найти ещё два способа построения последовательности дружественных чисел.   \n",
    "\n",
    "Представляю вашему вниманию: \"Формула Сабита ибн Курра\" и \"Метод Вальтера Боро\""
   ]
  },
  {
   "cell_type": "markdown",
   "metadata": {},
   "source": [
    "Начну с первого.\n",
    "\n",
    "Если для натурального числа n>1 все три числа p,q,r простые, то будет пара дружественных чисел по формуле: (2^{n} * pq, 2^{n} * r),  \n",
    "где:  \n",
    "p = (3 * 2^{n-1}) - 1  \n",
    "q = (3 * 2^n) - 1  \n",
    "r = (9 * 2^{2*n-1})-1"
   ]
  },
  {
   "cell_type": "code",
   "execution_count": 26,
   "metadata": {
    "ExecuteTime": {
     "end_time": "2020-05-09T09:27:24.850923Z",
     "start_time": "2020-05-09T09:27:24.847636Z"
    }
   },
   "outputs": [],
   "source": [
    "def _isPrime(n):\n",
    "    if n%2==0:\n",
    "        return n==2\n",
    "    d=3\n",
    "    while d*d<=n and n%d!=0:\n",
    "        d+=2\n",
    "    return d*d>n   "
   ]
  },
  {
   "cell_type": "code",
   "execution_count": 27,
   "metadata": {
    "ExecuteTime": {
     "end_time": "2020-05-09T09:27:25.051635Z",
     "start_time": "2020-05-09T09:27:25.047720Z"
    }
   },
   "outputs": [],
   "source": [
    "def Formula_Sabita_ibn_Kurra(n):    \n",
    "    p = (3 * 2**(n-1)) - 1\n",
    "    q = (3 * 2**n) - 1\n",
    "    r = (9 * 2**(2*n-1))-1\n",
    "    \n",
    "    if(_isPrime(p) and _isPrime(q) and _isPrime(r)):\n",
    "        return ( 2**n * p * q, 2**n * r )"
   ]
  },
  {
   "cell_type": "code",
   "execution_count": 28,
   "metadata": {
    "ExecuteTime": {
     "end_time": "2020-05-09T09:27:25.352017Z",
     "start_time": "2020-05-09T09:27:25.348704Z"
    }
   },
   "outputs": [
    {
     "data": {
      "text/plain": [
       "(220, 284)"
      ]
     },
     "execution_count": 28,
     "metadata": {},
     "output_type": "execute_result"
    }
   ],
   "source": [
    "Formula_Sabita_ibn_Kurra(2) # Нашло!"
   ]
  },
  {
   "cell_type": "markdown",
   "metadata": {},
   "source": [
    "Эта формула даёт пары (220, 284), (17 296, 18 416) и (9 363 584, 9 437 056) соответственно для n=2,4,7 ,\n",
    "но больше никаких пар дружественных чисел, которые могли бы быть получены по этой формуле для n < 20000 не существует.  \n",
    "\n",
    "Кроме того, многие пары дружественных чисел, например, (6232, 6368), не могут быть получены по этой формуле.  \n",
    "\n",
    "Так, что эта формула вышла именно для целей Занимательной Математики 😀  \n",
    "\n",
    "---  \n",
    "\n",
    "Так, а что по Методу Вальтера ?"
   ]
  },
  {
   "cell_type": "markdown",
   "metadata": {},
   "source": [
    "Если для пары дружественных чисел вида A=a*u и B=a*s числа s и p=u+s+1 являются простыми, причём a не делится на p, то при всех тех натуральных n, при которых оба числа q_{1}=(u+1)p^{{n+1}}-1 и q_{2}=(u+1)(s+1)p^{n}-1 просты, числа  \n",
    "B_{1}=Ap^{n}q_{1} и B_{2}=ap^{n}q_{2} — дружественные.  \n",
    "\n",
    "Сложно? Понимаю. Сам долго пытался понять алгоритм"
   ]
  },
  {
   "cell_type": "code",
   "execution_count": 29,
   "metadata": {
    "ExecuteTime": {
     "end_time": "2020-05-09T09:27:27.365596Z",
     "start_time": "2020-05-09T09:27:27.360573Z"
    }
   },
   "outputs": [],
   "source": [
    "def Walter_Borough(n,A=220,a=4,u=55,s=71):\n",
    "    p = s+u+1\n",
    "    q1 = (u+1)*p**n - 1\n",
    "    if(_isPrime(q1)):\n",
    "        q2 = (u+1)*(s+1)*p**n - 1\n",
    "        if(_isPrime(q2)):   \n",
    "            return ( A*p**n *q1, a*p**n *q2 )"
   ]
  },
  {
   "cell_type": "code",
   "execution_count": 30,
   "metadata": {
    "ExecuteTime": {
     "end_time": "2020-05-09T09:27:27.818590Z",
     "start_time": "2020-05-09T09:27:27.814765Z"
    }
   },
   "outputs": [
    {
     "data": {
      "text/plain": [
       "(3204978428740, 4195612705532)"
      ]
     },
     "execution_count": 30,
     "metadata": {},
     "output_type": "execute_result"
    }
   ],
   "source": [
    "Walter_Borough(2)"
   ]
  },
  {
   "cell_type": "markdown",
   "metadata": {},
   "source": [
    "Но и тут найти весь ряд не выйдет. То есть можно лишь найти огромные числа!  \n",
    "Попробуем, но это будут лоскутики от всей последовательности дружественных чисел"
   ]
  },
  {
   "cell_type": "code",
   "execution_count": 31,
   "metadata": {
    "ExecuteTime": {
     "end_time": "2020-05-09T09:27:55.556520Z",
     "start_time": "2020-05-09T09:27:29.292725Z"
    }
   },
   "outputs": [
    {
     "name": "stdout",
     "output_type": "stream",
     "text": [
      "2,"
     ]
    }
   ],
   "source": [
    "for i in range(1,50):\n",
    "    if(Walter_Borough(i)):\n",
    "        print(i,end=\",\")"
   ]
  },
  {
   "cell_type": "markdown",
   "metadata": {
    "ExecuteTime": {
     "end_time": "2020-05-08T22:31:35.742188Z",
     "start_time": "2020-05-08T22:31:35.738856Z"
    }
   },
   "source": [
    "Решил проверить первые 50 чисел по Вальтеру, но в итоге ушло 26 секунд...так ещё и найдена была только одна пара :)"
   ]
  },
  {
   "cell_type": "markdown",
   "metadata": {},
   "source": [
    "Почему так долго? В принципе, давайте спроектируем график скорости, чтобы разобраться"
   ]
  },
  {
   "cell_type": "code",
   "execution_count": 32,
   "metadata": {
    "ExecuteTime": {
     "end_time": "2020-05-09T09:28:24.054955Z",
     "start_time": "2020-05-09T09:27:55.707329Z"
    }
   },
   "outputs": [
    {
     "data": {
      "text/plain": [
       "(3204978428740, 4195612705532)"
      ]
     },
     "execution_count": 32,
     "metadata": {},
     "output_type": "execute_result"
    }
   ],
   "source": [
    "#Создаём массив, в котором будем хранить тайминги\n",
    "s = np.array([])\n",
    "\n",
    "#Сделаем итерации такие, что будем подавать на вход индексы от 1 до 50\n",
    "for i in range(1,50):\n",
    "    \n",
    "    #Включаем \"таймер\"\n",
    "    start_time = time.time()\n",
    "    \n",
    "    Walter_Borough(i)\n",
    "    \n",
    "    #Стоп таймер (время зафиксируется как только закончится выполнения рекурсии)\n",
    "    end_time = (time.time() - start_time)\n",
    "    s=np.append(s,end_time)\n",
    "    #print(\"--- %s seconds ---\" % end_time)"
   ]
  },
  {
   "cell_type": "code",
   "execution_count": 33,
   "metadata": {
    "ExecuteTime": {
     "end_time": "2020-05-09T09:28:24.341550Z",
     "start_time": "2020-05-09T09:28:24.208965Z"
    }
   },
   "outputs": [
    {
     "data": {
      "image/png": "[encoded data removed]",
      "text/plain": [
       "<Figure size 432x432 with 1 Axes>"
      ]
     },
     "metadata": {
      "needs_background": "light"
     },
     "output_type": "display_data"
    }
   ],
   "source": [
    "drawPlot(s,title=\"Скорость Вальтера Боро\",x=\"Номер итерации\",y=\"сек.\")"
   ]
  },
  {
   "cell_type": "markdown",
   "metadata": {},
   "source": [
    "Дело в том, что мы каждый раз проверяем число на простоту, а это в свою очередь разбор числа на делимости.  \n",
    "Поэтому, как попадётся огромное простое число уходит много времени на обработку!\n",
    "\n",
    "\n",
    "---  "
   ]
  },
  {
   "cell_type": "markdown",
   "metadata": {},
   "source": [
    "В целом, я готов предоставить первые дружественные 42 пары (84 числа):\n",
    "\n",
    "220,284,1184,1210,2620,2924,5020,5564,6232,6368,10744,10856,12285,14595,17296,18416,63020,76084,66928,66992,67095,71145,69615,87633,79750,88730,100485,124155,122265,139815,122368,123152,141664,153176,142310,168730,171856,176336,176272,180848,185368,203432,196724,202444,280540,365084,308620,389924,319550,430402,356408,399592,437456,455344,469028,486178,503056,514736,522405,525915,600392,669688,609928,686072,624184,691256,635624,712216,643336,652664,667964,783556,726104,796696,802725,863835,879712,901424,898216,980984,947835,1125765,998104,1043096"
   ]
  },
  {
   "cell_type": "code",
   "execution_count": 34,
   "metadata": {
    "ExecuteTime": {
     "end_time": "2020-05-09T09:28:24.504862Z",
     "start_time": "2020-05-09T09:28:24.497582Z"
    }
   },
   "outputs": [],
   "source": [
    "seq=[220,284,1184,1210,2620,2924,5020,5564,6232,6368,10744,10856,12285,14595,17296,18416,63020,76084,66928,66992,67095,71145,69615,87633,79750,88730,100485,124155,122265,139815,122368,123152,141664,153176,142310,168730,171856,176336,176272,180848,185368,203432,196724,202444,280540,365084,308620,389924,319550,430402,356408,399592,437456,455344,469028,486178,503056,514736,522405,525915,600392,669688,609928,686072,624184,691256,635624,712216,643336,652664,667964,783556,726104,796696,802725,863835,879712,901424,898216,980984,947835,1125765,998104,1043096]"
   ]
  },
  {
   "cell_type": "markdown",
   "metadata": {},
   "source": [
    "### Статистика"
   ]
  },
  {
   "cell_type": "markdown",
   "metadata": {},
   "source": [
    "Узнаем сколько чётных и нечётных чисел в последовательности?  \n",
    "Это также покажет, сколько чётных и нечётных пар!"
   ]
  },
  {
   "cell_type": "code",
   "execution_count": 35,
   "metadata": {
    "ExecuteTime": {
     "end_time": "2020-05-09T09:28:24.663321Z",
     "start_time": "2020-05-09T09:28:24.659473Z"
    }
   },
   "outputs": [
    {
     "data": {
      "text/plain": [
       "68"
      ]
     },
     "execution_count": 35,
     "metadata": {},
     "output_type": "execute_result"
    }
   ],
   "source": [
    "InteractiveShell.ast_node_interactivity = \"last\"\n",
    "\n",
    "EvenAmicable=[i for i in seq if(i%2==0)]\n",
    "len(EvenAmicable)"
   ]
  },
  {
   "cell_type": "code",
   "execution_count": 36,
   "metadata": {
    "ExecuteTime": {
     "end_time": "2020-05-09T09:28:24.883652Z",
     "start_time": "2020-05-09T09:28:24.815791Z"
    }
   },
   "outputs": [
    {
     "data": {
      "text/plain": [
       "''"
      ]
     },
     "execution_count": 36,
     "metadata": {},
     "output_type": "execute_result"
    },
    {
     "data": {
      "image/png": "[encoded data removed]",
      "text/plain": [
       "<Figure size 432x288 with 1 Axes>"
      ]
     },
     "metadata": {},
     "output_type": "display_data"
    }
   ],
   "source": [
    "plt.pie([len(EvenAmicable),84-len(EvenAmicable)], \n",
    "        colors=[\"#A7FF5B\",\"#E7AFFF\"],\n",
    "        labels=[\"Чётные\",\"Нечётные\"], \n",
    "        autopct='%1.1f%%',\n",
    "        shadow=True,\n",
    "        textprops={'color':\"black\"})\n",
    "plt.legend([len(EvenAmicable),84-len(EvenAmicable)])\n",
    ";"
   ]
  },
  {
   "cell_type": "markdown",
   "metadata": {},
   "source": [
    "То есть 68 чисел из 84 - чётные.  \n",
    "И 32 пары из 42 - чётные."
   ]
  },
  {
   "cell_type": "markdown",
   "metadata": {},
   "source": [
    "Исследуем теперь на простоту!"
   ]
  },
  {
   "cell_type": "code",
   "execution_count": 37,
   "metadata": {
    "ExecuteTime": {
     "end_time": "2020-05-09T09:28:25.105735Z",
     "start_time": "2020-05-09T09:28:25.037600Z"
    }
   },
   "outputs": [
    {
     "data": {
      "text/plain": [
       "''"
      ]
     },
     "execution_count": 37,
     "metadata": {},
     "output_type": "execute_result"
    },
    {
     "data": {
      "image/png": "[encoded data removed]",
      "text/plain": [
       "<Figure size 432x288 with 1 Axes>"
      ]
     },
     "metadata": {},
     "output_type": "display_data"
    }
   ],
   "source": [
    "PrimeAmicable=[i for i in seq if(_isPrime(i))]\n",
    "plt.pie([len(PrimeAmicable),84-len(PrimeAmicable)], \n",
    "        colors=[\"#A7FF5B\",\"#E7AFFF\"],\n",
    "        labels=[\"Составные\",\"Простые\"], \n",
    "        autopct='%1.1f%%',\n",
    "        shadow=True,\n",
    "        textprops={'color':\"black\"})\n",
    "plt.legend([len(PrimeAmicable),84-len(PrimeAmicable)])\n",
    ";"
   ]
  },
  {
   "cell_type": "markdown",
   "metadata": {
    "ExecuteTime": {
     "end_time": "2020-05-08T22:47:53.718019Z",
     "start_time": "2020-05-08T22:47:53.714432Z"
    }
   },
   "source": [
    "ШОК Контент! В первых 84 числах ни одно не является простым!"
   ]
  },
  {
   "cell_type": "markdown",
   "metadata": {},
   "source": [
    "### Фракталы"
   ]
  },
  {
   "cell_type": "markdown",
   "metadata": {
    "ExecuteTime": {
     "end_time": "2020-05-08T22:49:42.992547Z",
     "start_time": "2020-05-08T22:49:42.988934Z"
    }
   },
   "source": [
    "В завершение моего доклада по дружественным числам, я бы хотел поиграться с самой интересной частью.  \n",
    "Рисование фракталов.  \n",
    "\n",
    "Хотя в текущем случае выйдет, что мы будем просто рисовать спирали согласну тому или иному углу последовательности"
   ]
  },
  {
   "cell_type": "code",
   "execution_count": 38,
   "metadata": {
    "ExecuteTime": {
     "end_time": "2020-05-09T09:28:25.263072Z",
     "start_time": "2020-05-09T09:28:25.260298Z"
    }
   },
   "outputs": [],
   "source": [
    "ratio=[seq[i]/seq[i-1] for i in range(1,len(seq))]"
   ]
  },
  {
   "cell_type": "markdown",
   "metadata": {},
   "source": [
    "В общем, я нашёл отношения чисел в первых 42 дружественных парах.  \n",
    "Попробуем нарисовать два рисунка. Первый будет рисовать по среднему значению, а второй по мере перечисления списка отношений.  \n",
    "\n",
    "Но вы можете спросить. Как знать насколько поворачивать в спирали? Угол просчитать очень просто.  \n",
    "Мы берём число x. И узнаём угол по формуле angle=2pi/x^2"
   ]
  },
  {
   "cell_type": "markdown",
   "metadata": {},
   "source": [
    "$ угол={{2 \\pi }\\over{x^2}} $"
   ]
  },
  {
   "cell_type": "code",
   "execution_count": 39,
   "metadata": {
    "ExecuteTime": {
     "end_time": "2020-05-09T09:28:25.420601Z",
     "start_time": "2020-05-09T09:28:25.417452Z"
    }
   },
   "outputs": [
    {
     "data": {
      "text/plain": [
       "1.1533085895428854"
      ]
     },
     "execution_count": 39,
     "metadata": {},
     "output_type": "execute_result"
    }
   ],
   "source": [
    "np.mean(ratio)"
   ]
  },
  {
   "cell_type": "markdown",
   "metadata": {},
   "source": [
    "Таким образом, мы знаем среднее отношение дружественных чисел в первых 42 парах.  \n",
    "Значит угол равен:"
   ]
  },
  {
   "cell_type": "code",
   "execution_count": 40,
   "metadata": {
    "ExecuteTime": {
     "end_time": "2020-05-09T09:28:25.582791Z",
     "start_time": "2020-05-09T09:28:25.579013Z"
    }
   },
   "outputs": [
    {
     "data": {
      "text/latex": [
       "$\\displaystyle 270.652128987702$"
      ],
      "text/plain": [
       "270.652128987702"
      ]
     },
     "execution_count": 40,
     "metadata": {},
     "output_type": "execute_result"
    }
   ],
   "source": [
    "angle=sp.N(360/np.mean(ratio)**2)\n",
    "angle"
   ]
  },
  {
   "cell_type": "code",
   "execution_count": 41,
   "metadata": {
    "ExecuteTime": {
     "end_time": "2020-05-09T09:28:25.746741Z",
     "start_time": "2020-05-09T09:28:25.736649Z"
    }
   },
   "outputs": [
    {
     "data": {
      "application/vnd.jupyter.widget-view+json": {
       "model_id": "54ceb361beb04e2abfd6336d4aeb7d87",
       "version_major": 2,
       "version_minor": 0
      },
      "text/plain": [
       "Turtle()"
      ]
     },
     "metadata": {},
     "output_type": "display_data"
    }
   ],
   "source": [
    "#Создаём картинку 300х300\n",
    "\n",
    "N=300\n",
    "t = turtle.Turtle(fixed=False, width=N, height=N)\n",
    "t.hideturtle()\n",
    "t"
   ]
  },
  {
   "cell_type": "code",
   "execution_count": 42,
   "metadata": {
    "ExecuteTime": {
     "end_time": "2020-05-09T09:28:45.765670Z",
     "start_time": "2020-05-09T09:28:25.906140Z"
    }
   },
   "outputs": [],
   "source": [
    "for i in range(15):\n",
    "    for j in range(int(angle)): \n",
    "        t.forward(i/10) \n",
    "        t.left(1)\n",
    "        if(i>10):\n",
    "            time.sleep(0.01) # Чтобы не терять рисунок"
   ]
  },
  {
   "cell_type": "markdown",
   "metadata": {},
   "source": [
    "Получилось что-то примерно типа розочки )))  \n",
    "  \n",
    "А теперь посмотрим на динамический угол!"
   ]
  },
  {
   "cell_type": "code",
   "execution_count": 43,
   "metadata": {
    "ExecuteTime": {
     "end_time": "2020-05-09T09:28:45.932234Z",
     "start_time": "2020-05-09T09:28:45.922799Z"
    }
   },
   "outputs": [
    {
     "data": {
      "application/vnd.jupyter.widget-view+json": {
       "model_id": "6bb7e1877d9b4a12bd935fe456cb32f7",
       "version_major": 2,
       "version_minor": 0
      },
      "text/plain": [
       "Turtle()"
      ]
     },
     "metadata": {},
     "output_type": "display_data"
    }
   ],
   "source": [
    "t = turtle.Turtle(fixed=False, width=N, height=N)\n",
    "t.hideturtle()\n",
    "t"
   ]
  },
  {
   "cell_type": "code",
   "execution_count": 44,
   "metadata": {
    "ExecuteTime": {
     "end_time": "2020-05-09T09:29:38.398812Z",
     "start_time": "2020-05-09T09:28:46.090429Z"
    }
   },
   "outputs": [],
   "source": [
    "for i in range(15):\n",
    "    angle=sp.N(360/ratio[i]**2)\n",
    "    for j in range(int(angle)): \n",
    "        t.forward(i/10) \n",
    "        t.left(1)\n",
    "        if(i>10):\n",
    "            time.sleep(0.04) # Чтобы не терять рисунок"
   ]
  },
  {
   "cell_type": "markdown",
   "metadata": {},
   "source": [
    "В целом криво получается при динамике, но уже более менее красивый рисунок при среднем значении отношений дружественных чисел.   \n",
    "Хотя мы представляем эти пары как друзей, так или иначе в древности они вызывали ассоциацию и с любовной парой. Поэтому, забавно, что рисунок спирали похож на розу. (Мне так кажется)"
   ]
  },
  {
   "cell_type": "markdown",
   "metadata": {},
   "source": [
    "### Подведём итог"
   ]
  },
  {
   "cell_type": "markdown",
   "metadata": {},
   "source": [
    "Если говорить об открытых проблемах в математике дружественных чисел:  \n",
    "\n",
    "Неизвестно, конечно или бесконечно количество пар дружественных чисел. На апрель 2016 года известно более 1 000 000 000 пар дружественных чисел. Все они состоят из чисел одинаковой чётности.  \n",
    "\n",
    "Неизвестно, существует ли чётно-нечётная пара дружественных чисел.  \n",
    "\n",
    "Также неизвестно, существуют ли взаимно простые дружественные числа, но если такая пара дружественных чисел существует, то их произведение должно быть больше 1067."
   ]
  },
  {
   "cell_type": "markdown",
   "metadata": {},
   "source": [
    "# Конец  \n",
    "\n",
    "На этом всё, дорогие читатели!  \n",
    "Надеюсь вам было интересно узнать что-то вроде такого из занимательной математики 😍\n",
    "\n",
    "Ожидайте следующей статьи, в которой будет исследование компанейских чисел.\n",
    "Если у вас есть мысли или пожелания, обязательно напишите...Может найду что подправить или добавить."
   ]
  },
  {
   "cell_type": "markdown",
   "metadata": {},
   "source": [
    "---\n",
    "\n",
    "Здесь ссылка на датасеты дружественных чисел\n",
    "[Дружественные числа](https://github.com/lonagi/pysasha/tree/master/datasets/Number%20Theory/Amicable%20Numbers)  \n",
    "\n",
    "Датасет хранит 42 пары, а так есть отдельные, для последовательности из 84 чисел."
   ]
  },
  {
   "cell_type": "markdown",
   "metadata": {},
   "source": [
    "Если есть желание прочитать статью на другом источнике, то пожалуйста, вот ниже ссылки:\n",
    "    \n",
    "[ВКонтакте](vk.com/@lonagi-druzhestvennye-chisla-issledovanie)  \n",
    "[Instagram](https://vk.com/lonagi)    \n",
    "[Facebook](https://www.facebook.com/%D0%97%D0%B0%D0%BD%D0%B8%D0%BC%D0%B0%D1%82%D0%B5%D0%BB%D1%8C%D0%BD%D0%B0%D1%8F-%D0%BC%D0%B0%D1%82%D0%B5%D0%BC%D0%B0%D1%82%D0%B8%D0%BA%D0%B0-%D0%BE%D1%82-Lonagi-112410007105730)    \n",
    "[Github](https://github.com/lonagi/pysasha/blob/master/docs/Number%20Theory/Amicable%20Numbers/AmicableNumbers.md)  "
   ]
  },
  {
   "cell_type": "code",
   "execution_count": null,
   "metadata": {},
   "outputs": [],
   "source": []
  }
 ],
 "metadata": {
  "kernelspec": {
   "display_name": "Python 3",
   "language": "python",
   "name": "python3"
  },
  "language_info": {
   "codemirror_mode": {
    "name": "ipython",
    "version": 3
   },
   "file_extension": ".py",
   "mimetype": "text/x-python",
   "name": "python",
   "nbconvert_exporter": "python",
   "pygments_lexer": "ipython3",
   "version": "3.7.6"
  },
  "varInspector": {
   "cols": {
    "lenName": 16,
    "lenType": 16,
    "lenVar": 40
   },
   "kernels_config": {
    "python": {
     "delete_cmd_postfix": "",
     "delete_cmd_prefix": "del ",
     "library": "var_list.py",
     "varRefreshCmd": "print(var_dic_list())"
    },
    "r": {
     "delete_cmd_postfix": ") ",
     "delete_cmd_prefix": "rm(",
     "library": "var_list.r",
     "varRefreshCmd": "cat(var_dic_list()) "
    }
   },
   "types_to_exclude": [
    "module",
    "function",
    "builtin_function_or_method",
    "instance",
    "_Feature"
   ],
   "window_display": false
  }
 },
 "nbformat": 4,
 "nbformat_minor": 4
}